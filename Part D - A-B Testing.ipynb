{
 "cells": [
  {
   "cell_type": "markdown",
   "id": "b9928721",
   "metadata": {},
   "source": [
    "# A. Project Name:  IMDb Successful Movie.\n",
    "- **Student Name:** Eduardo Galindez.\n",
    "- **Coding Dojo Bootcamp:** Data Science.\n",
    "  - **Stack:** Data Enrichment.\n",
    "- **Date:** September 23th, 2022."
   ]
  },
  {
   "cell_type": "markdown",
   "id": "ee105cc2",
   "metadata": {},
   "source": [
    "# B. Project Objective\n",
    "Our Stakeholder Wants More Data!\n",
    "- After investigating the preview of our data from Part A, the stakeholder realized that there is no financial information included in the IMDB data (e.g. budget or revenue).\n",
    "    - Our stakeholder identified The Movie Database ([TMDB](https://www.themoviedb.org/)) as a great source of financial data . Thankfully, TMDB offers a free API for programmatic access to their data!\n",
    "- The stakeholder wants we to extract the budget, revenue, and MPAA Rating (G/PG/PG-13/R), which is also called \"Certification\"."
   ]
  },
  {
   "cell_type": "markdown",
   "id": "0887afa0",
   "metadata": {},
   "source": [
    "# C. Project Statement\n"
   ]
  },
  {
   "cell_type": "markdown",
   "id": "6c393f17",
   "metadata": {},
   "source": [
    "### Specifications:\n",
    "\n",
    "Our stakeholder would like you to extract and save the results for movies that meet all of the criteria established in Part A of the project.\n",
    "\n",
    "As a proof-of-concept, they requested we perform a test extraction of movies that started in 2000 or 2001\n",
    "\n",
    "Each year should be saved as a separate .csv.gz file\n",
    "\n",
    "Confirm Your API Function works.\n",
    "\n",
    "- In order to ensure our function for extracting movie data from TMDB is working, test the function on these 2 movie ids: tt0848228 (\"The Avengers\") and tt0332280 (\"The Notebook\"). Make sure that the function runs without error and that it returns the correct movie's data for both test ids.\n",
    "\n",
    "- Once you have retrieved and saved the final results to 2 separate .csv.gz files, move on to a Exploratory Data Analysis to explore the following questions."
   ]
  },
  {
   "cell_type": "markdown",
   "id": "122806f0",
   "metadata": {},
   "source": [
    "### Exploratory Data Analysis\n",
    "1. Load in your csv.gz's of results for each year extracted.\n",
    " - Concatenate the data into 1 dataframe for the remainder of the analysis.\n",
    "2. Once you have your data from the API, they would like we to perform some light EDA to show:\n",
    " - How many movies had at least some valid financial information (values > 0 for budget OR revenue)?\n",
    " - Exclude any movies with 0's for budget AND revenue from the remaining visualizations.\n",
    " - How many movies are there in each of the certification categories (G/PG/PG-13/R)?\n",
    " - What is the average revenue per certification category?\n",
    " - What is the average budget per certification category?"
   ]
  },
  {
   "cell_type": "markdown",
   "id": "e3add176",
   "metadata": {},
   "source": [
    "### Deliverable:\n",
    "\n",
    "After we have joined the tmdb results into 1 dataframe in the EDA Notebook:\n",
    "\n",
    "- Save a final merged .csv.gz of all of the tmdb api data.\n",
    "- The file name should be \"tmdb_results_combined.csv.gz\".\n",
    "- Make sure this is pushed to our GitHub repository along with all of the code.\n",
    "- One code file for API calls.\n",
    "- One code file for EDA.\n",
    "- Submit the link."
   ]
  },
  {
   "cell_type": "markdown",
   "id": "87dba2c0",
   "metadata": {},
   "source": [
    "# D. Project Development"
   ]
  },
  {
   "cell_type": "markdown",
   "id": "9f8260b5",
   "metadata": {},
   "source": [
    "## 1.- Libraries & Functions"
   ]
  },
  {
   "cell_type": "code",
   "execution_count": 2,
   "id": "1494bf3e",
   "metadata": {},
   "outputs": [],
   "source": [
    "# Libraries.\n",
    "import numpy as np\n",
    "import pandas as pd\n",
    "import tmdbsimple as tmdb \n",
    "import matplotlib.pyplot as plt\n",
    "import seaborn as sns\n",
    "import os, time, json\n",
    "os.makedirs('Data',exist_ok=True)\n",
    "\n",
    "from tqdm.notebook import tqdm_notebook"
   ]
  },
  {
   "cell_type": "code",
   "execution_count": 3,
   "id": "d93649c6",
   "metadata": {},
   "outputs": [],
   "source": [
    "# Function to get the certification.\n",
    "def get_movie_certification(movie_id):\n",
    "    movie = tmdb.Movies(movie_id)\n",
    "    info = movie.info()\n",
    "    releases = movie.releases()\n",
    "    \n",
    "    for c in releases['countries']:\n",
    "        if c['iso_3166_1'] == \"US\":\n",
    "            info['certifcation'] = c['certification']     \n",
    "    return info"
   ]
  },
  {
   "cell_type": "code",
   "execution_count": 4,
   "id": "a1b23d59",
   "metadata": {},
   "outputs": [],
   "source": [
    "# Function to create our .json file.\n",
    "##  Adapted from: https://www.geeksforgeeks.org/append-to-json-file-using-python/\n",
    "\n",
    "def write_json(new_data, filename):    \n",
    "    with open(filename,'r+') as file:\n",
    "        # First we load existing data into a dict.\n",
    "        file_data = json.load(file)\n",
    "        ## Choose extend or append\n",
    "        if (type(new_data) == list) & (type(file_data) == list):\n",
    "            file_data.extend(new_data)\n",
    "        else:\n",
    "             file_data.append(new_data)\n",
    "        # Sets file's current position at offset.\n",
    "        file.seek(0)\n",
    "        # convert back to json.\n",
    "        json.dump(file_data, file)"
   ]
  },
  {
   "cell_type": "markdown",
   "id": "9bee975a",
   "metadata": {},
   "source": [
    "## 2.-  Data & Connection"
   ]
  },
  {
   "cell_type": "markdown",
   "id": "37799a31",
   "metadata": {},
   "source": [
    "### 2.1.- API connection\n"
   ]
  },
  {
   "cell_type": "code",
   "execution_count": 5,
   "id": "fbf5c496",
   "metadata": {},
   "outputs": [
    {
     "data": {
      "text/plain": [
       "dict_keys(['api-key'])"
      ]
     },
     "execution_count": 5,
     "metadata": {},
     "output_type": "execute_result"
    }
   ],
   "source": [
    "# Loading API credentials.\n",
    "with open('/Users/eduar/.secret/tmdb_api.json', 'r') as file:\n",
    "    login = json.load(file)\n",
    "login.keys()"
   ]
  },
  {
   "cell_type": "code",
   "execution_count": 6,
   "id": "7a9b0334",
   "metadata": {},
   "outputs": [],
   "source": [
    "# Import credentials.\n",
    "tmdb.API_KEY =  login['api-key']"
   ]
  },
  {
   "cell_type": "code",
   "execution_count": 7,
   "id": "49e1f612",
   "metadata": {},
   "outputs": [
    {
     "data": {
      "text/plain": [
       "220000000"
      ]
     },
     "execution_count": 7,
     "metadata": {},
     "output_type": "execute_result"
    }
   ],
   "source": [
    "# Checking the connection with 'The Avengers'.\n",
    "the_avengers_movie = tmdb.Movies('tt0848228')\n",
    "the_avengers_info = the_avengers_movie.info()\n",
    "the_avengers_info['budget']"
   ]
  },
  {
   "cell_type": "code",
   "execution_count": 8,
   "id": "0ea98084",
   "metadata": {},
   "outputs": [
    {
     "data": {
      "text/plain": [
       "29000000"
      ]
     },
     "execution_count": 8,
     "metadata": {},
     "output_type": "execute_result"
    }
   ],
   "source": [
    "# Checking the connection with 'The Notebook'.\n",
    "the_notebook_movie = tmdb.Movies('tt0332280')\n",
    "the_notebook_info = the_notebook_movie.info()\n",
    "the_notebook_info['budget']"
   ]
  },
  {
   "cell_type": "markdown",
   "id": "1b8c309f",
   "metadata": {},
   "source": [
    "### 2.2.- Mount and loading data."
   ]
  },
  {
   "cell_type": "code",
   "execution_count": 9,
   "id": "4972c4f8",
   "metadata": {},
   "outputs": [
    {
     "data": {
      "text/plain": [
       "['.ipynb_checkpoints',\n",
       " 'Chunk data per database',\n",
       " 'final_tmdb_data_2000.csv.gz',\n",
       " 'final_tmdb_data_2001.csv.gz',\n",
       " 'final_tmdb_data_2002.csv.gz',\n",
       " 'final_tmdb_data_2003.csv.gz',\n",
       " 'final_tmdb_data_2004.csv.gz',\n",
       " 'final_tmdb_data_2006.csv.gz',\n",
       " 'final_tmdb_data_2007.csv.gz',\n",
       " 'final_tmdb_data_2008.csv.gz',\n",
       " 'final_tmdb_data_2009.csv.gz',\n",
       " 'final_tmdb_data_2010.csv.gz',\n",
       " 'final_tmdb_data_2011.csv.gz',\n",
       " 'final_tmdb_data_2012.csv.gz',\n",
       " 'final_tmdb_data_2013.csv.gz',\n",
       " 'final_tmdb_data_2014.csv.gz',\n",
       " 'final_tmdb_data_2015.csv.gz',\n",
       " 'final_tmdb_data_2016.csv.gz',\n",
       " 'final_tmdb_data_2017.csv.gz',\n",
       " 'final_tmdb_data_2018.csv.gz',\n",
       " 'final_tmdb_data_2019.csv.gz',\n",
       " 'final_tmdb_data_2020.csv.gz',\n",
       " 'final_tmdb_data_2021.csv.gz',\n",
       " 'final_tmdb_data_2022.csv.gz',\n",
       " 'genres.csv.gz',\n",
       " 'Original data',\n",
       " 'title_akas_combined.csv.gz',\n",
       " 'title_basics.csv.gz',\n",
       " 'title_basics_combined.csv.gz',\n",
       " 'title_genres.csv.gz',\n",
       " 'title_ratings.csv.gz',\n",
       " 'title_ratings_combined.csv.gz',\n",
       " 'tmbd_data.csv.gz',\n",
       " 'tmdb_api_results_2000.json',\n",
       " 'tmdb_api_results_2001.json',\n",
       " 'tmdb_api_results_2002.json',\n",
       " 'tmdb_api_results_2003.json',\n",
       " 'tmdb_api_results_2004.json',\n",
       " 'tmdb_api_results_2005.json',\n",
       " 'tmdb_api_results_2006.json',\n",
       " 'tmdb_api_results_2007.json',\n",
       " 'tmdb_api_results_2008.json',\n",
       " 'tmdb_api_results_2009.json',\n",
       " 'tmdb_api_results_2010.json',\n",
       " 'tmdb_api_results_2011.json',\n",
       " 'tmdb_api_results_2012.json',\n",
       " 'tmdb_api_results_2013.json',\n",
       " 'tmdb_api_results_2014.json',\n",
       " 'tmdb_api_results_2015.json',\n",
       " 'tmdb_api_results_2016.json',\n",
       " 'tmdb_api_results_2017.json',\n",
       " 'tmdb_api_results_2018.json',\n",
       " 'tmdb_api_results_2019.json',\n",
       " 'tmdb_api_results_2020.json',\n",
       " 'tmdb_api_results_2021.json',\n",
       " 'tmdb_api_results_2022.json',\n",
       " 'tmdb_results_combined.csv.gz']"
      ]
     },
     "execution_count": 9,
     "metadata": {},
     "output_type": "execute_result"
    }
   ],
   "source": [
    "# Specify folder for saving data.\n",
    "FOLDER = \"Data/\"\n",
    "os.makedirs(FOLDER, exist_ok=True)\n",
    "os.listdir(FOLDER)"
   ]
  },
  {
   "cell_type": "code",
   "execution_count": 10,
   "id": "2ebdedb9",
   "metadata": {},
   "outputs": [],
   "source": [
    "# Load in the dataframe from Part A:\n",
    "basics_df = pd.read_csv('./Data/title_basics_combined.csv.gz', low_memory = False)"
   ]
  },
  {
   "cell_type": "code",
   "execution_count": 11,
   "id": "6354488e",
   "metadata": {},
   "outputs": [],
   "source": [
    "# Create Required Lists for the our function.\n",
    "YEARS_TO_GET = range(2000, 2023)\n",
    "errors = [ ]"
   ]
  },
  {
   "cell_type": "code",
   "execution_count": 12,
   "id": "5e653705",
   "metadata": {},
   "outputs": [
    {
     "data": {
      "application/json": {
       "ascii": false,
       "bar_format": null,
       "colour": null,
       "elapsed": 0.04897642135620117,
       "initial": 0,
       "n": 0,
       "ncols": null,
       "nrows": null,
       "postfix": null,
       "prefix": "YEARS",
       "rate": null,
       "total": 23,
       "unit": "it",
       "unit_divisor": 1000,
       "unit_scale": false
      },
      "application/vnd.jupyter.widget-view+json": {
       "model_id": "e77552f09eb740adbea71e86daae2061",
       "version_major": 2,
       "version_minor": 0
      },
      "text/plain": [
       "YEARS:   0%|          | 0/23 [00:00<?, ?it/s]"
      ]
     },
     "metadata": {},
     "output_type": "display_data"
    },
    {
     "name": "stdout",
     "output_type": "stream",
     "text": [
      "2000 Data/tmdb_api_results_2000.json already exists.\n",
      "2001 Data/tmdb_api_results_2001.json already exists.\n",
      "2002 Data/tmdb_api_results_2002.json already exists.\n",
      "2003 Data/tmdb_api_results_2003.json already exists.\n",
      "2004 Data/tmdb_api_results_2004.json already exists.\n",
      "2005 Data/tmdb_api_results_2005.json already exists.\n",
      "2006 Data/tmdb_api_results_2006.json already exists.\n",
      "2007 Data/tmdb_api_results_2007.json already exists.\n",
      "2008 Data/tmdb_api_results_2008.json already exists.\n",
      "2009 Data/tmdb_api_results_2009.json already exists.\n",
      "2010 Data/tmdb_api_results_2010.json already exists.\n",
      "2011 Data/tmdb_api_results_2011.json already exists.\n",
      "2012 Data/tmdb_api_results_2012.json already exists.\n",
      "2013 Data/tmdb_api_results_2013.json already exists.\n",
      "2014 Data/tmdb_api_results_2014.json already exists.\n",
      "2015 Data/tmdb_api_results_2015.json already exists.\n",
      "2016 Data/tmdb_api_results_2016.json already exists.\n",
      "2017 Data/tmdb_api_results_2017.json already exists.\n",
      "2018 Data/tmdb_api_results_2018.json already exists.\n",
      "2019 Data/tmdb_api_results_2019.json already exists.\n",
      "2020 Data/tmdb_api_results_2020.json already exists.\n",
      "2021 Data/tmdb_api_results_2021.json already exists.\n",
      "2022 Data/tmdb_api_results_2022.json already exists.\n",
      "- Total errors: 0\n"
     ]
    }
   ],
   "source": [
    "# Start of OUTER loop\n",
    "for YEAR in tqdm_notebook(YEARS_TO_GET, desc='YEARS', position=0):\n",
    "    # Defining the JSON file to store results for year.\n",
    "    JSON_FILE = f'{FOLDER}tmdb_api_results_{YEAR}.json'\n",
    "    # Check if the file exists.\n",
    "    file_exists = os.path.isfile(JSON_FILE)\n",
    "    # If it does exist: notify me.\n",
    "    if file_exists == True:\n",
    "        print(f'{YEAR} {JSON_FILE} already exists.')\n",
    "    # If it does not exist: create it.\n",
    "    else:\n",
    "    # Save an empty dict with just \"imdb_id\" to the new json file.\n",
    "        with open(JSON_FILE,'w') as file:\n",
    "            json.dump([{'imdb_id':0}], file)\n",
    "\n",
    "    # Saving new year as the current df.        \n",
    "    df = basics_df.loc[basics_df['startYear'] == YEAR].copy()\n",
    "    # Saving movie ids to list.\n",
    "    movie_ids = df['tconst'].copy()\n",
    "    \n",
    "    # Load existing data from json into a dataframe called \"previous_df\"\n",
    "    previous_df = pd.read_json(JSON_FILE)\n",
    "    \n",
    "    # Filter out any ids that are already in the JSON_FILE.\n",
    "    movie_ids_to_get = movie_ids[~movie_ids.isin(previous_df['imdb_id'])]\n",
    "\n",
    "    \n",
    "    # Start of INNER Loop.\n",
    "    if file_exists == False:\n",
    "        for movie_id in tqdm_notebook(movie_ids_to_get,\n",
    "                                      desc=f'Movies from {YEAR}',\n",
    "                                      position=1,\n",
    "                                      leave=True):\n",
    "            try:\n",
    "                # Retrieve then data for the movie id.\n",
    "                temp = get_movie_certification(movie_id)  \n",
    "                # Append/extend results to existing file using a pre-made function.\n",
    "                write_json(temp,JSON_FILE)\n",
    "                # Short 20 ms sleep to prevent overwhelming server.\n",
    "                time.sleep(0.02)\n",
    "\n",
    "            except Exception as e:\n",
    "                errors.append([movie_id, e])\n",
    "\n",
    "        final_year_df = pd.read_json(JSON_FILE)\n",
    "        final_year_df.to_csv(f\"{FOLDER}final_tmdb_data_{YEAR}.csv.gz\", compression=\"gzip\", index=False)\n",
    "\n",
    "print(f\"- Total errors: {len(errors)}\")"
   ]
  },
  {
   "cell_type": "code",
   "execution_count": 13,
   "id": "773aa9a6",
   "metadata": {},
   "outputs": [],
   "source": [
    "# Let's load data from 2000 & 2001.\n",
    "#movies_from_2000_df = pd.read_csv('./Data/final_tmdb_data_2000.csv.gz', low_memory = False)\n",
    "#movies_from_2001_df = pd.read_csv('./Data/final_tmdb_data_2001.csv.gz', low_memory = False)"
   ]
  },
  {
   "cell_type": "code",
   "execution_count": 14,
   "id": "828fb459",
   "metadata": {
    "scrolled": false
   },
   "outputs": [],
   "source": [
    "# Let's concatenate both datasets.\n",
    "\n",
    "## Upload new datasets.\n",
    "#movies_from_2000 = pd.read_csv('./Data/final_tmdb_data_2000.csv.gz')\n",
    "#movies_from_2001 = pd.read_csv('./Data/final_tmdb_data_2001.csv.gz')\n",
    "\n",
    "## Concatenate them.\n",
    "#movies_from_2000_and_2001_df = pd.concat([movies_from_2000, movies_from_2001])\n",
    "#movies_from_2000_and_2001_df.head(5)"
   ]
  },
  {
   "cell_type": "code",
   "execution_count": 15,
   "id": "272efce3",
   "metadata": {},
   "outputs": [],
   "source": [
    "# Check for invalid data in 'imdb_id'.\n",
    "#movies_from_2000_and_2001_df[movies_from_2000_and_2001_df['imdb_id'] == '0']#"
   ]
  },
  {
   "cell_type": "code",
   "execution_count": 16,
   "id": "2add919c",
   "metadata": {},
   "outputs": [],
   "source": [
    "# Let's drop rows with values=0.\n",
    "#movies_from_2000_and_2001_df.drop(index=movies_from_2000_df.index[0], axis=0, inplace=True)\n",
    "#movies_from_2000_and_2001_df"
   ]
  },
  {
   "cell_type": "code",
   "execution_count": 17,
   "id": "d4a7a390",
   "metadata": {},
   "outputs": [],
   "source": [
    "# Have a general look of the data.\n",
    "#movies_from_2000_and_2001_df.info()"
   ]
  },
  {
   "cell_type": "markdown",
   "id": "da920a23",
   "metadata": {},
   "source": [
    "**Notes:**\n",
    "- At this point we have identified some missing data. Keeping the focus on our target columns, there is no missing data in 'Budget' or ' Revenue' but in 'Certification' we have 1,701 missing data (~68%).\n",
    "- Let's see how this could affect pot analysis in Section 3."
   ]
  },
  {
   "cell_type": "code",
   "execution_count": 18,
   "id": "5bb8366e",
   "metadata": {},
   "outputs": [],
   "source": [
    "# Statistical summary.\n",
    "#movies_from_2000_and_2001_df.describe()"
   ]
  },
  {
   "cell_type": "code",
   "execution_count": 19,
   "id": "8e190ab7",
   "metadata": {},
   "outputs": [],
   "source": [
    "# Download our concatenated database.\n",
    "#movies_from_2000_and_2001_df.to_csv(f'./Data/tmdb_results_combined.csv.gz', compression='gzip', index=False)"
   ]
  },
  {
   "cell_type": "markdown",
   "id": "46fdb211",
   "metadata": {},
   "source": [
    "### 2.3.- Get Budget, Revenue and Certification per movie tested in Section 2.1."
   ]
  },
  {
   "cell_type": "markdown",
   "id": "7030a8a2",
   "metadata": {},
   "source": [
    "#### 2.3.1.- The Avengers"
   ]
  },
  {
   "cell_type": "code",
   "execution_count": null,
   "id": "a58285e6",
   "metadata": {},
   "outputs": [],
   "source": []
  },
  {
   "cell_type": "markdown",
   "id": "2c352365",
   "metadata": {},
   "source": [
    "#### 2.3.2.- The Notebook"
   ]
  },
  {
   "cell_type": "code",
   "execution_count": null,
   "id": "3703c4fc",
   "metadata": {},
   "outputs": [],
   "source": []
  },
  {
   "cell_type": "markdown",
   "id": "d2c3b50a",
   "metadata": {},
   "source": [
    "## 3.- Visual Data Exploration"
   ]
  },
  {
   "cell_type": "markdown",
   "id": "819a03bb",
   "metadata": {},
   "source": [
    "### 3.1.- How many movies had at least some valid financial information (values > 0 for budget OR revenue)?\n",
    "Please exclude any movies with 0's for budget AND revenue from the remaining visualizations."
   ]
  },
  {
   "cell_type": "code",
   "execution_count": null,
   "id": "3a700ab7",
   "metadata": {},
   "outputs": [],
   "source": []
  },
  {
   "cell_type": "markdown",
   "id": "744d27f5",
   "metadata": {},
   "source": [
    "**Notes:**\n",
    "- We identified there is still missing data in our 'certification' column, even after filtering.\n",
    "- The impact of these missing data has been reduced to 12.6%."
   ]
  },
  {
   "cell_type": "markdown",
   "id": "83d7c346",
   "metadata": {},
   "source": [
    "### 3.2.- How many movies are there in each of the certification categories (G/PG/PG-13/R)?"
   ]
  },
  {
   "cell_type": "code",
   "execution_count": null,
   "id": "0267b117",
   "metadata": {},
   "outputs": [],
   "source": []
  },
  {
   "cell_type": "markdown",
   "id": "19169359",
   "metadata": {},
   "source": [
    "### 3.3.- What is the average revenue per certification category?"
   ]
  },
  {
   "cell_type": "code",
   "execution_count": null,
   "id": "84486944",
   "metadata": {},
   "outputs": [],
   "source": []
  },
  {
   "cell_type": "markdown",
   "id": "6abf55ec",
   "metadata": {},
   "source": [
    "### 3.4.- What is the average budget per certification category?"
   ]
  },
  {
   "cell_type": "code",
   "execution_count": null,
   "id": "d5a65547",
   "metadata": {},
   "outputs": [],
   "source": []
  },
  {
   "cell_type": "markdown",
   "id": "2af14a5f",
   "metadata": {},
   "source": [
    "### 3.5.- What is the average ROI (Return of Investment) per certification category?\n",
    "- In Section 2.3, we calculated the ROI of The Avengers and The Notebook movies. \n",
    "- In this Section we are going to analyze if those financial performance are usual in movies, in order to evaluate which type of movie are more profitable related with MPAA Rating (certification)."
   ]
  },
  {
   "cell_type": "code",
   "execution_count": null,
   "id": "95554a49",
   "metadata": {},
   "outputs": [],
   "source": []
  },
  {
   "cell_type": "markdown",
   "id": "300f9ea7",
   "metadata": {},
   "source": [
    "# E. Conclusions"
   ]
  },
  {
   "cell_type": "markdown",
   "id": "5c54cb79",
   "metadata": {},
   "source": [
    "- In 2000 and 2001, rating R accounted for almost 67% of the movies made, but was not among the top three in profitability.\n",
    "- During the same time period, PG movies accounted for 8% of films made, and they were identified as the most profitable.\n",
    "- There were 8.86% of projects with positive ROI, which raised suspicions about the data's reliability. There might need to be a more in-depth study."
   ]
  }
 ],
 "metadata": {
  "kernelspec": {
   "display_name": "Python (dojo-env)",
   "language": "python",
   "name": "dojo-env"
  },
  "language_info": {
   "codemirror_mode": {
    "name": "ipython",
    "version": 3
   },
   "file_extension": ".py",
   "mimetype": "text/x-python",
   "name": "python",
   "nbconvert_exporter": "python",
   "pygments_lexer": "ipython3",
   "version": "3.8.13"
  },
  "toc": {
   "base_numbering": 1,
   "nav_menu": {},
   "number_sections": false,
   "sideBar": true,
   "skip_h1_title": false,
   "title_cell": "Table of Contents",
   "title_sidebar": "Contents",
   "toc_cell": false,
   "toc_position": {
    "height": "calc(100% - 180px)",
    "left": "10px",
    "top": "150px",
    "width": "384px"
   },
   "toc_section_display": true,
   "toc_window_display": true
  },
  "widgets": {
   "application/vnd.jupyter.widget-state+json": {
    "state": {
     "408de78c37714f8198820d0dc176d9c1": {
      "model_module": "@jupyter-widgets/base",
      "model_module_version": "2.0.0",
      "model_name": "LayoutModel",
      "state": {}
     },
     "446000760e324746ade9d7b9038f1cc4": {
      "model_module": "@jupyter-widgets/controls",
      "model_module_version": "2.0.0",
      "model_name": "HBoxModel",
      "state": {
       "children": [
        "IPY_MODEL_96aaa0f3cbb24d248b108c482e4cc261",
        "IPY_MODEL_7b7b728eaaaa45aeb7f16763d634650a",
        "IPY_MODEL_ec90fb542a9749228f93ea3dda942e12"
       ],
       "layout": "IPY_MODEL_4df1af9f5dfe419289bd8a8a80273bc4"
      }
     },
     "48e66f4a2e054a70ba20818b72f4d020": {
      "model_module": "@jupyter-widgets/controls",
      "model_module_version": "2.0.0",
      "model_name": "HBoxModel",
      "state": {
       "children": [
        "IPY_MODEL_7916026c47e445959e54447975d74270",
        "IPY_MODEL_b2e0567157bc4e098cf95d8f06b0718f",
        "IPY_MODEL_5c6020af194c4bc1b69be26fd0313904"
       ],
       "layout": "IPY_MODEL_a31afbc0bd6742cc94c16cf867838a4e"
      }
     },
     "4df1af9f5dfe419289bd8a8a80273bc4": {
      "model_module": "@jupyter-widgets/base",
      "model_module_version": "2.0.0",
      "model_name": "LayoutModel",
      "state": {}
     },
     "54b8c839e54942baa5fdc8acc74c90da": {
      "model_module": "@jupyter-widgets/base",
      "model_module_version": "2.0.0",
      "model_name": "LayoutModel",
      "state": {}
     },
     "5c6020af194c4bc1b69be26fd0313904": {
      "model_module": "@jupyter-widgets/controls",
      "model_module_version": "2.0.0",
      "model_name": "HTMLModel",
      "state": {
       "layout": "IPY_MODEL_6c96866b05c64404a4a2ef5d55601994",
       "style": "IPY_MODEL_c8ddb203003145e2b72becc07f85cba7",
       "value": " 2/2 [30:29&lt;00:00, 923.13s/it]"
      }
     },
     "64e630cb63784c0fa9a141924f1a7090": {
      "model_module": "@jupyter-widgets/base",
      "model_module_version": "2.0.0",
      "model_name": "LayoutModel",
      "state": {}
     },
     "6c96866b05c64404a4a2ef5d55601994": {
      "model_module": "@jupyter-widgets/base",
      "model_module_version": "2.0.0",
      "model_name": "LayoutModel",
      "state": {}
     },
     "76a1d93b379e4e7eac0d6bb7cc2620ff": {
      "model_module": "@jupyter-widgets/base",
      "model_module_version": "2.0.0",
      "model_name": "LayoutModel",
      "state": {}
     },
     "7916026c47e445959e54447975d74270": {
      "model_module": "@jupyter-widgets/controls",
      "model_module_version": "2.0.0",
      "model_name": "HTMLModel",
      "state": {
       "layout": "IPY_MODEL_d71278cad2954aeea1994dda36fc69b8",
       "style": "IPY_MODEL_b8d9032614244af19585c2eba20bb23b",
       "value": "YEARS: 100%"
      }
     },
     "7b7b728eaaaa45aeb7f16763d634650a": {
      "model_module": "@jupyter-widgets/controls",
      "model_module_version": "2.0.0",
      "model_name": "FloatProgressModel",
      "state": {
       "bar_style": "success",
       "layout": "IPY_MODEL_8864c2f670d048769641bc70e2ceae8e",
       "max": 1529,
       "style": "IPY_MODEL_b839389b0ad44395bbaff42430d56f76",
       "value": 1529
      }
     },
     "7c38363a08824370a6b1a395fa2601d2": {
      "model_module": "@jupyter-widgets/controls",
      "model_module_version": "2.0.0",
      "model_name": "HTMLModel",
      "state": {
       "layout": "IPY_MODEL_54b8c839e54942baa5fdc8acc74c90da",
       "style": "IPY_MODEL_8a703167dcac47a5802843e6cab211c6",
       "value": "Movies from 2000: 100%"
      }
     },
     "8864c2f670d048769641bc70e2ceae8e": {
      "model_module": "@jupyter-widgets/base",
      "model_module_version": "2.0.0",
      "model_name": "LayoutModel",
      "state": {}
     },
     "8a703167dcac47a5802843e6cab211c6": {
      "model_module": "@jupyter-widgets/controls",
      "model_module_version": "2.0.0",
      "model_name": "HTMLStyleModel",
      "state": {
       "description_width": "",
       "font_size": null,
       "text_color": null
      }
     },
     "96aaa0f3cbb24d248b108c482e4cc261": {
      "model_module": "@jupyter-widgets/controls",
      "model_module_version": "2.0.0",
      "model_name": "HTMLModel",
      "state": {
       "layout": "IPY_MODEL_64e630cb63784c0fa9a141924f1a7090",
       "style": "IPY_MODEL_da3528c006b44690851fcc5d1a2e86d3",
       "value": "Movies from 2001: 100%"
      }
     },
     "9723abb3df5446b5beedc1dc38db541b": {
      "model_module": "@jupyter-widgets/base",
      "model_module_version": "2.0.0",
      "model_name": "LayoutModel",
      "state": {}
     },
     "9b43c3e6ff8b4b63a94e464afda84dfc": {
      "model_module": "@jupyter-widgets/base",
      "model_module_version": "2.0.0",
      "model_name": "LayoutModel",
      "state": {}
     },
     "9b579c5bd65746728f23c3dc2348df26": {
      "model_module": "@jupyter-widgets/controls",
      "model_module_version": "2.0.0",
      "model_name": "ProgressStyleModel",
      "state": {
       "description_width": ""
      }
     },
     "a31afbc0bd6742cc94c16cf867838a4e": {
      "model_module": "@jupyter-widgets/base",
      "model_module_version": "2.0.0",
      "model_name": "LayoutModel",
      "state": {}
     },
     "b2e0567157bc4e098cf95d8f06b0718f": {
      "model_module": "@jupyter-widgets/controls",
      "model_module_version": "2.0.0",
      "model_name": "FloatProgressModel",
      "state": {
       "bar_style": "success",
       "layout": "IPY_MODEL_ee904cdf44fe4a65a3b3af81e84253e6",
       "max": 2,
       "style": "IPY_MODEL_9b579c5bd65746728f23c3dc2348df26",
       "value": 2
      }
     },
     "b6da2fcc61ce46e3b63130d14f92eb06": {
      "model_module": "@jupyter-widgets/controls",
      "model_module_version": "2.0.0",
      "model_name": "HTMLStyleModel",
      "state": {
       "description_width": "",
       "font_size": null,
       "text_color": null
      }
     },
     "b839389b0ad44395bbaff42430d56f76": {
      "model_module": "@jupyter-widgets/controls",
      "model_module_version": "2.0.0",
      "model_name": "ProgressStyleModel",
      "state": {
       "description_width": ""
      }
     },
     "b8d9032614244af19585c2eba20bb23b": {
      "model_module": "@jupyter-widgets/controls",
      "model_module_version": "2.0.0",
      "model_name": "HTMLStyleModel",
      "state": {
       "description_width": "",
       "font_size": null,
       "text_color": null
      }
     },
     "baf678a84711450d97c8480c9b02bb67": {
      "model_module": "@jupyter-widgets/controls",
      "model_module_version": "2.0.0",
      "model_name": "HTMLModel",
      "state": {
       "layout": "IPY_MODEL_76a1d93b379e4e7eac0d6bb7cc2620ff",
       "style": "IPY_MODEL_e3ed08b3f9db4b5ab7eb18f123f4f918",
       "value": " 1412/1412 [14:27&lt;00:00,  3.42it/s]"
      }
     },
     "c8ddb203003145e2b72becc07f85cba7": {
      "model_module": "@jupyter-widgets/controls",
      "model_module_version": "2.0.0",
      "model_name": "HTMLStyleModel",
      "state": {
       "description_width": "",
       "font_size": null,
       "text_color": null
      }
     },
     "cd6f3a2e07f0489abfe5bb36d198fb6c": {
      "model_module": "@jupyter-widgets/controls",
      "model_module_version": "2.0.0",
      "model_name": "FloatProgressModel",
      "state": {
       "bar_style": "success",
       "layout": "IPY_MODEL_408de78c37714f8198820d0dc176d9c1",
       "max": 1412,
       "style": "IPY_MODEL_d1c1e5efbc2240faa829f591cf920091",
       "value": 1412
      }
     },
     "d1c1e5efbc2240faa829f591cf920091": {
      "model_module": "@jupyter-widgets/controls",
      "model_module_version": "2.0.0",
      "model_name": "ProgressStyleModel",
      "state": {
       "description_width": ""
      }
     },
     "d71278cad2954aeea1994dda36fc69b8": {
      "model_module": "@jupyter-widgets/base",
      "model_module_version": "2.0.0",
      "model_name": "LayoutModel",
      "state": {}
     },
     "da3528c006b44690851fcc5d1a2e86d3": {
      "model_module": "@jupyter-widgets/controls",
      "model_module_version": "2.0.0",
      "model_name": "HTMLStyleModel",
      "state": {
       "description_width": "",
       "font_size": null,
       "text_color": null
      }
     },
     "e3ed08b3f9db4b5ab7eb18f123f4f918": {
      "model_module": "@jupyter-widgets/controls",
      "model_module_version": "2.0.0",
      "model_name": "HTMLStyleModel",
      "state": {
       "description_width": "",
       "font_size": null,
       "text_color": null
      }
     },
     "ec90fb542a9749228f93ea3dda942e12": {
      "model_module": "@jupyter-widgets/controls",
      "model_module_version": "2.0.0",
      "model_name": "HTMLModel",
      "state": {
       "layout": "IPY_MODEL_9b43c3e6ff8b4b63a94e464afda84dfc",
       "style": "IPY_MODEL_b6da2fcc61ce46e3b63130d14f92eb06",
       "value": " 1529/1529 [16:01&lt;00:00,  3.06it/s]"
      }
     },
     "ee904cdf44fe4a65a3b3af81e84253e6": {
      "model_module": "@jupyter-widgets/base",
      "model_module_version": "2.0.0",
      "model_name": "LayoutModel",
      "state": {}
     },
     "fd272c8490e44cb6801b6e5ce1e5ebe9": {
      "model_module": "@jupyter-widgets/controls",
      "model_module_version": "2.0.0",
      "model_name": "HBoxModel",
      "state": {
       "children": [
        "IPY_MODEL_7c38363a08824370a6b1a395fa2601d2",
        "IPY_MODEL_cd6f3a2e07f0489abfe5bb36d198fb6c",
        "IPY_MODEL_baf678a84711450d97c8480c9b02bb67"
       ],
       "layout": "IPY_MODEL_9723abb3df5446b5beedc1dc38db541b"
      }
     }
    },
    "version_major": 2,
    "version_minor": 0
   }
  }
 },
 "nbformat": 4,
 "nbformat_minor": 5
}
