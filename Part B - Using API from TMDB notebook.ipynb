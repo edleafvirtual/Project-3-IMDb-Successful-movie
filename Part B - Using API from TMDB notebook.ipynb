{
 "cells": [
  {
   "cell_type": "markdown",
   "id": "b9928721",
   "metadata": {},
   "source": [
    "# A. Project Name:  IMDb Successful Movie.\n",
    "- **Student Name:** Eduardo Galindez.\n",
    "- **Coding Dojo Bootcamp:** Data Science.\n",
    "  - **Stack:** Data Enrichment.\n",
    "- **Date:** September 23th, 2022."
   ]
  },
  {
   "cell_type": "markdown",
   "id": "ee105cc2",
   "metadata": {},
   "source": [
    "# B. Project Objective\n",
    "Our Stakeholder Wants More Data!\n",
    "- After investigating the preview of our data from Part A, the stakeholder realized that there is no financial information included in the IMDB data (e.g. budget or revenue).\n",
    "    - Our stakeholder identified The Movie Database ([TMDB](https://www.themoviedb.org/)) as a great source of financial data . Thankfully, TMDB offers a free API for programmatic access to their data!\n",
    "- The stakeholder wants we to extract the budget, revenue, and MPAA Rating (G/PG/PG-13/R), which is also called \"Certification\"."
   ]
  },
  {
   "cell_type": "markdown",
   "id": "0887afa0",
   "metadata": {},
   "source": [
    "# C. Project Statement\n"
   ]
  },
  {
   "cell_type": "markdown",
   "id": "6c393f17",
   "metadata": {},
   "source": [
    "### Specifications:\n",
    "\n",
    "Our stakeholder would like you to extract and save the results for movies that meet all of the criteria established in Part A of the project.\n",
    "\n",
    "As a proof-of-concept, they requested we perform a test extraction of movies that started in 2000 or 2001\n",
    "\n",
    "Each year should be saved as a separate .csv.gz file\n",
    "\n",
    "Confirm Your API Function works.\n",
    "\n",
    "- In order to ensure our function for extracting movie data from TMDB is working, test the function on these 2 movie ids: tt0848228 (\"The Avengers\") and tt0332280 (\"The Notebook\"). Make sure that the function runs without error and that it returns the correct movie's data for both test ids.\n",
    "\n",
    "- Once you have retrieved and saved the final results to 2 separate .csv.gz files, move on to a Exploratory Data Analysis to explore the following questions."
   ]
  },
  {
   "cell_type": "markdown",
   "id": "122806f0",
   "metadata": {},
   "source": [
    "### Exploratory Data Analysis\n",
    "1. Load in your csv.gz's of results for each year extracted.\n",
    " - Concatenate the data into 1 dataframe for the remainder of the analysis.\n",
    "2. Once you have your data from the API, they would like we to perform some light EDA to show:\n",
    " - How many movies had at least some valid financial information (values > 0 for budget OR revenue)?\n",
    " - Exclude any movies with 0's for budget AND revenue from the remaining visualizations.\n",
    " - How many movies are there in each of the certification categories (G/PG/PG-13/R)?\n",
    " - What is the average revenue per certification category?\n",
    " - What is the average budget per certification category?"
   ]
  },
  {
   "cell_type": "markdown",
   "id": "e3add176",
   "metadata": {},
   "source": [
    "### Deliverable:\n",
    "\n",
    "After we have joined the tmdb results into 1 dataframe in the EDA Notebook:\n",
    "\n",
    "- Save a final merged .csv.gz of all of the tmdb api data.\n",
    "- The file name should be \"tmdb_results_combined.csv.gz\".\n",
    "- Make sure this is pushed to our GitHub repository along with all of the code.\n",
    "- One code file for API calls.\n",
    "- One code file for EDA.\n",
    "- Submit the link."
   ]
  },
  {
   "cell_type": "markdown",
   "id": "87dba2c0",
   "metadata": {},
   "source": [
    "# D. Project Development"
   ]
  },
  {
   "cell_type": "markdown",
   "id": "9f8260b5",
   "metadata": {},
   "source": [
    "## 1.- Libraries & Functions"
   ]
  },
  {
   "cell_type": "code",
   "execution_count": 1,
   "id": "1494bf3e",
   "metadata": {},
   "outputs": [],
   "source": [
    "# Libraries.\n",
    "import numpy as np\n",
    "import pandas as pd\n",
    "import tmdbsimple as tmdb \n",
    "import os, time, json\n",
    "os.makedirs('Data',exist_ok=True)\n",
    "\n",
    "from tqdm.notebook import tqdm_notebook\n",
    "#import glob"
   ]
  },
  {
   "cell_type": "code",
   "execution_count": 2,
   "id": "d93649c6",
   "metadata": {},
   "outputs": [],
   "source": [
    "# Function to get the certification.\n",
    "def get_movie_certification(movie_id):\n",
    "    movie = tmdb.Movies(movie_id)\n",
    "    info = movie.info()\n",
    "    releases = movie.releases()\n",
    "    \n",
    "    for c in releases['countries']:\n",
    "        if c['iso_3166_1'] == \"US\":\n",
    "            info['certifcation'] = c['certification']     \n",
    "    return info"
   ]
  },
  {
   "cell_type": "code",
   "execution_count": 3,
   "id": "a1b23d59",
   "metadata": {},
   "outputs": [],
   "source": [
    "# Function to create our .json file.\n",
    "##  Adapted from: https://www.geeksforgeeks.org/append-to-json-file-using-python/\n",
    "\n",
    "def write_json(new_data, filename):    \n",
    "    with open(filename,'r+') as file:\n",
    "        # First we load existing data into a dict.\n",
    "        file_data = json.load(file)\n",
    "        ## Choose extend or append\n",
    "        if (type(new_data) == list) & (type(file_data) == list):\n",
    "            file_data.extend(new_data)\n",
    "        else:\n",
    "             file_data.append(new_data)\n",
    "        # Sets file's current position at offset.\n",
    "        file.seek(0)\n",
    "        # convert back to json.\n",
    "        json.dump(file_data, file)"
   ]
  },
  {
   "cell_type": "markdown",
   "id": "9bee975a",
   "metadata": {},
   "source": [
    "## 2.-  Data & Connection"
   ]
  },
  {
   "cell_type": "markdown",
   "id": "1b8c309f",
   "metadata": {},
   "source": [
    "### 2.1.- Mount and loading data."
   ]
  },
  {
   "cell_type": "code",
   "execution_count": 4,
   "id": "4972c4f8",
   "metadata": {},
   "outputs": [
    {
     "data": {
      "text/plain": [
       "['.ipynb_checkpoints',\n",
       " 'Chunk data per database',\n",
       " 'final_tmdb_data_2000.csv.gz',\n",
       " 'final_tmdb_data_2001.csv.gz',\n",
       " 'Original data',\n",
       " 'title_akas_combined.csv.gz',\n",
       " 'title_basics_combined.csv.gz',\n",
       " 'title_ratings_combined.csv.gz',\n",
       " 'tmdb_api_results_2000.json',\n",
       " 'tmdb_api_results_2001.json']"
      ]
     },
     "execution_count": 4,
     "metadata": {},
     "output_type": "execute_result"
    }
   ],
   "source": [
    "# Specify folder for saving data.\n",
    "FOLDER = \"Data/\"\n",
    "os.makedirs(FOLDER, exist_ok=True)\n",
    "os.listdir(FOLDER)"
   ]
  },
  {
   "cell_type": "code",
   "execution_count": 5,
   "id": "2ebdedb9",
   "metadata": {},
   "outputs": [],
   "source": [
    "# Load in the dataframe from Part A:\n",
    "basics_df = pd.read_csv('./Data/title_basics_combined.csv.gz', low_memory = False)"
   ]
  },
  {
   "cell_type": "code",
   "execution_count": 6,
   "id": "6ff189f3",
   "metadata": {},
   "outputs": [],
   "source": [
    "# Let's drop the column 'endYear' as was reported in Section E of Part A notebook.\n",
    "basics_df = basics_df.drop(columns=['endYear'])"
   ]
  },
  {
   "cell_type": "code",
   "execution_count": 7,
   "id": "9225f953",
   "metadata": {},
   "outputs": [],
   "source": [
    "# Convert 'startYear' column dtype to int.\n",
    "basics_df['startYear'] = basics_df['startYear'].astype(int)"
   ]
  },
  {
   "cell_type": "code",
   "execution_count": 8,
   "id": "ef6a7c34",
   "metadata": {},
   "outputs": [
    {
     "name": "stdout",
     "output_type": "stream",
     "text": [
      "<class 'pandas.core.frame.DataFrame'>\n",
      "RangeIndex: 79858 entries, 0 to 79857\n",
      "Data columns (total 8 columns):\n",
      " #   Column          Non-Null Count  Dtype \n",
      "---  ------          --------------  ----- \n",
      " 0   tconst          79858 non-null  object\n",
      " 1   titleType       79858 non-null  object\n",
      " 2   primaryTitle    79858 non-null  object\n",
      " 3   originalTitle   79858 non-null  object\n",
      " 4   isAdult         79858 non-null  int64 \n",
      " 5   startYear       79858 non-null  int32 \n",
      " 6   runtimeMinutes  79858 non-null  int64 \n",
      " 7   genres          79858 non-null  object\n",
      "dtypes: int32(1), int64(2), object(5)\n",
      "memory usage: 4.6+ MB\n"
     ]
    }
   ],
   "source": [
    "# Let's confirm we don't have missing data.\n",
    "basics_df.info()"
   ]
  },
  {
   "cell_type": "code",
   "execution_count": 9,
   "id": "07952411",
   "metadata": {},
   "outputs": [
    {
     "data": {
      "text/html": [
       "<div>\n",
       "<style scoped>\n",
       "    .dataframe tbody tr th:only-of-type {\n",
       "        vertical-align: middle;\n",
       "    }\n",
       "\n",
       "    .dataframe tbody tr th {\n",
       "        vertical-align: top;\n",
       "    }\n",
       "\n",
       "    .dataframe thead th {\n",
       "        text-align: right;\n",
       "    }\n",
       "</style>\n",
       "<table border=\"1\" class=\"dataframe\">\n",
       "  <thead>\n",
       "    <tr style=\"text-align: right;\">\n",
       "      <th></th>\n",
       "      <th>tconst</th>\n",
       "      <th>titleType</th>\n",
       "      <th>primaryTitle</th>\n",
       "      <th>originalTitle</th>\n",
       "      <th>isAdult</th>\n",
       "      <th>startYear</th>\n",
       "      <th>runtimeMinutes</th>\n",
       "      <th>genres</th>\n",
       "    </tr>\n",
       "  </thead>\n",
       "  <tbody>\n",
       "    <tr>\n",
       "      <th>0</th>\n",
       "      <td>tt0108549</td>\n",
       "      <td>movie</td>\n",
       "      <td>West from North Goes South</td>\n",
       "      <td>West from North Goes South</td>\n",
       "      <td>0</td>\n",
       "      <td>2004</td>\n",
       "      <td>96</td>\n",
       "      <td>Comedy,Mystery</td>\n",
       "    </tr>\n",
       "    <tr>\n",
       "      <th>1</th>\n",
       "      <td>tt0113026</td>\n",
       "      <td>movie</td>\n",
       "      <td>The Fantasticks</td>\n",
       "      <td>The Fantasticks</td>\n",
       "      <td>0</td>\n",
       "      <td>2000</td>\n",
       "      <td>86</td>\n",
       "      <td>Musical,Romance</td>\n",
       "    </tr>\n",
       "    <tr>\n",
       "      <th>2</th>\n",
       "      <td>tt0113092</td>\n",
       "      <td>movie</td>\n",
       "      <td>For the Cause</td>\n",
       "      <td>For the Cause</td>\n",
       "      <td>0</td>\n",
       "      <td>2000</td>\n",
       "      <td>100</td>\n",
       "      <td>Action,Adventure,Drama</td>\n",
       "    </tr>\n",
       "    <tr>\n",
       "      <th>3</th>\n",
       "      <td>tt0114447</td>\n",
       "      <td>movie</td>\n",
       "      <td>The Silent Force</td>\n",
       "      <td>The Silent Force</td>\n",
       "      <td>0</td>\n",
       "      <td>2001</td>\n",
       "      <td>90</td>\n",
       "      <td>Action</td>\n",
       "    </tr>\n",
       "    <tr>\n",
       "      <th>4</th>\n",
       "      <td>tt0115937</td>\n",
       "      <td>movie</td>\n",
       "      <td>Consequence</td>\n",
       "      <td>Consequence</td>\n",
       "      <td>0</td>\n",
       "      <td>2000</td>\n",
       "      <td>91</td>\n",
       "      <td>Drama</td>\n",
       "    </tr>\n",
       "    <tr>\n",
       "      <th>...</th>\n",
       "      <td>...</td>\n",
       "      <td>...</td>\n",
       "      <td>...</td>\n",
       "      <td>...</td>\n",
       "      <td>...</td>\n",
       "      <td>...</td>\n",
       "      <td>...</td>\n",
       "      <td>...</td>\n",
       "    </tr>\n",
       "    <tr>\n",
       "      <th>79853</th>\n",
       "      <td>tt9916170</td>\n",
       "      <td>movie</td>\n",
       "      <td>The Rehearsal</td>\n",
       "      <td>O Ensaio</td>\n",
       "      <td>0</td>\n",
       "      <td>2019</td>\n",
       "      <td>51</td>\n",
       "      <td>Drama</td>\n",
       "    </tr>\n",
       "    <tr>\n",
       "      <th>79854</th>\n",
       "      <td>tt9916190</td>\n",
       "      <td>movie</td>\n",
       "      <td>Safeguard</td>\n",
       "      <td>Safeguard</td>\n",
       "      <td>0</td>\n",
       "      <td>2020</td>\n",
       "      <td>95</td>\n",
       "      <td>Action,Adventure,Thriller</td>\n",
       "    </tr>\n",
       "    <tr>\n",
       "      <th>79855</th>\n",
       "      <td>tt9916270</td>\n",
       "      <td>movie</td>\n",
       "      <td>Il talento del calabrone</td>\n",
       "      <td>Il talento del calabrone</td>\n",
       "      <td>0</td>\n",
       "      <td>2020</td>\n",
       "      <td>84</td>\n",
       "      <td>Thriller</td>\n",
       "    </tr>\n",
       "    <tr>\n",
       "      <th>79856</th>\n",
       "      <td>tt9916362</td>\n",
       "      <td>movie</td>\n",
       "      <td>Coven</td>\n",
       "      <td>Akelarre</td>\n",
       "      <td>0</td>\n",
       "      <td>2020</td>\n",
       "      <td>92</td>\n",
       "      <td>Drama,History</td>\n",
       "    </tr>\n",
       "    <tr>\n",
       "      <th>79857</th>\n",
       "      <td>tt9916538</td>\n",
       "      <td>movie</td>\n",
       "      <td>Kuambil Lagi Hatiku</td>\n",
       "      <td>Kuambil Lagi Hatiku</td>\n",
       "      <td>0</td>\n",
       "      <td>2019</td>\n",
       "      <td>123</td>\n",
       "      <td>Drama</td>\n",
       "    </tr>\n",
       "  </tbody>\n",
       "</table>\n",
       "<p>79858 rows × 8 columns</p>\n",
       "</div>"
      ],
      "text/plain": [
       "          tconst titleType                primaryTitle  \\\n",
       "0      tt0108549     movie  West from North Goes South   \n",
       "1      tt0113026     movie             The Fantasticks   \n",
       "2      tt0113092     movie               For the Cause   \n",
       "3      tt0114447     movie            The Silent Force   \n",
       "4      tt0115937     movie                 Consequence   \n",
       "...          ...       ...                         ...   \n",
       "79853  tt9916170     movie               The Rehearsal   \n",
       "79854  tt9916190     movie                   Safeguard   \n",
       "79855  tt9916270     movie    Il talento del calabrone   \n",
       "79856  tt9916362     movie                       Coven   \n",
       "79857  tt9916538     movie         Kuambil Lagi Hatiku   \n",
       "\n",
       "                    originalTitle  isAdult  startYear  runtimeMinutes  \\\n",
       "0      West from North Goes South        0       2004              96   \n",
       "1                 The Fantasticks        0       2000              86   \n",
       "2                   For the Cause        0       2000             100   \n",
       "3                The Silent Force        0       2001              90   \n",
       "4                     Consequence        0       2000              91   \n",
       "...                           ...      ...        ...             ...   \n",
       "79853                    O Ensaio        0       2019              51   \n",
       "79854                   Safeguard        0       2020              95   \n",
       "79855    Il talento del calabrone        0       2020              84   \n",
       "79856                    Akelarre        0       2020              92   \n",
       "79857         Kuambil Lagi Hatiku        0       2019             123   \n",
       "\n",
       "                          genres  \n",
       "0                 Comedy,Mystery  \n",
       "1                Musical,Romance  \n",
       "2         Action,Adventure,Drama  \n",
       "3                         Action  \n",
       "4                          Drama  \n",
       "...                          ...  \n",
       "79853                      Drama  \n",
       "79854  Action,Adventure,Thriller  \n",
       "79855                   Thriller  \n",
       "79856              Drama,History  \n",
       "79857                      Drama  \n",
       "\n",
       "[79858 rows x 8 columns]"
      ]
     },
     "execution_count": 9,
     "metadata": {},
     "output_type": "execute_result"
    }
   ],
   "source": [
    "# General look of the dataframe.\n",
    "basics_df"
   ]
  },
  {
   "cell_type": "code",
   "execution_count": 10,
   "id": "6354488e",
   "metadata": {},
   "outputs": [],
   "source": [
    "# Create Required Lists for the our function.\n",
    "YEARS_TO_GET = [2000, 2001]\n",
    "errors = [ ]"
   ]
  },
  {
   "cell_type": "code",
   "execution_count": 11,
   "id": "5e653705",
   "metadata": {},
   "outputs": [
    {
     "data": {
      "application/json": {
       "ascii": false,
       "bar_format": null,
       "colour": null,
       "elapsed": 0.03659176826477051,
       "initial": 0,
       "n": 0,
       "ncols": null,
       "nrows": null,
       "postfix": null,
       "prefix": "YEARS",
       "rate": null,
       "total": 2,
       "unit": "it",
       "unit_divisor": 1000,
       "unit_scale": false
      },
      "application/vnd.jupyter.widget-view+json": {
       "model_id": "03ca876d129a46f1a33790302f9af41d",
       "version_major": 2,
       "version_minor": 0
      },
      "text/plain": [
       "YEARS:   0%|          | 0/2 [00:00<?, ?it/s]"
      ]
     },
     "metadata": {},
     "output_type": "display_data"
    },
    {
     "data": {
      "application/json": {
       "ascii": false,
       "bar_format": null,
       "colour": null,
       "elapsed": 0.021331071853637695,
       "initial": 0,
       "n": 0,
       "ncols": null,
       "nrows": null,
       "postfix": null,
       "prefix": "Movies from 2000",
       "rate": null,
       "total": 1412,
       "unit": "it",
       "unit_divisor": 1000,
       "unit_scale": false
      },
      "application/vnd.jupyter.widget-view+json": {
       "model_id": "9cb36f447367448e997a2144d00a9f33",
       "version_major": 2,
       "version_minor": 0
      },
      "text/plain": [
       "Movies from 2000:   0%|          | 0/1412 [00:00<?, ?it/s]"
      ]
     },
     "metadata": {},
     "output_type": "display_data"
    },
    {
     "data": {
      "application/json": {
       "ascii": false,
       "bar_format": null,
       "colour": null,
       "elapsed": 0.018122434616088867,
       "initial": 0,
       "n": 0,
       "ncols": null,
       "nrows": null,
       "postfix": null,
       "prefix": "Movies from 2001",
       "rate": null,
       "total": 1529,
       "unit": "it",
       "unit_divisor": 1000,
       "unit_scale": false
      },
      "application/vnd.jupyter.widget-view+json": {
       "model_id": "f573f5e2966f4554b3cbe78f4f9fb7f6",
       "version_major": 2,
       "version_minor": 0
      },
      "text/plain": [
       "Movies from 2001:   0%|          | 0/1529 [00:00<?, ?it/s]"
      ]
     },
     "metadata": {},
     "output_type": "display_data"
    },
    {
     "name": "stdout",
     "output_type": "stream",
     "text": [
      "- Total errors: 2941\n"
     ]
    }
   ],
   "source": [
    "# Start of OUTER loop\n",
    "for YEAR in tqdm_notebook(YEARS_TO_GET, desc='YEARS', position=0):\n",
    "    # Defining the JSON file to store results for year.\n",
    "    JSON_FILE = f'{FOLDER}tmdb_api_results_{YEAR}.json'\n",
    "    # Check if the file exists.\n",
    "    file_exists = os.path.isfile(JSON_FILE)\n",
    "    # If it does not exist: create it.\n",
    "    if file_exists == False:\n",
    "    # Save an empty dict with just \"imdb_id\" to the new json file.\n",
    "        with open(JSON_FILE,'w') as file:\n",
    "            json.dump([{'imdb_id':0}], file)\n",
    "\n",
    "    # Saving new year as the current df.        \n",
    "    df = basics_df.loc[basics_df['startYear'] == YEAR].copy()\n",
    "    # Saving movie ids to list.\n",
    "    movie_ids = df['tconst'].copy()\n",
    "    \n",
    "    # Load existing data from json into a dataframe called \"previous_df\"\n",
    "    previous_df = pd.read_json(JSON_FILE)\n",
    "    \n",
    "    # Filter out any ids that are already in the JSON_FILE.\n",
    "    movie_ids_to_get = movie_ids[~movie_ids.isin(previous_df['imdb_id'])]\n",
    "\n",
    "    \n",
    "    # Start of INNER Loop.\n",
    "    for movie_id in tqdm_notebook(movie_ids_to_get,\n",
    "                                  desc=f'Movies from {YEAR}',\n",
    "                                  position=1,\n",
    "                                  leave=True):\n",
    "        try:\n",
    "            # Retrieve then data for the movie id.\n",
    "            temp = get_movie_certification(movie_id)  \n",
    "            # Append/extend results to existing file using a pre-made function.\n",
    "            write_json(temp,JSON_FILE)\n",
    "            # Short 20 ms sleep to prevent overwhelming server.\n",
    "            time.sleep(0.02)\n",
    "         \n",
    "        except Exception as e:\n",
    "            errors.append([movie_id, e])\n",
    "\n",
    "    final_year_df = pd.read_json(JSON_FILE)\n",
    "    final_year_df.to_csv(f\"{FOLDER}final_tmdb_data_{YEAR}.csv.gz\", compression=\"gzip\", index=False)\n",
    "\n",
    "print(f\"- Total errors: {len(errors)}\")"
   ]
  },
  {
   "cell_type": "code",
   "execution_count": 12,
   "id": "773aa9a6",
   "metadata": {},
   "outputs": [
    {
     "data": {
      "text/html": [
       "<div>\n",
       "<style scoped>\n",
       "    .dataframe tbody tr th:only-of-type {\n",
       "        vertical-align: middle;\n",
       "    }\n",
       "\n",
       "    .dataframe tbody tr th {\n",
       "        vertical-align: top;\n",
       "    }\n",
       "\n",
       "    .dataframe thead th {\n",
       "        text-align: right;\n",
       "    }\n",
       "</style>\n",
       "<table border=\"1\" class=\"dataframe\">\n",
       "  <thead>\n",
       "    <tr style=\"text-align: right;\">\n",
       "      <th></th>\n",
       "      <th>imdb_id</th>\n",
       "    </tr>\n",
       "  </thead>\n",
       "  <tbody>\n",
       "    <tr>\n",
       "      <th>0</th>\n",
       "      <td>0</td>\n",
       "    </tr>\n",
       "  </tbody>\n",
       "</table>\n",
       "</div>"
      ],
      "text/plain": [
       "   imdb_id\n",
       "0        0"
      ]
     },
     "execution_count": 12,
     "metadata": {},
     "output_type": "execute_result"
    }
   ],
   "source": [
    "# Let's load data from 2000.\n",
    "movies_from_2000_df = pd.read_csv('./Data/final_tmdb_data_2000.csv.gz', low_memory = False)\n",
    "movies_from_2000_df"
   ]
  },
  {
   "cell_type": "code",
   "execution_count": 13,
   "id": "c66bfef7",
   "metadata": {},
   "outputs": [
    {
     "data": {
      "text/html": [
       "<div>\n",
       "<style scoped>\n",
       "    .dataframe tbody tr th:only-of-type {\n",
       "        vertical-align: middle;\n",
       "    }\n",
       "\n",
       "    .dataframe tbody tr th {\n",
       "        vertical-align: top;\n",
       "    }\n",
       "\n",
       "    .dataframe thead th {\n",
       "        text-align: right;\n",
       "    }\n",
       "</style>\n",
       "<table border=\"1\" class=\"dataframe\">\n",
       "  <thead>\n",
       "    <tr style=\"text-align: right;\">\n",
       "      <th></th>\n",
       "      <th>imdb_id</th>\n",
       "    </tr>\n",
       "  </thead>\n",
       "  <tbody>\n",
       "    <tr>\n",
       "      <th>0</th>\n",
       "      <td>0</td>\n",
       "    </tr>\n",
       "  </tbody>\n",
       "</table>\n",
       "</div>"
      ],
      "text/plain": [
       "   imdb_id\n",
       "0        0"
      ]
     },
     "execution_count": 13,
     "metadata": {},
     "output_type": "execute_result"
    }
   ],
   "source": [
    "# Let's load data from 2001.\n",
    "movies_from_2001_df = pd.read_csv('./Data/final_tmdb_data_2001.csv.gz', low_memory = False)\n",
    "movies_from_2001_df"
   ]
  },
  {
   "cell_type": "code",
   "execution_count": 14,
   "id": "c20c55cf",
   "metadata": {},
   "outputs": [],
   "source": [
    "# Let's concatenate both datasets.\n",
    "\n",
    "\n"
   ]
  },
  {
   "cell_type": "markdown",
   "id": "37799a31",
   "metadata": {},
   "source": [
    "### 2.2.- API connection\n"
   ]
  },
  {
   "cell_type": "code",
   "execution_count": 15,
   "id": "fbf5c496",
   "metadata": {},
   "outputs": [
    {
     "data": {
      "text/plain": [
       "dict_keys(['api-key'])"
      ]
     },
     "execution_count": 15,
     "metadata": {},
     "output_type": "execute_result"
    }
   ],
   "source": [
    "# Loading API credentials.\n",
    "with open('/Users/eduar/.secret/tmdb_api.json', 'r') as file:\n",
    "    login = json.load(file)\n",
    "login.keys()"
   ]
  },
  {
   "cell_type": "code",
   "execution_count": 16,
   "id": "7a9b0334",
   "metadata": {},
   "outputs": [],
   "source": [
    "# Import credentials.\n",
    "tmdb.API_KEY =  login['api-key']"
   ]
  },
  {
   "cell_type": "code",
   "execution_count": 17,
   "id": "49e1f612",
   "metadata": {},
   "outputs": [
    {
     "data": {
      "text/plain": [
       "220000000"
      ]
     },
     "execution_count": 17,
     "metadata": {},
     "output_type": "execute_result"
    }
   ],
   "source": [
    "# Checking the connection with 'The Avengers'.\n",
    "the_avengers_movie = tmdb.Movies('tt0848228')\n",
    "the_avengers_info = the_avengers_movie.info()\n",
    "the_avengers_info['budget']"
   ]
  },
  {
   "cell_type": "code",
   "execution_count": 18,
   "id": "0ea98084",
   "metadata": {},
   "outputs": [
    {
     "data": {
      "text/plain": [
       "29000000"
      ]
     },
     "execution_count": 18,
     "metadata": {},
     "output_type": "execute_result"
    }
   ],
   "source": [
    "# Checking the connection with 'The Notebook'.\n",
    "the_notebook_movie = tmdb.Movies('tt0332280')\n",
    "the_notebook_info = the_notebook_movie.info()\n",
    "the_notebook_info['budget']"
   ]
  },
  {
   "cell_type": "markdown",
   "id": "46fdb211",
   "metadata": {},
   "source": [
    "### 2.3.- Get Budget, Revenue and Certification per movie tested in Section 2.2."
   ]
  },
  {
   "cell_type": "markdown",
   "id": "7030a8a2",
   "metadata": {},
   "source": [
    "#### 2.3.1.- The Avengers"
   ]
  },
  {
   "cell_type": "code",
   "execution_count": 19,
   "id": "5df752c9",
   "metadata": {},
   "outputs": [
    {
     "name": "stdout",
     "output_type": "stream",
     "text": [
      "The budget for The Avengers was USD 220,000,000.\n"
     ]
    }
   ],
   "source": [
    "# Budget.\n",
    "budget_avengers_info = the_avengers_info['budget']\n",
    "print(f'The budget for The Avengers was USD {budget_avengers_info:,}.')"
   ]
  },
  {
   "cell_type": "code",
   "execution_count": 20,
   "id": "e3ac5226",
   "metadata": {},
   "outputs": [
    {
     "name": "stdout",
     "output_type": "stream",
     "text": [
      "The revenue for The Avengers was USD 1,518,815,515.\n"
     ]
    }
   ],
   "source": [
    "# Revenue.\n",
    "revenue_avengers_info = the_avengers_info['revenue']\n",
    "print(f'The revenue for The Avengers was USD {revenue_avengers_info:,}.')"
   ]
  },
  {
   "cell_type": "code",
   "execution_count": 21,
   "id": "ad6ba758",
   "metadata": {},
   "outputs": [
    {
     "name": "stdout",
     "output_type": "stream",
     "text": [
      "The ROI for The Avengers was 590.37%.\n"
     ]
    }
   ],
   "source": [
    "# Impact of the revenue (Return of Investment).\n",
    "avengers_performance = round((revenue_avengers_info - budget_avengers_info)/budget_avengers_info *100, 2)\n",
    "print(f'The ROI for The Avengers was {avengers_performance}%.')"
   ]
  },
  {
   "cell_type": "code",
   "execution_count": 22,
   "id": "901e28ed",
   "metadata": {},
   "outputs": [
    {
     "data": {
      "text/plain": [
       "{'adult': False,\n",
       " 'backdrop_path': '/9BBTo63ANSmhC4e6r62OJFuK2GL.jpg',\n",
       " 'belongs_to_collection': {'id': 86311,\n",
       "  'name': 'The Avengers Collection',\n",
       "  'poster_path': '/yFSIUVTCvgYrpalUktulvk3Gi5Y.jpg',\n",
       "  'backdrop_path': '/zuW6fOiusv4X9nnW3paHGfXcSll.jpg'},\n",
       " 'budget': 220000000,\n",
       " 'genres': [{'id': 878, 'name': 'Science Fiction'},\n",
       "  {'id': 28, 'name': 'Action'},\n",
       "  {'id': 12, 'name': 'Adventure'}],\n",
       " 'homepage': 'https://www.marvel.com/movies/the-avengers',\n",
       " 'id': 24428,\n",
       " 'imdb_id': 'tt0848228',\n",
       " 'original_language': 'en',\n",
       " 'original_title': 'The Avengers',\n",
       " 'overview': 'When an unexpected enemy emerges and threatens global safety and security, Nick Fury, director of the international peacekeeping agency known as S.H.I.E.L.D., finds himself in need of a team to pull the world back from the brink of disaster. Spanning the globe, a daring recruitment effort begins!',\n",
       " 'popularity': 203.07,\n",
       " 'poster_path': '/RYMX2wcKCBAr24UyPD7xwmjaTn.jpg',\n",
       " 'production_companies': [{'id': 420,\n",
       "   'logo_path': '/hUzeosd33nzE5MCNsZxCGEKTXaQ.png',\n",
       "   'name': 'Marvel Studios',\n",
       "   'origin_country': 'US'}],\n",
       " 'production_countries': [{'iso_3166_1': 'US',\n",
       "   'name': 'United States of America'}],\n",
       " 'release_date': '2012-04-25',\n",
       " 'revenue': 1518815515,\n",
       " 'runtime': 143,\n",
       " 'spoken_languages': [{'english_name': 'English',\n",
       "   'iso_639_1': 'en',\n",
       "   'name': 'English'},\n",
       "  {'english_name': 'Hindi', 'iso_639_1': 'hi', 'name': 'हिन्दी'},\n",
       "  {'english_name': 'Russian', 'iso_639_1': 'ru', 'name': 'Pусский'}],\n",
       " 'status': 'Released',\n",
       " 'tagline': 'Some assembly required.',\n",
       " 'title': 'The Avengers',\n",
       " 'video': False,\n",
       " 'vote_average': 7.705,\n",
       " 'vote_count': 27524,\n",
       " 'certifcation': 'PG-13'}"
      ]
     },
     "execution_count": 22,
     "metadata": {},
     "output_type": "execute_result"
    }
   ],
   "source": [
    "# Certification (MPAA Rating).\n",
    "avengers_certification = get_movie_certification('tt0848228')\n",
    "avengers_certification"
   ]
  },
  {
   "cell_type": "markdown",
   "id": "2c352365",
   "metadata": {},
   "source": [
    "#### 2.3.2.- The Notebook"
   ]
  },
  {
   "cell_type": "code",
   "execution_count": 23,
   "id": "7ab09f94",
   "metadata": {},
   "outputs": [
    {
     "name": "stdout",
     "output_type": "stream",
     "text": [
      "The budget for The Notebook was USD 29,000,000.\n"
     ]
    }
   ],
   "source": [
    "# Budget.\n",
    "budget_notebook_info = the_notebook_info['budget']\n",
    "print(f'The budget for The Notebook was USD {budget_notebook_info:,}.')"
   ]
  },
  {
   "cell_type": "code",
   "execution_count": 24,
   "id": "94ba5109",
   "metadata": {},
   "outputs": [
    {
     "name": "stdout",
     "output_type": "stream",
     "text": [
      "The revenue for The Notebook was USD 115,603,229.\n"
     ]
    }
   ],
   "source": [
    "# Revenue.\n",
    "revenue_notebook_info = the_notebook_info['revenue']\n",
    "print(f'The revenue for The Notebook was USD {revenue_notebook_info:,}.')"
   ]
  },
  {
   "cell_type": "code",
   "execution_count": 25,
   "id": "03fc8458",
   "metadata": {},
   "outputs": [
    {
     "name": "stdout",
     "output_type": "stream",
     "text": [
      "The ROI for The Notebook was 298.63%.\n"
     ]
    }
   ],
   "source": [
    "# Impact of the revenue (Return of Investment).\n",
    "notebook_performance = round((revenue_notebook_info - budget_notebook_info)/budget_notebook_info *100, 2)\n",
    "print(f'The ROI for The Notebook was {notebook_performance}%.')"
   ]
  },
  {
   "cell_type": "code",
   "execution_count": 26,
   "id": "a6d0ff75",
   "metadata": {},
   "outputs": [
    {
     "data": {
      "text/plain": [
       "{'adult': False,\n",
       " 'backdrop_path': '/qom1SZSENdmHFNZBXbtJAU0WTlC.jpg',\n",
       " 'belongs_to_collection': None,\n",
       " 'budget': 29000000,\n",
       " 'genres': [{'id': 10749, 'name': 'Romance'}, {'id': 18, 'name': 'Drama'}],\n",
       " 'homepage': 'http://www.newline.com/properties/notebookthe.html',\n",
       " 'id': 11036,\n",
       " 'imdb_id': 'tt0332280',\n",
       " 'original_language': 'en',\n",
       " 'original_title': 'The Notebook',\n",
       " 'overview': \"An epic love story centered around an older man who reads aloud to a woman with Alzheimer's. From a faded notebook, the old man's words bring to life the story about a couple who is separated by World War II, and is then passionately reunited, seven years later, after they have taken different paths.\",\n",
       " 'popularity': 56.321,\n",
       " 'poster_path': '/rNzQyW4f8B8cQeg7Dgj3n6eT5k9.jpg',\n",
       " 'production_companies': [{'id': 12,\n",
       "   'logo_path': '/iaYpEp3LQmb8AfAtmTvpqd4149c.png',\n",
       "   'name': 'New Line Cinema',\n",
       "   'origin_country': 'US'},\n",
       "  {'id': 1565, 'logo_path': None, 'name': 'Avery Pix', 'origin_country': 'US'},\n",
       "  {'id': 2605,\n",
       "   'logo_path': None,\n",
       "   'name': 'Gran Via Productions',\n",
       "   'origin_country': 'US'}],\n",
       " 'production_countries': [{'iso_3166_1': 'US',\n",
       "   'name': 'United States of America'}],\n",
       " 'release_date': '2004-06-25',\n",
       " 'revenue': 115603229,\n",
       " 'runtime': 123,\n",
       " 'spoken_languages': [{'english_name': 'English',\n",
       "   'iso_639_1': 'en',\n",
       "   'name': 'English'}],\n",
       " 'status': 'Released',\n",
       " 'tagline': 'Behind every great love is a great story.',\n",
       " 'title': 'The Notebook',\n",
       " 'video': False,\n",
       " 'vote_average': 7.88,\n",
       " 'vote_count': 9820,\n",
       " 'certifcation': 'PG-13'}"
      ]
     },
     "execution_count": 26,
     "metadata": {},
     "output_type": "execute_result"
    }
   ],
   "source": [
    "# Certification (MPAA Rating).\n",
    "notebook_certification = get_movie_certification('tt0332280')\n",
    "notebook_certification"
   ]
  },
  {
   "cell_type": "code",
   "execution_count": 27,
   "id": "834e391f",
   "metadata": {},
   "outputs": [
    {
     "data": {
      "text/html": [
       "<div>\n",
       "<style scoped>\n",
       "    .dataframe tbody tr th:only-of-type {\n",
       "        vertical-align: middle;\n",
       "    }\n",
       "\n",
       "    .dataframe tbody tr th {\n",
       "        vertical-align: top;\n",
       "    }\n",
       "\n",
       "    .dataframe thead th {\n",
       "        text-align: right;\n",
       "    }\n",
       "</style>\n",
       "<table border=\"1\" class=\"dataframe\">\n",
       "  <thead>\n",
       "    <tr style=\"text-align: right;\">\n",
       "      <th></th>\n",
       "      <th>adult</th>\n",
       "      <th>backdrop_path</th>\n",
       "      <th>belongs_to_collection</th>\n",
       "      <th>budget</th>\n",
       "      <th>genres</th>\n",
       "      <th>homepage</th>\n",
       "      <th>id</th>\n",
       "      <th>imdb_id</th>\n",
       "      <th>original_language</th>\n",
       "      <th>original_title</th>\n",
       "      <th>...</th>\n",
       "      <th>revenue</th>\n",
       "      <th>runtime</th>\n",
       "      <th>spoken_languages</th>\n",
       "      <th>status</th>\n",
       "      <th>tagline</th>\n",
       "      <th>title</th>\n",
       "      <th>video</th>\n",
       "      <th>vote_average</th>\n",
       "      <th>vote_count</th>\n",
       "      <th>certifcation</th>\n",
       "    </tr>\n",
       "  </thead>\n",
       "  <tbody>\n",
       "    <tr>\n",
       "      <th>0</th>\n",
       "      <td>False</td>\n",
       "      <td>/9BBTo63ANSmhC4e6r62OJFuK2GL.jpg</td>\n",
       "      <td>{'id': 86311, 'name': 'The Avengers Collection...</td>\n",
       "      <td>220000000</td>\n",
       "      <td>[{'id': 878, 'name': 'Science Fiction'}, {'id'...</td>\n",
       "      <td>https://www.marvel.com/movies/the-avengers</td>\n",
       "      <td>24428</td>\n",
       "      <td>tt0848228</td>\n",
       "      <td>en</td>\n",
       "      <td>The Avengers</td>\n",
       "      <td>...</td>\n",
       "      <td>1518815515</td>\n",
       "      <td>143</td>\n",
       "      <td>[{'english_name': 'English', 'iso_639_1': 'en'...</td>\n",
       "      <td>Released</td>\n",
       "      <td>Some assembly required.</td>\n",
       "      <td>The Avengers</td>\n",
       "      <td>False</td>\n",
       "      <td>7.705</td>\n",
       "      <td>27524</td>\n",
       "      <td>PG-13</td>\n",
       "    </tr>\n",
       "    <tr>\n",
       "      <th>1</th>\n",
       "      <td>False</td>\n",
       "      <td>/qom1SZSENdmHFNZBXbtJAU0WTlC.jpg</td>\n",
       "      <td>None</td>\n",
       "      <td>29000000</td>\n",
       "      <td>[{'id': 10749, 'name': 'Romance'}, {'id': 18, ...</td>\n",
       "      <td>http://www.newline.com/properties/notebookthe....</td>\n",
       "      <td>11036</td>\n",
       "      <td>tt0332280</td>\n",
       "      <td>en</td>\n",
       "      <td>The Notebook</td>\n",
       "      <td>...</td>\n",
       "      <td>115603229</td>\n",
       "      <td>123</td>\n",
       "      <td>[{'english_name': 'English', 'iso_639_1': 'en'...</td>\n",
       "      <td>Released</td>\n",
       "      <td>Behind every great love is a great story.</td>\n",
       "      <td>The Notebook</td>\n",
       "      <td>False</td>\n",
       "      <td>7.880</td>\n",
       "      <td>9820</td>\n",
       "      <td>PG-13</td>\n",
       "    </tr>\n",
       "  </tbody>\n",
       "</table>\n",
       "<p>2 rows × 26 columns</p>\n",
       "</div>"
      ],
      "text/plain": [
       "   adult                     backdrop_path  \\\n",
       "0  False  /9BBTo63ANSmhC4e6r62OJFuK2GL.jpg   \n",
       "1  False  /qom1SZSENdmHFNZBXbtJAU0WTlC.jpg   \n",
       "\n",
       "                               belongs_to_collection     budget  \\\n",
       "0  {'id': 86311, 'name': 'The Avengers Collection...  220000000   \n",
       "1                                               None   29000000   \n",
       "\n",
       "                                              genres  \\\n",
       "0  [{'id': 878, 'name': 'Science Fiction'}, {'id'...   \n",
       "1  [{'id': 10749, 'name': 'Romance'}, {'id': 18, ...   \n",
       "\n",
       "                                            homepage     id    imdb_id  \\\n",
       "0         https://www.marvel.com/movies/the-avengers  24428  tt0848228   \n",
       "1  http://www.newline.com/properties/notebookthe....  11036  tt0332280   \n",
       "\n",
       "  original_language original_title  ...     revenue  runtime  \\\n",
       "0                en   The Avengers  ...  1518815515      143   \n",
       "1                en   The Notebook  ...   115603229      123   \n",
       "\n",
       "                                    spoken_languages    status  \\\n",
       "0  [{'english_name': 'English', 'iso_639_1': 'en'...  Released   \n",
       "1  [{'english_name': 'English', 'iso_639_1': 'en'...  Released   \n",
       "\n",
       "                                     tagline         title  video  \\\n",
       "0                    Some assembly required.  The Avengers  False   \n",
       "1  Behind every great love is a great story.  The Notebook  False   \n",
       "\n",
       "   vote_average vote_count certifcation  \n",
       "0         7.705      27524        PG-13  \n",
       "1         7.880       9820        PG-13  \n",
       "\n",
       "[2 rows x 26 columns]"
      ]
     },
     "execution_count": 27,
     "metadata": {},
     "output_type": "execute_result"
    }
   ],
   "source": [
    "# Summary between both movies.\n",
    "test_ids = ['tt0848228', 'tt0332280']\n",
    "results = []\n",
    "\n",
    "for movie_id in test_ids:  \n",
    "    try:\n",
    "        movie_info = get_movie_certification(movie_id)\n",
    "        results.append(movie_info)        \n",
    "    except: \n",
    "        pass\n",
    "    \n",
    "pd.DataFrame(results)"
   ]
  },
  {
   "cell_type": "markdown",
   "id": "d2c3b50a",
   "metadata": {},
   "source": [
    "## 3.- Visual Data Exploration\n",
    "- Xxxxx"
   ]
  },
  {
   "cell_type": "code",
   "execution_count": null,
   "id": "bffc62e7",
   "metadata": {},
   "outputs": [],
   "source": []
  },
  {
   "cell_type": "markdown",
   "id": "300f9ea7",
   "metadata": {},
   "source": [
    "# E. Conclusions"
   ]
  },
  {
   "cell_type": "markdown",
   "id": "5c54cb79",
   "metadata": {},
   "source": [
    "- Xxxxx"
   ]
  }
 ],
 "metadata": {
  "kernelspec": {
   "display_name": "Python (dojo-env)",
   "language": "python",
   "name": "dojo-env"
  },
  "language_info": {
   "codemirror_mode": {
    "name": "ipython",
    "version": 3
   },
   "file_extension": ".py",
   "mimetype": "text/x-python",
   "name": "python",
   "nbconvert_exporter": "python",
   "pygments_lexer": "ipython3",
   "version": "3.8.13"
  },
  "toc": {
   "base_numbering": 1,
   "nav_menu": {},
   "number_sections": false,
   "sideBar": true,
   "skip_h1_title": false,
   "title_cell": "Table of Contents",
   "title_sidebar": "Contents",
   "toc_cell": false,
   "toc_position": {
    "height": "calc(100% - 180px)",
    "left": "10px",
    "top": "150px",
    "width": "384px"
   },
   "toc_section_display": true,
   "toc_window_display": true
  }
 },
 "nbformat": 4,
 "nbformat_minor": 5
}
