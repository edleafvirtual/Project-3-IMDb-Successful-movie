{
 "cells": [
  {
   "cell_type": "markdown",
   "id": "b9928721",
   "metadata": {},
   "source": [
    "# A. Project Name:  IMDb Successful Movie.\n",
    "- **Student Name:** Eduardo Galindez.\n",
    "- **Coding Dojo Bootcamp:** Data Science.\n",
    "  - **Stack:** Data Enrichment.\n",
    "- **Date:** September 23th, 2022."
   ]
  },
  {
   "cell_type": "markdown",
   "id": "ee105cc2",
   "metadata": {},
   "source": [
    "# B. Project Objective\n",
    "Our Stakeholder Wants More Data!\n",
    "- After investigating the preview of our data from Part A, the stakeholder realized that there is no financial information included in the IMDB data (e.g. budget or revenue).\n",
    "    - Our stakeholder identified The Movie Database ([TMDB](https://www.themoviedb.org/)) as a great source of financial data . Thankfully, TMDB offers a free API for programmatic access to their data!\n",
    "- The stakeholder wants we to extract the budget, revenue, and MPAA Rating (G/PG/PG-13/R), which is also called \"Certification\"."
   ]
  },
  {
   "cell_type": "markdown",
   "id": "0887afa0",
   "metadata": {},
   "source": [
    "# C. Project Statement\n"
   ]
  },
  {
   "cell_type": "markdown",
   "id": "6c393f17",
   "metadata": {},
   "source": [
    "### Specifications:\n",
    "\n",
    "Our stakeholder would like you to extract and save the results for movies that meet all of the criteria established in Part A of the project.\n",
    "\n",
    "As a proof-of-concept, they requested we perform a test extraction of movies that started in 2000 or 2001\n",
    "\n",
    "Each year should be saved as a separate .csv.gz file\n",
    "\n",
    "Confirm Your API Function works.\n",
    "\n",
    "- In order to ensure our function for extracting movie data from TMDB is working, test the function on these 2 movie ids: tt0848228 (\"The Avengers\") and tt0332280 (\"The Notebook\"). Make sure that the function runs without error and that it returns the correct movie's data for both test ids.\n",
    "\n",
    "- Once you have retrieved and saved the final results to 2 separate .csv.gz files, move on to a Exploratory Data Analysis to explore the following questions."
   ]
  },
  {
   "cell_type": "markdown",
   "id": "122806f0",
   "metadata": {},
   "source": [
    "### Exploratory Data Analysis\n",
    "1. Load in your csv.gz's of results for each year extracted.\n",
    " - Concatenate the data into 1 dataframe for the remainder of the analysis.\n",
    "2. Once you have your data from the API, they would like we to perform some light EDA to show:\n",
    " - How many movies had at least some valid financial information (values > 0 for budget OR revenue)?\n",
    " - Exclude any movies with 0's for budget AND revenue from the remaining visualizations.\n",
    " - How many movies are there in each of the certification categories (G/PG/PG-13/R)?\n",
    " - What is the average revenue per certification category?\n",
    " - What is the average budget per certification category?"
   ]
  },
  {
   "cell_type": "markdown",
   "id": "e3add176",
   "metadata": {},
   "source": [
    "### Deliverable:\n",
    "\n",
    "After we have joined the tmdb results into 1 dataframe in the EDA Notebook:\n",
    "\n",
    "- Save a final merged .csv.gz of all of the tmdb api data.\n",
    "- The file name should be \"tmdb_results_combined.csv.gz\".\n",
    "- Make sure this is pushed to our GitHub repository along with all of the code.\n",
    "- One code file for API calls.\n",
    "- One code file for EDA.\n",
    "- Submit the link."
   ]
  },
  {
   "cell_type": "markdown",
   "id": "87dba2c0",
   "metadata": {},
   "source": [
    "# D. Project Development"
   ]
  },
  {
   "cell_type": "markdown",
   "id": "9f8260b5",
   "metadata": {},
   "source": [
    "## 1.- Libraries & Functions"
   ]
  },
  {
   "cell_type": "code",
   "execution_count": 1,
   "id": "1494bf3e",
   "metadata": {},
   "outputs": [],
   "source": [
    "# Libraries.\n",
    "import numpy as np\n",
    "import pandas as pd\n",
    "import tmdbsimple as tmdb \n",
    "import matplotlib.pyplot as plt\n",
    "import seaborn as sns\n",
    "import os, time, json\n",
    "os.makedirs('Data',exist_ok=True)\n",
    "\n",
    "from tqdm.notebook import tqdm_notebook"
   ]
  },
  {
   "cell_type": "code",
   "execution_count": 2,
   "id": "d93649c6",
   "metadata": {},
   "outputs": [],
   "source": [
    "# Function to get the certification.\n",
    "def get_movie_certification(movie_id):\n",
    "    movie = tmdb.Movies(movie_id)\n",
    "    info = movie.info()\n",
    "    releases = movie.releases()\n",
    "    \n",
    "    for c in releases['countries']:\n",
    "        if c['iso_3166_1'] == \"US\":\n",
    "            info['certifcation'] = c['certification']     \n",
    "    return info"
   ]
  },
  {
   "cell_type": "code",
   "execution_count": 3,
   "id": "a1b23d59",
   "metadata": {},
   "outputs": [],
   "source": [
    "# Function to create our .json file.\n",
    "##  Adapted from: https://www.geeksforgeeks.org/append-to-json-file-using-python/\n",
    "\n",
    "def write_json(new_data, filename):    \n",
    "    with open(filename,'r+') as file:\n",
    "        # First we load existing data into a dict.\n",
    "        file_data = json.load(file)\n",
    "        ## Choose extend or append\n",
    "        if (type(new_data) == list) & (type(file_data) == list):\n",
    "            file_data.extend(new_data)\n",
    "        else:\n",
    "             file_data.append(new_data)\n",
    "        # Sets file's current position at offset.\n",
    "        file.seek(0)\n",
    "        # convert back to json.\n",
    "        json.dump(file_data, file)"
   ]
  },
  {
   "cell_type": "markdown",
   "id": "9bee975a",
   "metadata": {},
   "source": [
    "## 2.-  Data & Connection"
   ]
  },
  {
   "cell_type": "markdown",
   "id": "37799a31",
   "metadata": {},
   "source": [
    "### 2.1.- API connection\n"
   ]
  },
  {
   "cell_type": "code",
   "execution_count": 4,
   "id": "fbf5c496",
   "metadata": {},
   "outputs": [
    {
     "data": {
      "text/plain": [
       "dict_keys(['api-key'])"
      ]
     },
     "execution_count": 4,
     "metadata": {},
     "output_type": "execute_result"
    }
   ],
   "source": [
    "# Loading API credentials.\n",
    "with open('/Users/eduar/.secret/tmdb_api.json', 'r') as file:\n",
    "    login = json.load(file)\n",
    "login.keys()"
   ]
  },
  {
   "cell_type": "code",
   "execution_count": 5,
   "id": "7a9b0334",
   "metadata": {},
   "outputs": [],
   "source": [
    "# Import credentials.\n",
    "tmdb.API_KEY =  login['api-key']"
   ]
  },
  {
   "cell_type": "code",
   "execution_count": 6,
   "id": "49e1f612",
   "metadata": {},
   "outputs": [
    {
     "data": {
      "text/plain": [
       "220000000"
      ]
     },
     "execution_count": 6,
     "metadata": {},
     "output_type": "execute_result"
    }
   ],
   "source": [
    "# Checking the connection with 'The Avengers'.\n",
    "the_avengers_movie = tmdb.Movies('tt0848228')\n",
    "the_avengers_info = the_avengers_movie.info()\n",
    "the_avengers_info['budget']"
   ]
  },
  {
   "cell_type": "code",
   "execution_count": 7,
   "id": "0ea98084",
   "metadata": {},
   "outputs": [
    {
     "data": {
      "text/plain": [
       "29000000"
      ]
     },
     "execution_count": 7,
     "metadata": {},
     "output_type": "execute_result"
    }
   ],
   "source": [
    "# Checking the connection with 'The Notebook'.\n",
    "the_notebook_movie = tmdb.Movies('tt0332280')\n",
    "the_notebook_info = the_notebook_movie.info()\n",
    "the_notebook_info['budget']"
   ]
  },
  {
   "cell_type": "markdown",
   "id": "1b8c309f",
   "metadata": {},
   "source": [
    "### 2.2.- Mount and loading data."
   ]
  },
  {
   "cell_type": "code",
   "execution_count": 8,
   "id": "4972c4f8",
   "metadata": {},
   "outputs": [
    {
     "data": {
      "text/plain": [
       "['.ipynb_checkpoints',\n",
       " 'Chunk data per database',\n",
       " 'final_tmdb_data_2000.csv.gz',\n",
       " 'final_tmdb_data_2001.csv.gz',\n",
       " 'Original data',\n",
       " 'title_akas_combined.csv.gz',\n",
       " 'title_basics_combined.csv.gz',\n",
       " 'title_ratings_combined.csv.gz',\n",
       " 'tmdb_api_results_2000.json',\n",
       " 'tmdb_api_results_2001.json',\n",
       " 'tmdb_results_combined.csv.gz']"
      ]
     },
     "execution_count": 8,
     "metadata": {},
     "output_type": "execute_result"
    }
   ],
   "source": [
    "# Specify folder for saving data.\n",
    "FOLDER = \"Data/\"\n",
    "os.makedirs(FOLDER, exist_ok=True)\n",
    "os.listdir(FOLDER)"
   ]
  },
  {
   "cell_type": "code",
   "execution_count": 9,
   "id": "2ebdedb9",
   "metadata": {},
   "outputs": [],
   "source": [
    "# Load in the dataframe from Part A:\n",
    "basics_df = pd.read_csv('./Data/title_basics_combined.csv.gz', low_memory = False)"
   ]
  },
  {
   "cell_type": "code",
   "execution_count": 10,
   "id": "6ff189f3",
   "metadata": {},
   "outputs": [],
   "source": [
    "# Let's drop the column 'endYear' as was reported in Section E of Part A notebook.\n",
    "basics_df = basics_df.drop(columns=['endYear'])"
   ]
  },
  {
   "cell_type": "code",
   "execution_count": 11,
   "id": "9225f953",
   "metadata": {},
   "outputs": [],
   "source": [
    "# Convert 'startYear' column dtype to int.\n",
    "basics_df['startYear'] = basics_df['startYear'].astype(int)"
   ]
  },
  {
   "cell_type": "code",
   "execution_count": 12,
   "id": "ef6a7c34",
   "metadata": {},
   "outputs": [
    {
     "name": "stdout",
     "output_type": "stream",
     "text": [
      "<class 'pandas.core.frame.DataFrame'>\n",
      "RangeIndex: 79858 entries, 0 to 79857\n",
      "Data columns (total 8 columns):\n",
      " #   Column          Non-Null Count  Dtype \n",
      "---  ------          --------------  ----- \n",
      " 0   tconst          79858 non-null  object\n",
      " 1   titleType       79858 non-null  object\n",
      " 2   primaryTitle    79858 non-null  object\n",
      " 3   originalTitle   79858 non-null  object\n",
      " 4   isAdult         79858 non-null  int64 \n",
      " 5   startYear       79858 non-null  int32 \n",
      " 6   runtimeMinutes  79858 non-null  int64 \n",
      " 7   genres          79858 non-null  object\n",
      "dtypes: int32(1), int64(2), object(5)\n",
      "memory usage: 4.6+ MB\n"
     ]
    }
   ],
   "source": [
    "# Let's confirm we don't have missing data.\n",
    "basics_df.info()"
   ]
  },
  {
   "cell_type": "code",
   "execution_count": 13,
   "id": "07952411",
   "metadata": {},
   "outputs": [
    {
     "data": {
      "text/html": [
       "<div>\n",
       "<style scoped>\n",
       "    .dataframe tbody tr th:only-of-type {\n",
       "        vertical-align: middle;\n",
       "    }\n",
       "\n",
       "    .dataframe tbody tr th {\n",
       "        vertical-align: top;\n",
       "    }\n",
       "\n",
       "    .dataframe thead th {\n",
       "        text-align: right;\n",
       "    }\n",
       "</style>\n",
       "<table border=\"1\" class=\"dataframe\">\n",
       "  <thead>\n",
       "    <tr style=\"text-align: right;\">\n",
       "      <th></th>\n",
       "      <th>tconst</th>\n",
       "      <th>titleType</th>\n",
       "      <th>primaryTitle</th>\n",
       "      <th>originalTitle</th>\n",
       "      <th>isAdult</th>\n",
       "      <th>startYear</th>\n",
       "      <th>runtimeMinutes</th>\n",
       "      <th>genres</th>\n",
       "    </tr>\n",
       "  </thead>\n",
       "  <tbody>\n",
       "    <tr>\n",
       "      <th>0</th>\n",
       "      <td>tt0108549</td>\n",
       "      <td>movie</td>\n",
       "      <td>West from North Goes South</td>\n",
       "      <td>West from North Goes South</td>\n",
       "      <td>0</td>\n",
       "      <td>2004</td>\n",
       "      <td>96</td>\n",
       "      <td>Comedy,Mystery</td>\n",
       "    </tr>\n",
       "    <tr>\n",
       "      <th>1</th>\n",
       "      <td>tt0113026</td>\n",
       "      <td>movie</td>\n",
       "      <td>The Fantasticks</td>\n",
       "      <td>The Fantasticks</td>\n",
       "      <td>0</td>\n",
       "      <td>2000</td>\n",
       "      <td>86</td>\n",
       "      <td>Musical,Romance</td>\n",
       "    </tr>\n",
       "    <tr>\n",
       "      <th>2</th>\n",
       "      <td>tt0113092</td>\n",
       "      <td>movie</td>\n",
       "      <td>For the Cause</td>\n",
       "      <td>For the Cause</td>\n",
       "      <td>0</td>\n",
       "      <td>2000</td>\n",
       "      <td>100</td>\n",
       "      <td>Action,Adventure,Drama</td>\n",
       "    </tr>\n",
       "    <tr>\n",
       "      <th>3</th>\n",
       "      <td>tt0114447</td>\n",
       "      <td>movie</td>\n",
       "      <td>The Silent Force</td>\n",
       "      <td>The Silent Force</td>\n",
       "      <td>0</td>\n",
       "      <td>2001</td>\n",
       "      <td>90</td>\n",
       "      <td>Action</td>\n",
       "    </tr>\n",
       "    <tr>\n",
       "      <th>4</th>\n",
       "      <td>tt0115937</td>\n",
       "      <td>movie</td>\n",
       "      <td>Consequence</td>\n",
       "      <td>Consequence</td>\n",
       "      <td>0</td>\n",
       "      <td>2000</td>\n",
       "      <td>91</td>\n",
       "      <td>Drama</td>\n",
       "    </tr>\n",
       "    <tr>\n",
       "      <th>...</th>\n",
       "      <td>...</td>\n",
       "      <td>...</td>\n",
       "      <td>...</td>\n",
       "      <td>...</td>\n",
       "      <td>...</td>\n",
       "      <td>...</td>\n",
       "      <td>...</td>\n",
       "      <td>...</td>\n",
       "    </tr>\n",
       "    <tr>\n",
       "      <th>79853</th>\n",
       "      <td>tt9916170</td>\n",
       "      <td>movie</td>\n",
       "      <td>The Rehearsal</td>\n",
       "      <td>O Ensaio</td>\n",
       "      <td>0</td>\n",
       "      <td>2019</td>\n",
       "      <td>51</td>\n",
       "      <td>Drama</td>\n",
       "    </tr>\n",
       "    <tr>\n",
       "      <th>79854</th>\n",
       "      <td>tt9916190</td>\n",
       "      <td>movie</td>\n",
       "      <td>Safeguard</td>\n",
       "      <td>Safeguard</td>\n",
       "      <td>0</td>\n",
       "      <td>2020</td>\n",
       "      <td>95</td>\n",
       "      <td>Action,Adventure,Thriller</td>\n",
       "    </tr>\n",
       "    <tr>\n",
       "      <th>79855</th>\n",
       "      <td>tt9916270</td>\n",
       "      <td>movie</td>\n",
       "      <td>Il talento del calabrone</td>\n",
       "      <td>Il talento del calabrone</td>\n",
       "      <td>0</td>\n",
       "      <td>2020</td>\n",
       "      <td>84</td>\n",
       "      <td>Thriller</td>\n",
       "    </tr>\n",
       "    <tr>\n",
       "      <th>79856</th>\n",
       "      <td>tt9916362</td>\n",
       "      <td>movie</td>\n",
       "      <td>Coven</td>\n",
       "      <td>Akelarre</td>\n",
       "      <td>0</td>\n",
       "      <td>2020</td>\n",
       "      <td>92</td>\n",
       "      <td>Drama,History</td>\n",
       "    </tr>\n",
       "    <tr>\n",
       "      <th>79857</th>\n",
       "      <td>tt9916538</td>\n",
       "      <td>movie</td>\n",
       "      <td>Kuambil Lagi Hatiku</td>\n",
       "      <td>Kuambil Lagi Hatiku</td>\n",
       "      <td>0</td>\n",
       "      <td>2019</td>\n",
       "      <td>123</td>\n",
       "      <td>Drama</td>\n",
       "    </tr>\n",
       "  </tbody>\n",
       "</table>\n",
       "<p>79858 rows × 8 columns</p>\n",
       "</div>"
      ],
      "text/plain": [
       "          tconst titleType                primaryTitle  \\\n",
       "0      tt0108549     movie  West from North Goes South   \n",
       "1      tt0113026     movie             The Fantasticks   \n",
       "2      tt0113092     movie               For the Cause   \n",
       "3      tt0114447     movie            The Silent Force   \n",
       "4      tt0115937     movie                 Consequence   \n",
       "...          ...       ...                         ...   \n",
       "79853  tt9916170     movie               The Rehearsal   \n",
       "79854  tt9916190     movie                   Safeguard   \n",
       "79855  tt9916270     movie    Il talento del calabrone   \n",
       "79856  tt9916362     movie                       Coven   \n",
       "79857  tt9916538     movie         Kuambil Lagi Hatiku   \n",
       "\n",
       "                    originalTitle  isAdult  startYear  runtimeMinutes  \\\n",
       "0      West from North Goes South        0       2004              96   \n",
       "1                 The Fantasticks        0       2000              86   \n",
       "2                   For the Cause        0       2000             100   \n",
       "3                The Silent Force        0       2001              90   \n",
       "4                     Consequence        0       2000              91   \n",
       "...                           ...      ...        ...             ...   \n",
       "79853                    O Ensaio        0       2019              51   \n",
       "79854                   Safeguard        0       2020              95   \n",
       "79855    Il talento del calabrone        0       2020              84   \n",
       "79856                    Akelarre        0       2020              92   \n",
       "79857         Kuambil Lagi Hatiku        0       2019             123   \n",
       "\n",
       "                          genres  \n",
       "0                 Comedy,Mystery  \n",
       "1                Musical,Romance  \n",
       "2         Action,Adventure,Drama  \n",
       "3                         Action  \n",
       "4                          Drama  \n",
       "...                          ...  \n",
       "79853                      Drama  \n",
       "79854  Action,Adventure,Thriller  \n",
       "79855                   Thriller  \n",
       "79856              Drama,History  \n",
       "79857                      Drama  \n",
       "\n",
       "[79858 rows x 8 columns]"
      ]
     },
     "execution_count": 13,
     "metadata": {},
     "output_type": "execute_result"
    }
   ],
   "source": [
    "# General look of the dataframe.\n",
    "basics_df"
   ]
  },
  {
   "cell_type": "code",
   "execution_count": 14,
   "id": "6354488e",
   "metadata": {},
   "outputs": [],
   "source": [
    "# Create Required Lists for the our function.\n",
    "YEARS_TO_GET = [2000, 2001]\n",
    "errors = [ ]"
   ]
  },
  {
   "cell_type": "code",
   "execution_count": 15,
   "id": "5e653705",
   "metadata": {},
   "outputs": [
    {
     "data": {
      "application/json": {
       "ascii": false,
       "bar_format": null,
       "colour": null,
       "elapsed": 0.03297281265258789,
       "initial": 0,
       "n": 0,
       "ncols": null,
       "nrows": null,
       "postfix": null,
       "prefix": "YEARS",
       "rate": null,
       "total": 2,
       "unit": "it",
       "unit_divisor": 1000,
       "unit_scale": false
      },
      "application/vnd.jupyter.widget-view+json": {
       "model_id": "d559ed6a44814b1caba992570f77a491",
       "version_major": 2,
       "version_minor": 0
      },
      "text/plain": [
       "YEARS:   0%|          | 0/2 [00:00<?, ?it/s]"
      ]
     },
     "metadata": {},
     "output_type": "display_data"
    },
    {
     "name": "stdout",
     "output_type": "stream",
     "text": [
      "2000 Data/tmdb_api_results_2000.json already exists.\n",
      "2001 Data/tmdb_api_results_2001.json already exists.\n",
      "- Total errors: 0\n"
     ]
    }
   ],
   "source": [
    "# Start of OUTER loop\n",
    "for YEAR in tqdm_notebook(YEARS_TO_GET, desc='YEARS', position=0):\n",
    "    # Defining the JSON file to store results for year.\n",
    "    JSON_FILE = f'{FOLDER}tmdb_api_results_{YEAR}.json'\n",
    "    # Check if the file exists.\n",
    "    file_exists = os.path.isfile(JSON_FILE)\n",
    "    # If it does exist: notify me.\n",
    "    if file_exists == True:\n",
    "        print(f'{YEAR} {JSON_FILE} already exists.')\n",
    "    # If it does not exist: create it.\n",
    "    else:\n",
    "    # Save an empty dict with just \"imdb_id\" to the new json file.\n",
    "        with open(JSON_FILE,'w') as file:\n",
    "            json.dump([{'imdb_id':0}], file)\n",
    "\n",
    "    # Saving new year as the current df.        \n",
    "    df = basics_df.loc[basics_df['startYear'] == YEAR].copy()\n",
    "    # Saving movie ids to list.\n",
    "    movie_ids = df['tconst'].copy()\n",
    "    \n",
    "    # Load existing data from json into a dataframe called \"previous_df\"\n",
    "    previous_df = pd.read_json(JSON_FILE)\n",
    "    \n",
    "    # Filter out any ids that are already in the JSON_FILE.\n",
    "    movie_ids_to_get = movie_ids[~movie_ids.isin(previous_df['imdb_id'])]\n",
    "\n",
    "    \n",
    "    # Start of INNER Loop.\n",
    "    if file_exists == False:\n",
    "        for movie_id in tqdm_notebook(movie_ids_to_get,\n",
    "                                      desc=f'Movies from {YEAR}',\n",
    "                                      position=1,\n",
    "                                      leave=True):\n",
    "            try:\n",
    "                # Retrieve then data for the movie id.\n",
    "                temp = get_movie_certification(movie_id)  \n",
    "                # Append/extend results to existing file using a pre-made function.\n",
    "                write_json(temp,JSON_FILE)\n",
    "                # Short 20 ms sleep to prevent overwhelming server.\n",
    "                time.sleep(0.02)\n",
    "\n",
    "            except Exception as e:\n",
    "                errors.append([movie_id, e])\n",
    "\n",
    "        final_year_df = pd.read_json(JSON_FILE)\n",
    "        final_year_df.to_csv(f\"{FOLDER}final_tmdb_data_{YEAR}.csv.gz\", compression=\"gzip\", index=False)\n",
    "\n",
    "print(f\"- Total errors: {len(errors)}\")"
   ]
  },
  {
   "cell_type": "code",
   "execution_count": 16,
   "id": "773aa9a6",
   "metadata": {},
   "outputs": [],
   "source": [
    "# Let's load data from 2000 & 2001.\n",
    "movies_from_2000_df = pd.read_csv('./Data/final_tmdb_data_2000.csv.gz', low_memory = False)\n",
    "movies_from_2001_df = pd.read_csv('./Data/final_tmdb_data_2001.csv.gz', low_memory = False)"
   ]
  },
  {
   "cell_type": "code",
   "execution_count": 17,
   "id": "828fb459",
   "metadata": {
    "scrolled": false
   },
   "outputs": [
    {
     "data": {
      "text/html": [
       "<div>\n",
       "<style scoped>\n",
       "    .dataframe tbody tr th:only-of-type {\n",
       "        vertical-align: middle;\n",
       "    }\n",
       "\n",
       "    .dataframe tbody tr th {\n",
       "        vertical-align: top;\n",
       "    }\n",
       "\n",
       "    .dataframe thead th {\n",
       "        text-align: right;\n",
       "    }\n",
       "</style>\n",
       "<table border=\"1\" class=\"dataframe\">\n",
       "  <thead>\n",
       "    <tr style=\"text-align: right;\">\n",
       "      <th></th>\n",
       "      <th>imdb_id</th>\n",
       "      <th>adult</th>\n",
       "      <th>backdrop_path</th>\n",
       "      <th>belongs_to_collection</th>\n",
       "      <th>budget</th>\n",
       "      <th>genres</th>\n",
       "      <th>homepage</th>\n",
       "      <th>id</th>\n",
       "      <th>original_language</th>\n",
       "      <th>original_title</th>\n",
       "      <th>...</th>\n",
       "      <th>revenue</th>\n",
       "      <th>runtime</th>\n",
       "      <th>spoken_languages</th>\n",
       "      <th>status</th>\n",
       "      <th>tagline</th>\n",
       "      <th>title</th>\n",
       "      <th>video</th>\n",
       "      <th>vote_average</th>\n",
       "      <th>vote_count</th>\n",
       "      <th>certifcation</th>\n",
       "    </tr>\n",
       "  </thead>\n",
       "  <tbody>\n",
       "    <tr>\n",
       "      <th>0</th>\n",
       "      <td>0</td>\n",
       "      <td>NaN</td>\n",
       "      <td>NaN</td>\n",
       "      <td>NaN</td>\n",
       "      <td>NaN</td>\n",
       "      <td>NaN</td>\n",
       "      <td>NaN</td>\n",
       "      <td>NaN</td>\n",
       "      <td>NaN</td>\n",
       "      <td>NaN</td>\n",
       "      <td>...</td>\n",
       "      <td>NaN</td>\n",
       "      <td>NaN</td>\n",
       "      <td>NaN</td>\n",
       "      <td>NaN</td>\n",
       "      <td>NaN</td>\n",
       "      <td>NaN</td>\n",
       "      <td>NaN</td>\n",
       "      <td>NaN</td>\n",
       "      <td>NaN</td>\n",
       "      <td>NaN</td>\n",
       "    </tr>\n",
       "    <tr>\n",
       "      <th>1</th>\n",
       "      <td>tt0113026</td>\n",
       "      <td>0.0</td>\n",
       "      <td>/vMFs7nw6P0bIV1jDsQpxAieAVnH.jpg</td>\n",
       "      <td>NaN</td>\n",
       "      <td>10000000.0</td>\n",
       "      <td>[{'id': 35, 'name': 'Comedy'}, {'id': 10402, '...</td>\n",
       "      <td>NaN</td>\n",
       "      <td>62127.0</td>\n",
       "      <td>en</td>\n",
       "      <td>The Fantasticks</td>\n",
       "      <td>...</td>\n",
       "      <td>0.0</td>\n",
       "      <td>86.0</td>\n",
       "      <td>[{'english_name': 'English', 'iso_639_1': 'en'...</td>\n",
       "      <td>Released</td>\n",
       "      <td>Try to remember the first time magic happened</td>\n",
       "      <td>The Fantasticks</td>\n",
       "      <td>0.0</td>\n",
       "      <td>5.50</td>\n",
       "      <td>22.0</td>\n",
       "      <td>NaN</td>\n",
       "    </tr>\n",
       "    <tr>\n",
       "      <th>2</th>\n",
       "      <td>tt0113092</td>\n",
       "      <td>0.0</td>\n",
       "      <td>NaN</td>\n",
       "      <td>NaN</td>\n",
       "      <td>0.0</td>\n",
       "      <td>[{'id': 878, 'name': 'Science Fiction'}]</td>\n",
       "      <td>NaN</td>\n",
       "      <td>110977.0</td>\n",
       "      <td>en</td>\n",
       "      <td>For the Cause</td>\n",
       "      <td>...</td>\n",
       "      <td>0.0</td>\n",
       "      <td>100.0</td>\n",
       "      <td>[{'english_name': 'English', 'iso_639_1': 'en'...</td>\n",
       "      <td>Released</td>\n",
       "      <td>The ultimate showdown on a forbidden planet.</td>\n",
       "      <td>For the Cause</td>\n",
       "      <td>0.0</td>\n",
       "      <td>5.10</td>\n",
       "      <td>8.0</td>\n",
       "      <td>NaN</td>\n",
       "    </tr>\n",
       "    <tr>\n",
       "      <th>3</th>\n",
       "      <td>tt0116391</td>\n",
       "      <td>0.0</td>\n",
       "      <td>NaN</td>\n",
       "      <td>NaN</td>\n",
       "      <td>0.0</td>\n",
       "      <td>[{'id': 18, 'name': 'Drama'}, {'id': 28, 'name...</td>\n",
       "      <td>NaN</td>\n",
       "      <td>442869.0</td>\n",
       "      <td>hi</td>\n",
       "      <td>Gang</td>\n",
       "      <td>...</td>\n",
       "      <td>0.0</td>\n",
       "      <td>152.0</td>\n",
       "      <td>[{'english_name': 'Hindi', 'iso_639_1': 'hi', ...</td>\n",
       "      <td>Released</td>\n",
       "      <td>NaN</td>\n",
       "      <td>Gang</td>\n",
       "      <td>0.0</td>\n",
       "      <td>0.00</td>\n",
       "      <td>0.0</td>\n",
       "      <td>NaN</td>\n",
       "    </tr>\n",
       "    <tr>\n",
       "      <th>4</th>\n",
       "      <td>tt0118694</td>\n",
       "      <td>0.0</td>\n",
       "      <td>/n4GJFGzsc7NinI1VeGDXIcQjtU2.jpg</td>\n",
       "      <td>NaN</td>\n",
       "      <td>150000.0</td>\n",
       "      <td>[{'id': 18, 'name': 'Drama'}, {'id': 10749, 'n...</td>\n",
       "      <td>http://www.wkw-inthemoodforlove.com/</td>\n",
       "      <td>843.0</td>\n",
       "      <td>cn</td>\n",
       "      <td>花樣年華</td>\n",
       "      <td>...</td>\n",
       "      <td>12854953.0</td>\n",
       "      <td>99.0</td>\n",
       "      <td>[{'english_name': 'Cantonese', 'iso_639_1': 'c...</td>\n",
       "      <td>Released</td>\n",
       "      <td>Feel the heat, keep the feeling burning, let t...</td>\n",
       "      <td>In the Mood for Love</td>\n",
       "      <td>0.0</td>\n",
       "      <td>8.11</td>\n",
       "      <td>1984.0</td>\n",
       "      <td>PG</td>\n",
       "    </tr>\n",
       "  </tbody>\n",
       "</table>\n",
       "<p>5 rows × 26 columns</p>\n",
       "</div>"
      ],
      "text/plain": [
       "     imdb_id  adult                     backdrop_path belongs_to_collection  \\\n",
       "0          0    NaN                               NaN                   NaN   \n",
       "1  tt0113026    0.0  /vMFs7nw6P0bIV1jDsQpxAieAVnH.jpg                   NaN   \n",
       "2  tt0113092    0.0                               NaN                   NaN   \n",
       "3  tt0116391    0.0                               NaN                   NaN   \n",
       "4  tt0118694    0.0  /n4GJFGzsc7NinI1VeGDXIcQjtU2.jpg                   NaN   \n",
       "\n",
       "       budget                                             genres  \\\n",
       "0         NaN                                                NaN   \n",
       "1  10000000.0  [{'id': 35, 'name': 'Comedy'}, {'id': 10402, '...   \n",
       "2         0.0           [{'id': 878, 'name': 'Science Fiction'}]   \n",
       "3         0.0  [{'id': 18, 'name': 'Drama'}, {'id': 28, 'name...   \n",
       "4    150000.0  [{'id': 18, 'name': 'Drama'}, {'id': 10749, 'n...   \n",
       "\n",
       "                               homepage        id original_language  \\\n",
       "0                                   NaN       NaN               NaN   \n",
       "1                                   NaN   62127.0                en   \n",
       "2                                   NaN  110977.0                en   \n",
       "3                                   NaN  442869.0                hi   \n",
       "4  http://www.wkw-inthemoodforlove.com/     843.0                cn   \n",
       "\n",
       "    original_title  ...     revenue  runtime  \\\n",
       "0              NaN  ...         NaN      NaN   \n",
       "1  The Fantasticks  ...         0.0     86.0   \n",
       "2    For the Cause  ...         0.0    100.0   \n",
       "3             Gang  ...         0.0    152.0   \n",
       "4             花樣年華  ...  12854953.0     99.0   \n",
       "\n",
       "                                    spoken_languages    status  \\\n",
       "0                                                NaN       NaN   \n",
       "1  [{'english_name': 'English', 'iso_639_1': 'en'...  Released   \n",
       "2  [{'english_name': 'English', 'iso_639_1': 'en'...  Released   \n",
       "3  [{'english_name': 'Hindi', 'iso_639_1': 'hi', ...  Released   \n",
       "4  [{'english_name': 'Cantonese', 'iso_639_1': 'c...  Released   \n",
       "\n",
       "                                             tagline                 title  \\\n",
       "0                                                NaN                   NaN   \n",
       "1      Try to remember the first time magic happened       The Fantasticks   \n",
       "2       The ultimate showdown on a forbidden planet.         For the Cause   \n",
       "3                                                NaN                  Gang   \n",
       "4  Feel the heat, keep the feeling burning, let t...  In the Mood for Love   \n",
       "\n",
       "   video  vote_average vote_count certifcation  \n",
       "0    NaN           NaN        NaN          NaN  \n",
       "1    0.0          5.50       22.0          NaN  \n",
       "2    0.0          5.10        8.0          NaN  \n",
       "3    0.0          0.00        0.0          NaN  \n",
       "4    0.0          8.11     1984.0           PG  \n",
       "\n",
       "[5 rows x 26 columns]"
      ]
     },
     "execution_count": 17,
     "metadata": {},
     "output_type": "execute_result"
    }
   ],
   "source": [
    "# Let's concatenate both datasets.\n",
    "\n",
    "## Upload new datasets.\n",
    "movies_from_2000 = pd.read_csv('./Data/final_tmdb_data_2000.csv.gz')\n",
    "movies_from_2001 = pd.read_csv('./Data/final_tmdb_data_2001.csv.gz')\n",
    "\n",
    "## Concatenate them.\n",
    "movies_from_2000_and_2001_df = pd.concat([movies_from_2000, movies_from_2001])\n",
    "movies_from_2000_and_2001_df.head(5)"
   ]
  },
  {
   "cell_type": "code",
   "execution_count": 18,
   "id": "272efce3",
   "metadata": {},
   "outputs": [
    {
     "data": {
      "text/html": [
       "<div>\n",
       "<style scoped>\n",
       "    .dataframe tbody tr th:only-of-type {\n",
       "        vertical-align: middle;\n",
       "    }\n",
       "\n",
       "    .dataframe tbody tr th {\n",
       "        vertical-align: top;\n",
       "    }\n",
       "\n",
       "    .dataframe thead th {\n",
       "        text-align: right;\n",
       "    }\n",
       "</style>\n",
       "<table border=\"1\" class=\"dataframe\">\n",
       "  <thead>\n",
       "    <tr style=\"text-align: right;\">\n",
       "      <th></th>\n",
       "      <th>imdb_id</th>\n",
       "      <th>adult</th>\n",
       "      <th>backdrop_path</th>\n",
       "      <th>belongs_to_collection</th>\n",
       "      <th>budget</th>\n",
       "      <th>genres</th>\n",
       "      <th>homepage</th>\n",
       "      <th>id</th>\n",
       "      <th>original_language</th>\n",
       "      <th>original_title</th>\n",
       "      <th>...</th>\n",
       "      <th>revenue</th>\n",
       "      <th>runtime</th>\n",
       "      <th>spoken_languages</th>\n",
       "      <th>status</th>\n",
       "      <th>tagline</th>\n",
       "      <th>title</th>\n",
       "      <th>video</th>\n",
       "      <th>vote_average</th>\n",
       "      <th>vote_count</th>\n",
       "      <th>certifcation</th>\n",
       "    </tr>\n",
       "  </thead>\n",
       "  <tbody>\n",
       "    <tr>\n",
       "      <th>0</th>\n",
       "      <td>0</td>\n",
       "      <td>NaN</td>\n",
       "      <td>NaN</td>\n",
       "      <td>NaN</td>\n",
       "      <td>NaN</td>\n",
       "      <td>NaN</td>\n",
       "      <td>NaN</td>\n",
       "      <td>NaN</td>\n",
       "      <td>NaN</td>\n",
       "      <td>NaN</td>\n",
       "      <td>...</td>\n",
       "      <td>NaN</td>\n",
       "      <td>NaN</td>\n",
       "      <td>NaN</td>\n",
       "      <td>NaN</td>\n",
       "      <td>NaN</td>\n",
       "      <td>NaN</td>\n",
       "      <td>NaN</td>\n",
       "      <td>NaN</td>\n",
       "      <td>NaN</td>\n",
       "      <td>NaN</td>\n",
       "    </tr>\n",
       "    <tr>\n",
       "      <th>0</th>\n",
       "      <td>0</td>\n",
       "      <td>NaN</td>\n",
       "      <td>NaN</td>\n",
       "      <td>NaN</td>\n",
       "      <td>NaN</td>\n",
       "      <td>NaN</td>\n",
       "      <td>NaN</td>\n",
       "      <td>NaN</td>\n",
       "      <td>NaN</td>\n",
       "      <td>NaN</td>\n",
       "      <td>...</td>\n",
       "      <td>NaN</td>\n",
       "      <td>NaN</td>\n",
       "      <td>NaN</td>\n",
       "      <td>NaN</td>\n",
       "      <td>NaN</td>\n",
       "      <td>NaN</td>\n",
       "      <td>NaN</td>\n",
       "      <td>NaN</td>\n",
       "      <td>NaN</td>\n",
       "      <td>NaN</td>\n",
       "    </tr>\n",
       "  </tbody>\n",
       "</table>\n",
       "<p>2 rows × 26 columns</p>\n",
       "</div>"
      ],
      "text/plain": [
       "  imdb_id  adult backdrop_path belongs_to_collection  budget genres homepage  \\\n",
       "0       0    NaN           NaN                   NaN     NaN    NaN      NaN   \n",
       "0       0    NaN           NaN                   NaN     NaN    NaN      NaN   \n",
       "\n",
       "   id original_language original_title  ... revenue  runtime spoken_languages  \\\n",
       "0 NaN               NaN            NaN  ...     NaN      NaN              NaN   \n",
       "0 NaN               NaN            NaN  ...     NaN      NaN              NaN   \n",
       "\n",
       "  status tagline title  video  vote_average vote_count certifcation  \n",
       "0    NaN     NaN   NaN    NaN           NaN        NaN          NaN  \n",
       "0    NaN     NaN   NaN    NaN           NaN        NaN          NaN  \n",
       "\n",
       "[2 rows x 26 columns]"
      ]
     },
     "execution_count": 18,
     "metadata": {},
     "output_type": "execute_result"
    }
   ],
   "source": [
    "# Check for invalid data in 'imdb_id'.\n",
    "movies_from_2000_and_2001_df[movies_from_2000_and_2001_df['imdb_id'] == '0']"
   ]
  },
  {
   "cell_type": "code",
   "execution_count": 19,
   "id": "2add919c",
   "metadata": {},
   "outputs": [
    {
     "data": {
      "text/html": [
       "<div>\n",
       "<style scoped>\n",
       "    .dataframe tbody tr th:only-of-type {\n",
       "        vertical-align: middle;\n",
       "    }\n",
       "\n",
       "    .dataframe tbody tr th {\n",
       "        vertical-align: top;\n",
       "    }\n",
       "\n",
       "    .dataframe thead th {\n",
       "        text-align: right;\n",
       "    }\n",
       "</style>\n",
       "<table border=\"1\" class=\"dataframe\">\n",
       "  <thead>\n",
       "    <tr style=\"text-align: right;\">\n",
       "      <th></th>\n",
       "      <th>imdb_id</th>\n",
       "      <th>adult</th>\n",
       "      <th>backdrop_path</th>\n",
       "      <th>belongs_to_collection</th>\n",
       "      <th>budget</th>\n",
       "      <th>genres</th>\n",
       "      <th>homepage</th>\n",
       "      <th>id</th>\n",
       "      <th>original_language</th>\n",
       "      <th>original_title</th>\n",
       "      <th>...</th>\n",
       "      <th>revenue</th>\n",
       "      <th>runtime</th>\n",
       "      <th>spoken_languages</th>\n",
       "      <th>status</th>\n",
       "      <th>tagline</th>\n",
       "      <th>title</th>\n",
       "      <th>video</th>\n",
       "      <th>vote_average</th>\n",
       "      <th>vote_count</th>\n",
       "      <th>certifcation</th>\n",
       "    </tr>\n",
       "  </thead>\n",
       "  <tbody>\n",
       "    <tr>\n",
       "      <th>1</th>\n",
       "      <td>tt0113026</td>\n",
       "      <td>0.0</td>\n",
       "      <td>/vMFs7nw6P0bIV1jDsQpxAieAVnH.jpg</td>\n",
       "      <td>NaN</td>\n",
       "      <td>10000000.0</td>\n",
       "      <td>[{'id': 35, 'name': 'Comedy'}, {'id': 10402, '...</td>\n",
       "      <td>NaN</td>\n",
       "      <td>62127.0</td>\n",
       "      <td>en</td>\n",
       "      <td>The Fantasticks</td>\n",
       "      <td>...</td>\n",
       "      <td>0.0</td>\n",
       "      <td>86.0</td>\n",
       "      <td>[{'english_name': 'English', 'iso_639_1': 'en'...</td>\n",
       "      <td>Released</td>\n",
       "      <td>Try to remember the first time magic happened</td>\n",
       "      <td>The Fantasticks</td>\n",
       "      <td>0.0</td>\n",
       "      <td>5.500</td>\n",
       "      <td>22.0</td>\n",
       "      <td>NaN</td>\n",
       "    </tr>\n",
       "    <tr>\n",
       "      <th>2</th>\n",
       "      <td>tt0113092</td>\n",
       "      <td>0.0</td>\n",
       "      <td>NaN</td>\n",
       "      <td>NaN</td>\n",
       "      <td>0.0</td>\n",
       "      <td>[{'id': 878, 'name': 'Science Fiction'}]</td>\n",
       "      <td>NaN</td>\n",
       "      <td>110977.0</td>\n",
       "      <td>en</td>\n",
       "      <td>For the Cause</td>\n",
       "      <td>...</td>\n",
       "      <td>0.0</td>\n",
       "      <td>100.0</td>\n",
       "      <td>[{'english_name': 'English', 'iso_639_1': 'en'...</td>\n",
       "      <td>Released</td>\n",
       "      <td>The ultimate showdown on a forbidden planet.</td>\n",
       "      <td>For the Cause</td>\n",
       "      <td>0.0</td>\n",
       "      <td>5.100</td>\n",
       "      <td>8.0</td>\n",
       "      <td>NaN</td>\n",
       "    </tr>\n",
       "    <tr>\n",
       "      <th>3</th>\n",
       "      <td>tt0116391</td>\n",
       "      <td>0.0</td>\n",
       "      <td>NaN</td>\n",
       "      <td>NaN</td>\n",
       "      <td>0.0</td>\n",
       "      <td>[{'id': 18, 'name': 'Drama'}, {'id': 28, 'name...</td>\n",
       "      <td>NaN</td>\n",
       "      <td>442869.0</td>\n",
       "      <td>hi</td>\n",
       "      <td>Gang</td>\n",
       "      <td>...</td>\n",
       "      <td>0.0</td>\n",
       "      <td>152.0</td>\n",
       "      <td>[{'english_name': 'Hindi', 'iso_639_1': 'hi', ...</td>\n",
       "      <td>Released</td>\n",
       "      <td>NaN</td>\n",
       "      <td>Gang</td>\n",
       "      <td>0.0</td>\n",
       "      <td>0.000</td>\n",
       "      <td>0.0</td>\n",
       "      <td>NaN</td>\n",
       "    </tr>\n",
       "    <tr>\n",
       "      <th>4</th>\n",
       "      <td>tt0118694</td>\n",
       "      <td>0.0</td>\n",
       "      <td>/n4GJFGzsc7NinI1VeGDXIcQjtU2.jpg</td>\n",
       "      <td>NaN</td>\n",
       "      <td>150000.0</td>\n",
       "      <td>[{'id': 18, 'name': 'Drama'}, {'id': 10749, 'n...</td>\n",
       "      <td>http://www.wkw-inthemoodforlove.com/</td>\n",
       "      <td>843.0</td>\n",
       "      <td>cn</td>\n",
       "      <td>花樣年華</td>\n",
       "      <td>...</td>\n",
       "      <td>12854953.0</td>\n",
       "      <td>99.0</td>\n",
       "      <td>[{'english_name': 'Cantonese', 'iso_639_1': 'c...</td>\n",
       "      <td>Released</td>\n",
       "      <td>Feel the heat, keep the feeling burning, let t...</td>\n",
       "      <td>In the Mood for Love</td>\n",
       "      <td>0.0</td>\n",
       "      <td>8.110</td>\n",
       "      <td>1984.0</td>\n",
       "      <td>PG</td>\n",
       "    </tr>\n",
       "    <tr>\n",
       "      <th>5</th>\n",
       "      <td>tt0118852</td>\n",
       "      <td>0.0</td>\n",
       "      <td>NaN</td>\n",
       "      <td>NaN</td>\n",
       "      <td>0.0</td>\n",
       "      <td>[{'id': 18, 'name': 'Drama'}]</td>\n",
       "      <td>NaN</td>\n",
       "      <td>49511.0</td>\n",
       "      <td>en</td>\n",
       "      <td>Chinese Coffee</td>\n",
       "      <td>...</td>\n",
       "      <td>0.0</td>\n",
       "      <td>99.0</td>\n",
       "      <td>[{'english_name': 'English', 'iso_639_1': 'en'...</td>\n",
       "      <td>Released</td>\n",
       "      <td>There's a fine line between friendship and bet...</td>\n",
       "      <td>Chinese Coffee</td>\n",
       "      <td>0.0</td>\n",
       "      <td>6.851</td>\n",
       "      <td>47.0</td>\n",
       "      <td>R</td>\n",
       "    </tr>\n",
       "    <tr>\n",
       "      <th>...</th>\n",
       "      <td>...</td>\n",
       "      <td>...</td>\n",
       "      <td>...</td>\n",
       "      <td>...</td>\n",
       "      <td>...</td>\n",
       "      <td>...</td>\n",
       "      <td>...</td>\n",
       "      <td>...</td>\n",
       "      <td>...</td>\n",
       "      <td>...</td>\n",
       "      <td>...</td>\n",
       "      <td>...</td>\n",
       "      <td>...</td>\n",
       "      <td>...</td>\n",
       "      <td>...</td>\n",
       "      <td>...</td>\n",
       "      <td>...</td>\n",
       "      <td>...</td>\n",
       "      <td>...</td>\n",
       "      <td>...</td>\n",
       "      <td>...</td>\n",
       "    </tr>\n",
       "    <tr>\n",
       "      <th>1284</th>\n",
       "      <td>tt7797670</td>\n",
       "      <td>0.0</td>\n",
       "      <td>NaN</td>\n",
       "      <td>NaN</td>\n",
       "      <td>0.0</td>\n",
       "      <td>[{'id': 27, 'name': 'Horror'}]</td>\n",
       "      <td>NaN</td>\n",
       "      <td>956214.0</td>\n",
       "      <td>en</td>\n",
       "      <td>Edmund Kemper Part 2: La Mort C'est La Vie</td>\n",
       "      <td>...</td>\n",
       "      <td>0.0</td>\n",
       "      <td>91.0</td>\n",
       "      <td>[]</td>\n",
       "      <td>Released</td>\n",
       "      <td>NaN</td>\n",
       "      <td>Edmund Kemper Part 2: La Mort C'est La Vie</td>\n",
       "      <td>0.0</td>\n",
       "      <td>0.000</td>\n",
       "      <td>0.0</td>\n",
       "      <td>NaN</td>\n",
       "    </tr>\n",
       "    <tr>\n",
       "      <th>1285</th>\n",
       "      <td>tt7797790</td>\n",
       "      <td>0.0</td>\n",
       "      <td>NaN</td>\n",
       "      <td>NaN</td>\n",
       "      <td>0.0</td>\n",
       "      <td>[{'id': 27, 'name': 'Horror'}]</td>\n",
       "      <td>NaN</td>\n",
       "      <td>956219.0</td>\n",
       "      <td>en</td>\n",
       "      <td>Edmund Kemper Part 3: La mort sévit</td>\n",
       "      <td>...</td>\n",
       "      <td>0.0</td>\n",
       "      <td>72.0</td>\n",
       "      <td>[{'english_name': 'French', 'iso_639_1': 'fr',...</td>\n",
       "      <td>Released</td>\n",
       "      <td>NaN</td>\n",
       "      <td>Edmund Kemper Part 3: La mort sévit</td>\n",
       "      <td>0.0</td>\n",
       "      <td>0.000</td>\n",
       "      <td>0.0</td>\n",
       "      <td>NaN</td>\n",
       "    </tr>\n",
       "    <tr>\n",
       "      <th>1286</th>\n",
       "      <td>tt8665056</td>\n",
       "      <td>0.0</td>\n",
       "      <td>NaN</td>\n",
       "      <td>NaN</td>\n",
       "      <td>0.0</td>\n",
       "      <td>[{'id': 37, 'name': 'Western'}]</td>\n",
       "      <td>http://skeletoncreekproductions.com/p-movie-br...</td>\n",
       "      <td>885436.0</td>\n",
       "      <td>en</td>\n",
       "      <td>Guns Along The Bravo</td>\n",
       "      <td>...</td>\n",
       "      <td>0.0</td>\n",
       "      <td>85.0</td>\n",
       "      <td>[]</td>\n",
       "      <td>Released</td>\n",
       "      <td>Evil came to the Southwest until three blazing...</td>\n",
       "      <td>Guns Along The Bravo</td>\n",
       "      <td>0.0</td>\n",
       "      <td>0.000</td>\n",
       "      <td>0.0</td>\n",
       "      <td>NaN</td>\n",
       "    </tr>\n",
       "    <tr>\n",
       "      <th>1287</th>\n",
       "      <td>tt8795764</td>\n",
       "      <td>0.0</td>\n",
       "      <td>NaN</td>\n",
       "      <td>NaN</td>\n",
       "      <td>0.0</td>\n",
       "      <td>[{'id': 27, 'name': 'Horror'}]</td>\n",
       "      <td>https://www.utahwolf.com/films/coming-soon-new...</td>\n",
       "      <td>871624.0</td>\n",
       "      <td>en</td>\n",
       "      <td>New Breed</td>\n",
       "      <td>...</td>\n",
       "      <td>0.0</td>\n",
       "      <td>57.0</td>\n",
       "      <td>[{'english_name': 'English', 'iso_639_1': 'en'...</td>\n",
       "      <td>Released</td>\n",
       "      <td>NaN</td>\n",
       "      <td>New Breed</td>\n",
       "      <td>0.0</td>\n",
       "      <td>0.000</td>\n",
       "      <td>0.0</td>\n",
       "      <td>NR</td>\n",
       "    </tr>\n",
       "    <tr>\n",
       "      <th>1288</th>\n",
       "      <td>tt9071078</td>\n",
       "      <td>0.0</td>\n",
       "      <td>NaN</td>\n",
       "      <td>NaN</td>\n",
       "      <td>0.0</td>\n",
       "      <td>[{'id': 28, 'name': 'Action'}]</td>\n",
       "      <td>http://www.hkcinemagic.com/en/movie.asp?id=6627</td>\n",
       "      <td>201706.0</td>\n",
       "      <td>cn</td>\n",
       "      <td>致命密函</td>\n",
       "      <td>...</td>\n",
       "      <td>0.0</td>\n",
       "      <td>90.0</td>\n",
       "      <td>[{'english_name': 'Cantonese', 'iso_639_1': 'c...</td>\n",
       "      <td>Released</td>\n",
       "      <td>NaN</td>\n",
       "      <td>Chinese Heroes</td>\n",
       "      <td>0.0</td>\n",
       "      <td>3.000</td>\n",
       "      <td>2.0</td>\n",
       "      <td>NaN</td>\n",
       "    </tr>\n",
       "  </tbody>\n",
       "</table>\n",
       "<p>2495 rows × 26 columns</p>\n",
       "</div>"
      ],
      "text/plain": [
       "        imdb_id  adult                     backdrop_path  \\\n",
       "1     tt0113026    0.0  /vMFs7nw6P0bIV1jDsQpxAieAVnH.jpg   \n",
       "2     tt0113092    0.0                               NaN   \n",
       "3     tt0116391    0.0                               NaN   \n",
       "4     tt0118694    0.0  /n4GJFGzsc7NinI1VeGDXIcQjtU2.jpg   \n",
       "5     tt0118852    0.0                               NaN   \n",
       "...         ...    ...                               ...   \n",
       "1284  tt7797670    0.0                               NaN   \n",
       "1285  tt7797790    0.0                               NaN   \n",
       "1286  tt8665056    0.0                               NaN   \n",
       "1287  tt8795764    0.0                               NaN   \n",
       "1288  tt9071078    0.0                               NaN   \n",
       "\n",
       "     belongs_to_collection      budget  \\\n",
       "1                      NaN  10000000.0   \n",
       "2                      NaN         0.0   \n",
       "3                      NaN         0.0   \n",
       "4                      NaN    150000.0   \n",
       "5                      NaN         0.0   \n",
       "...                    ...         ...   \n",
       "1284                   NaN         0.0   \n",
       "1285                   NaN         0.0   \n",
       "1286                   NaN         0.0   \n",
       "1287                   NaN         0.0   \n",
       "1288                   NaN         0.0   \n",
       "\n",
       "                                                 genres  \\\n",
       "1     [{'id': 35, 'name': 'Comedy'}, {'id': 10402, '...   \n",
       "2              [{'id': 878, 'name': 'Science Fiction'}]   \n",
       "3     [{'id': 18, 'name': 'Drama'}, {'id': 28, 'name...   \n",
       "4     [{'id': 18, 'name': 'Drama'}, {'id': 10749, 'n...   \n",
       "5                         [{'id': 18, 'name': 'Drama'}]   \n",
       "...                                                 ...   \n",
       "1284                     [{'id': 27, 'name': 'Horror'}]   \n",
       "1285                     [{'id': 27, 'name': 'Horror'}]   \n",
       "1286                    [{'id': 37, 'name': 'Western'}]   \n",
       "1287                     [{'id': 27, 'name': 'Horror'}]   \n",
       "1288                     [{'id': 28, 'name': 'Action'}]   \n",
       "\n",
       "                                               homepage        id  \\\n",
       "1                                                   NaN   62127.0   \n",
       "2                                                   NaN  110977.0   \n",
       "3                                                   NaN  442869.0   \n",
       "4                  http://www.wkw-inthemoodforlove.com/     843.0   \n",
       "5                                                   NaN   49511.0   \n",
       "...                                                 ...       ...   \n",
       "1284                                                NaN  956214.0   \n",
       "1285                                                NaN  956219.0   \n",
       "1286  http://skeletoncreekproductions.com/p-movie-br...  885436.0   \n",
       "1287  https://www.utahwolf.com/films/coming-soon-new...  871624.0   \n",
       "1288    http://www.hkcinemagic.com/en/movie.asp?id=6627  201706.0   \n",
       "\n",
       "     original_language                              original_title  ...  \\\n",
       "1                   en                             The Fantasticks  ...   \n",
       "2                   en                               For the Cause  ...   \n",
       "3                   hi                                        Gang  ...   \n",
       "4                   cn                                        花樣年華  ...   \n",
       "5                   en                              Chinese Coffee  ...   \n",
       "...                ...                                         ...  ...   \n",
       "1284                en  Edmund Kemper Part 2: La Mort C'est La Vie  ...   \n",
       "1285                en         Edmund Kemper Part 3: La mort sévit  ...   \n",
       "1286                en                        Guns Along The Bravo  ...   \n",
       "1287                en                                   New Breed  ...   \n",
       "1288                cn                                        致命密函  ...   \n",
       "\n",
       "         revenue  runtime                                   spoken_languages  \\\n",
       "1            0.0     86.0  [{'english_name': 'English', 'iso_639_1': 'en'...   \n",
       "2            0.0    100.0  [{'english_name': 'English', 'iso_639_1': 'en'...   \n",
       "3            0.0    152.0  [{'english_name': 'Hindi', 'iso_639_1': 'hi', ...   \n",
       "4     12854953.0     99.0  [{'english_name': 'Cantonese', 'iso_639_1': 'c...   \n",
       "5            0.0     99.0  [{'english_name': 'English', 'iso_639_1': 'en'...   \n",
       "...          ...      ...                                                ...   \n",
       "1284         0.0     91.0                                                 []   \n",
       "1285         0.0     72.0  [{'english_name': 'French', 'iso_639_1': 'fr',...   \n",
       "1286         0.0     85.0                                                 []   \n",
       "1287         0.0     57.0  [{'english_name': 'English', 'iso_639_1': 'en'...   \n",
       "1288         0.0     90.0  [{'english_name': 'Cantonese', 'iso_639_1': 'c...   \n",
       "\n",
       "        status                                            tagline  \\\n",
       "1     Released      Try to remember the first time magic happened   \n",
       "2     Released       The ultimate showdown on a forbidden planet.   \n",
       "3     Released                                                NaN   \n",
       "4     Released  Feel the heat, keep the feeling burning, let t...   \n",
       "5     Released  There's a fine line between friendship and bet...   \n",
       "...        ...                                                ...   \n",
       "1284  Released                                                NaN   \n",
       "1285  Released                                                NaN   \n",
       "1286  Released  Evil came to the Southwest until three blazing...   \n",
       "1287  Released                                                NaN   \n",
       "1288  Released                                                NaN   \n",
       "\n",
       "                                           title  video  vote_average  \\\n",
       "1                                The Fantasticks    0.0         5.500   \n",
       "2                                  For the Cause    0.0         5.100   \n",
       "3                                           Gang    0.0         0.000   \n",
       "4                           In the Mood for Love    0.0         8.110   \n",
       "5                                 Chinese Coffee    0.0         6.851   \n",
       "...                                          ...    ...           ...   \n",
       "1284  Edmund Kemper Part 2: La Mort C'est La Vie    0.0         0.000   \n",
       "1285         Edmund Kemper Part 3: La mort sévit    0.0         0.000   \n",
       "1286                        Guns Along The Bravo    0.0         0.000   \n",
       "1287                                   New Breed    0.0         0.000   \n",
       "1288                              Chinese Heroes    0.0         3.000   \n",
       "\n",
       "     vote_count certifcation  \n",
       "1          22.0          NaN  \n",
       "2           8.0          NaN  \n",
       "3           0.0          NaN  \n",
       "4        1984.0           PG  \n",
       "5          47.0            R  \n",
       "...         ...          ...  \n",
       "1284        0.0          NaN  \n",
       "1285        0.0          NaN  \n",
       "1286        0.0          NaN  \n",
       "1287        0.0           NR  \n",
       "1288        2.0          NaN  \n",
       "\n",
       "[2495 rows x 26 columns]"
      ]
     },
     "execution_count": 19,
     "metadata": {},
     "output_type": "execute_result"
    }
   ],
   "source": [
    "# Let's drop rows with values=0.\n",
    "movies_from_2000_and_2001_df.drop(index=movies_from_2000_df.index[0], axis=0, inplace=True)\n",
    "movies_from_2000_and_2001_df"
   ]
  },
  {
   "cell_type": "code",
   "execution_count": 20,
   "id": "d4a7a390",
   "metadata": {},
   "outputs": [
    {
     "name": "stdout",
     "output_type": "stream",
     "text": [
      "<class 'pandas.core.frame.DataFrame'>\n",
      "Int64Index: 2495 entries, 1 to 1288\n",
      "Data columns (total 26 columns):\n",
      " #   Column                 Non-Null Count  Dtype  \n",
      "---  ------                 --------------  -----  \n",
      " 0   imdb_id                2495 non-null   object \n",
      " 1   adult                  2495 non-null   float64\n",
      " 2   backdrop_path          1307 non-null   object \n",
      " 3   belongs_to_collection  197 non-null    object \n",
      " 4   budget                 2495 non-null   float64\n",
      " 5   genres                 2495 non-null   object \n",
      " 6   homepage               175 non-null    object \n",
      " 7   id                     2495 non-null   float64\n",
      " 8   original_language      2495 non-null   object \n",
      " 9   original_title         2495 non-null   object \n",
      " 10  overview               2445 non-null   object \n",
      " 11  popularity             2495 non-null   float64\n",
      " 12  poster_path            2205 non-null   object \n",
      " 13  production_companies   2495 non-null   object \n",
      " 14  production_countries   2495 non-null   object \n",
      " 15  release_date           2477 non-null   object \n",
      " 16  revenue                2495 non-null   float64\n",
      " 17  runtime                2495 non-null   float64\n",
      " 18  spoken_languages       2495 non-null   object \n",
      " 19  status                 2495 non-null   object \n",
      " 20  tagline                1043 non-null   object \n",
      " 21  title                  2495 non-null   object \n",
      " 22  video                  2495 non-null   float64\n",
      " 23  vote_average           2495 non-null   float64\n",
      " 24  vote_count             2495 non-null   float64\n",
      " 25  certifcation           794 non-null    object \n",
      "dtypes: float64(9), object(17)\n",
      "memory usage: 526.3+ KB\n"
     ]
    }
   ],
   "source": [
    "# Have a general look of the data.\n",
    "movies_from_2000_and_2001_df.info()"
   ]
  },
  {
   "cell_type": "markdown",
   "id": "da920a23",
   "metadata": {},
   "source": [
    "**Notes:**\n",
    "- At this point we have identified some missing data. Keeping the focus on our target columns, there is no missing data in 'Budget' or ' Revenue' but in 'Certification' we have 1,701 missing data (~68%).\n",
    "- Let's see how this could affect pot analysis in Section 3."
   ]
  },
  {
   "cell_type": "code",
   "execution_count": 21,
   "id": "5bb8366e",
   "metadata": {},
   "outputs": [
    {
     "data": {
      "text/html": [
       "<div>\n",
       "<style scoped>\n",
       "    .dataframe tbody tr th:only-of-type {\n",
       "        vertical-align: middle;\n",
       "    }\n",
       "\n",
       "    .dataframe tbody tr th {\n",
       "        vertical-align: top;\n",
       "    }\n",
       "\n",
       "    .dataframe thead th {\n",
       "        text-align: right;\n",
       "    }\n",
       "</style>\n",
       "<table border=\"1\" class=\"dataframe\">\n",
       "  <thead>\n",
       "    <tr style=\"text-align: right;\">\n",
       "      <th></th>\n",
       "      <th>adult</th>\n",
       "      <th>budget</th>\n",
       "      <th>id</th>\n",
       "      <th>popularity</th>\n",
       "      <th>revenue</th>\n",
       "      <th>runtime</th>\n",
       "      <th>video</th>\n",
       "      <th>vote_average</th>\n",
       "      <th>vote_count</th>\n",
       "    </tr>\n",
       "  </thead>\n",
       "  <tbody>\n",
       "    <tr>\n",
       "      <th>count</th>\n",
       "      <td>2495.000000</td>\n",
       "      <td>2.495000e+03</td>\n",
       "      <td>2.495000e+03</td>\n",
       "      <td>2495.000000</td>\n",
       "      <td>2.495000e+03</td>\n",
       "      <td>2495.000000</td>\n",
       "      <td>2495.000000</td>\n",
       "      <td>2495.000000</td>\n",
       "      <td>2495.000000</td>\n",
       "    </tr>\n",
       "    <tr>\n",
       "      <th>mean</th>\n",
       "      <td>0.002405</td>\n",
       "      <td>5.310254e+06</td>\n",
       "      <td>1.715279e+05</td>\n",
       "      <td>5.274156</td>\n",
       "      <td>1.118161e+07</td>\n",
       "      <td>92.336673</td>\n",
       "      <td>0.001603</td>\n",
       "      <td>4.551417</td>\n",
       "      <td>261.835271</td>\n",
       "    </tr>\n",
       "    <tr>\n",
       "      <th>std</th>\n",
       "      <td>0.048990</td>\n",
       "      <td>1.720655e+07</td>\n",
       "      <td>2.067750e+05</td>\n",
       "      <td>14.034905</td>\n",
       "      <td>5.307544e+07</td>\n",
       "      <td>30.349509</td>\n",
       "      <td>0.040016</td>\n",
       "      <td>2.486312</td>\n",
       "      <td>1244.436247</td>\n",
       "    </tr>\n",
       "    <tr>\n",
       "      <th>min</th>\n",
       "      <td>0.000000</td>\n",
       "      <td>0.000000e+00</td>\n",
       "      <td>1.600000e+01</td>\n",
       "      <td>0.600000</td>\n",
       "      <td>0.000000e+00</td>\n",
       "      <td>0.000000</td>\n",
       "      <td>0.000000</td>\n",
       "      <td>0.000000</td>\n",
       "      <td>0.000000</td>\n",
       "    </tr>\n",
       "    <tr>\n",
       "      <th>25%</th>\n",
       "      <td>0.000000</td>\n",
       "      <td>0.000000e+00</td>\n",
       "      <td>2.663350e+04</td>\n",
       "      <td>0.735000</td>\n",
       "      <td>0.000000e+00</td>\n",
       "      <td>87.000000</td>\n",
       "      <td>0.000000</td>\n",
       "      <td>3.293000</td>\n",
       "      <td>1.000000</td>\n",
       "    </tr>\n",
       "    <tr>\n",
       "      <th>50%</th>\n",
       "      <td>0.000000</td>\n",
       "      <td>0.000000e+00</td>\n",
       "      <td>7.802700e+04</td>\n",
       "      <td>1.746000</td>\n",
       "      <td>0.000000e+00</td>\n",
       "      <td>94.000000</td>\n",
       "      <td>0.000000</td>\n",
       "      <td>5.300000</td>\n",
       "      <td>7.000000</td>\n",
       "    </tr>\n",
       "    <tr>\n",
       "      <th>75%</th>\n",
       "      <td>0.000000</td>\n",
       "      <td>0.000000e+00</td>\n",
       "      <td>2.687660e+05</td>\n",
       "      <td>4.939000</td>\n",
       "      <td>0.000000e+00</td>\n",
       "      <td>104.000000</td>\n",
       "      <td>0.000000</td>\n",
       "      <td>6.300000</td>\n",
       "      <td>41.000000</td>\n",
       "    </tr>\n",
       "    <tr>\n",
       "      <th>max</th>\n",
       "      <td>1.000000</td>\n",
       "      <td>1.400000e+08</td>\n",
       "      <td>1.006938e+06</td>\n",
       "      <td>267.039000</td>\n",
       "      <td>9.764756e+08</td>\n",
       "      <td>345.000000</td>\n",
       "      <td>1.000000</td>\n",
       "      <td>10.000000</td>\n",
       "      <td>23252.000000</td>\n",
       "    </tr>\n",
       "  </tbody>\n",
       "</table>\n",
       "</div>"
      ],
      "text/plain": [
       "             adult        budget            id   popularity       revenue  \\\n",
       "count  2495.000000  2.495000e+03  2.495000e+03  2495.000000  2.495000e+03   \n",
       "mean      0.002405  5.310254e+06  1.715279e+05     5.274156  1.118161e+07   \n",
       "std       0.048990  1.720655e+07  2.067750e+05    14.034905  5.307544e+07   \n",
       "min       0.000000  0.000000e+00  1.600000e+01     0.600000  0.000000e+00   \n",
       "25%       0.000000  0.000000e+00  2.663350e+04     0.735000  0.000000e+00   \n",
       "50%       0.000000  0.000000e+00  7.802700e+04     1.746000  0.000000e+00   \n",
       "75%       0.000000  0.000000e+00  2.687660e+05     4.939000  0.000000e+00   \n",
       "max       1.000000  1.400000e+08  1.006938e+06   267.039000  9.764756e+08   \n",
       "\n",
       "           runtime        video  vote_average    vote_count  \n",
       "count  2495.000000  2495.000000   2495.000000   2495.000000  \n",
       "mean     92.336673     0.001603      4.551417    261.835271  \n",
       "std      30.349509     0.040016      2.486312   1244.436247  \n",
       "min       0.000000     0.000000      0.000000      0.000000  \n",
       "25%      87.000000     0.000000      3.293000      1.000000  \n",
       "50%      94.000000     0.000000      5.300000      7.000000  \n",
       "75%     104.000000     0.000000      6.300000     41.000000  \n",
       "max     345.000000     1.000000     10.000000  23252.000000  "
      ]
     },
     "execution_count": 21,
     "metadata": {},
     "output_type": "execute_result"
    }
   ],
   "source": [
    "# Statistical summary.\n",
    "movies_from_2000_and_2001_df.describe()"
   ]
  },
  {
   "cell_type": "code",
   "execution_count": 22,
   "id": "8e190ab7",
   "metadata": {},
   "outputs": [],
   "source": [
    "# Download our concatenated database.\n",
    "movies_from_2000_and_2001_df.to_csv(f'./Data/tmdb_results_combined.csv.gz', compression='gzip', index=False)"
   ]
  },
  {
   "cell_type": "markdown",
   "id": "46fdb211",
   "metadata": {},
   "source": [
    "### 2.3.- Get Budget, Revenue and Certification per movie tested in Section 2.1."
   ]
  },
  {
   "cell_type": "markdown",
   "id": "7030a8a2",
   "metadata": {},
   "source": [
    "#### 2.3.1.- The Avengers"
   ]
  },
  {
   "cell_type": "code",
   "execution_count": 23,
   "id": "5df752c9",
   "metadata": {},
   "outputs": [
    {
     "name": "stdout",
     "output_type": "stream",
     "text": [
      "The budget for The Avengers was USD 220,000,000.\n"
     ]
    }
   ],
   "source": [
    "# Budget.\n",
    "budget_avengers = the_avengers_info['budget']\n",
    "print(f'The budget for The Avengers was USD {budget_avengers:,}.')"
   ]
  },
  {
   "cell_type": "code",
   "execution_count": 24,
   "id": "e3ac5226",
   "metadata": {},
   "outputs": [
    {
     "name": "stdout",
     "output_type": "stream",
     "text": [
      "The revenue for The Avengers was USD 1,518,815,515.\n"
     ]
    }
   ],
   "source": [
    "# Revenue.\n",
    "revenue_avengers = the_avengers_info['revenue']\n",
    "print(f'The revenue for The Avengers was USD {revenue_avengers:,}.')"
   ]
  },
  {
   "cell_type": "code",
   "execution_count": 25,
   "id": "ad6ba758",
   "metadata": {},
   "outputs": [
    {
     "name": "stdout",
     "output_type": "stream",
     "text": [
      "The ROI for The Avengers was 590.37%.\n"
     ]
    }
   ],
   "source": [
    "# Impact of the revenue (Return of Investment).\n",
    "avengers_roi = round((revenue_avengers - budget_avengers)/budget_avengers *100, 2)\n",
    "print(f'The ROI for The Avengers was {avengers_roi}%.')"
   ]
  },
  {
   "cell_type": "code",
   "execution_count": 26,
   "id": "901e28ed",
   "metadata": {},
   "outputs": [
    {
     "data": {
      "text/plain": [
       "{'adult': False,\n",
       " 'backdrop_path': '/9BBTo63ANSmhC4e6r62OJFuK2GL.jpg',\n",
       " 'belongs_to_collection': {'id': 86311,\n",
       "  'name': 'The Avengers Collection',\n",
       "  'poster_path': '/yFSIUVTCvgYrpalUktulvk3Gi5Y.jpg',\n",
       "  'backdrop_path': '/zuW6fOiusv4X9nnW3paHGfXcSll.jpg'},\n",
       " 'budget': 220000000,\n",
       " 'genres': [{'id': 878, 'name': 'Science Fiction'},\n",
       "  {'id': 28, 'name': 'Action'},\n",
       "  {'id': 12, 'name': 'Adventure'}],\n",
       " 'homepage': 'https://www.marvel.com/movies/the-avengers',\n",
       " 'id': 24428,\n",
       " 'imdb_id': 'tt0848228',\n",
       " 'original_language': 'en',\n",
       " 'original_title': 'The Avengers',\n",
       " 'overview': 'When an unexpected enemy emerges and threatens global safety and security, Nick Fury, director of the international peacekeeping agency known as S.H.I.E.L.D., finds himself in need of a team to pull the world back from the brink of disaster. Spanning the globe, a daring recruitment effort begins!',\n",
       " 'popularity': 242.315,\n",
       " 'poster_path': '/RYMX2wcKCBAr24UyPD7xwmjaTn.jpg',\n",
       " 'production_companies': [{'id': 420,\n",
       "   'logo_path': '/hUzeosd33nzE5MCNsZxCGEKTXaQ.png',\n",
       "   'name': 'Marvel Studios',\n",
       "   'origin_country': 'US'}],\n",
       " 'production_countries': [{'iso_3166_1': 'US',\n",
       "   'name': 'United States of America'}],\n",
       " 'release_date': '2012-04-25',\n",
       " 'revenue': 1518815515,\n",
       " 'runtime': 143,\n",
       " 'spoken_languages': [{'english_name': 'English',\n",
       "   'iso_639_1': 'en',\n",
       "   'name': 'English'},\n",
       "  {'english_name': 'Hindi', 'iso_639_1': 'hi', 'name': 'हिन्दी'},\n",
       "  {'english_name': 'Russian', 'iso_639_1': 'ru', 'name': 'Pусский'}],\n",
       " 'status': 'Released',\n",
       " 'tagline': 'Some assembly required.',\n",
       " 'title': 'The Avengers',\n",
       " 'video': False,\n",
       " 'vote_average': 7.705,\n",
       " 'vote_count': 27531,\n",
       " 'certifcation': 'PG-13'}"
      ]
     },
     "execution_count": 26,
     "metadata": {},
     "output_type": "execute_result"
    }
   ],
   "source": [
    "# Certification (MPAA Rating).\n",
    "avengers_certification = get_movie_certification('tt0848228')\n",
    "avengers_certification"
   ]
  },
  {
   "cell_type": "markdown",
   "id": "2c352365",
   "metadata": {},
   "source": [
    "#### 2.3.2.- The Notebook"
   ]
  },
  {
   "cell_type": "code",
   "execution_count": 27,
   "id": "7ab09f94",
   "metadata": {},
   "outputs": [
    {
     "name": "stdout",
     "output_type": "stream",
     "text": [
      "The budget for The Notebook was USD 29,000,000.\n"
     ]
    }
   ],
   "source": [
    "# Budget.\n",
    "budget_notebook = the_notebook_info['budget']\n",
    "print(f'The budget for The Notebook was USD {budget_notebook:,}.')"
   ]
  },
  {
   "cell_type": "code",
   "execution_count": 28,
   "id": "94ba5109",
   "metadata": {},
   "outputs": [
    {
     "name": "stdout",
     "output_type": "stream",
     "text": [
      "The revenue for The Notebook was USD 115,603,229.\n"
     ]
    }
   ],
   "source": [
    "# Revenue.\n",
    "revenue_notebook = the_notebook_info['revenue']\n",
    "print(f'The revenue for The Notebook was USD {revenue_notebook:,}.')"
   ]
  },
  {
   "cell_type": "code",
   "execution_count": 29,
   "id": "03fc8458",
   "metadata": {},
   "outputs": [
    {
     "name": "stdout",
     "output_type": "stream",
     "text": [
      "The ROI for The Notebook was 298.63%.\n"
     ]
    }
   ],
   "source": [
    "# Impact of the revenue (Return of Investment).\n",
    "notebook_roi = round((revenue_notebook - budget_notebook)/budget_notebook *100, 2)\n",
    "print(f'The ROI for The Notebook was {notebook_roi}%.')"
   ]
  },
  {
   "cell_type": "code",
   "execution_count": 30,
   "id": "a6d0ff75",
   "metadata": {},
   "outputs": [
    {
     "data": {
      "text/plain": [
       "{'adult': False,\n",
       " 'backdrop_path': '/qom1SZSENdmHFNZBXbtJAU0WTlC.jpg',\n",
       " 'belongs_to_collection': None,\n",
       " 'budget': 29000000,\n",
       " 'genres': [{'id': 10749, 'name': 'Romance'}, {'id': 18, 'name': 'Drama'}],\n",
       " 'homepage': 'http://www.newline.com/properties/notebookthe.html',\n",
       " 'id': 11036,\n",
       " 'imdb_id': 'tt0332280',\n",
       " 'original_language': 'en',\n",
       " 'original_title': 'The Notebook',\n",
       " 'overview': \"An epic love story centered around an older man who reads aloud to a woman with Alzheimer's. From a faded notebook, the old man's words bring to life the story about a couple who is separated by World War II, and is then passionately reunited, seven years later, after they have taken different paths.\",\n",
       " 'popularity': 63.249,\n",
       " 'poster_path': '/rNzQyW4f8B8cQeg7Dgj3n6eT5k9.jpg',\n",
       " 'production_companies': [{'id': 12,\n",
       "   'logo_path': '/iaYpEp3LQmb8AfAtmTvpqd4149c.png',\n",
       "   'name': 'New Line Cinema',\n",
       "   'origin_country': 'US'},\n",
       "  {'id': 1565, 'logo_path': None, 'name': 'Avery Pix', 'origin_country': 'US'},\n",
       "  {'id': 2605,\n",
       "   'logo_path': None,\n",
       "   'name': 'Gran Via Productions',\n",
       "   'origin_country': 'US'}],\n",
       " 'production_countries': [{'iso_3166_1': 'US',\n",
       "   'name': 'United States of America'}],\n",
       " 'release_date': '2004-06-25',\n",
       " 'revenue': 115603229,\n",
       " 'runtime': 123,\n",
       " 'spoken_languages': [{'english_name': 'English',\n",
       "   'iso_639_1': 'en',\n",
       "   'name': 'English'}],\n",
       " 'status': 'Released',\n",
       " 'tagline': 'Behind every great love is a great story.',\n",
       " 'title': 'The Notebook',\n",
       " 'video': False,\n",
       " 'vote_average': 7.88,\n",
       " 'vote_count': 9823,\n",
       " 'certifcation': 'PG-13'}"
      ]
     },
     "execution_count": 30,
     "metadata": {},
     "output_type": "execute_result"
    }
   ],
   "source": [
    "# Certification (MPAA Rating).\n",
    "notebook_certification = get_movie_certification('tt0332280')\n",
    "notebook_certification"
   ]
  },
  {
   "cell_type": "code",
   "execution_count": 31,
   "id": "834e391f",
   "metadata": {},
   "outputs": [
    {
     "data": {
      "text/html": [
       "<div>\n",
       "<style scoped>\n",
       "    .dataframe tbody tr th:only-of-type {\n",
       "        vertical-align: middle;\n",
       "    }\n",
       "\n",
       "    .dataframe tbody tr th {\n",
       "        vertical-align: top;\n",
       "    }\n",
       "\n",
       "    .dataframe thead th {\n",
       "        text-align: right;\n",
       "    }\n",
       "</style>\n",
       "<table border=\"1\" class=\"dataframe\">\n",
       "  <thead>\n",
       "    <tr style=\"text-align: right;\">\n",
       "      <th></th>\n",
       "      <th>adult</th>\n",
       "      <th>backdrop_path</th>\n",
       "      <th>belongs_to_collection</th>\n",
       "      <th>budget</th>\n",
       "      <th>genres</th>\n",
       "      <th>homepage</th>\n",
       "      <th>id</th>\n",
       "      <th>imdb_id</th>\n",
       "      <th>original_language</th>\n",
       "      <th>original_title</th>\n",
       "      <th>...</th>\n",
       "      <th>revenue</th>\n",
       "      <th>runtime</th>\n",
       "      <th>spoken_languages</th>\n",
       "      <th>status</th>\n",
       "      <th>tagline</th>\n",
       "      <th>title</th>\n",
       "      <th>video</th>\n",
       "      <th>vote_average</th>\n",
       "      <th>vote_count</th>\n",
       "      <th>certifcation</th>\n",
       "    </tr>\n",
       "  </thead>\n",
       "  <tbody>\n",
       "    <tr>\n",
       "      <th>0</th>\n",
       "      <td>False</td>\n",
       "      <td>/9BBTo63ANSmhC4e6r62OJFuK2GL.jpg</td>\n",
       "      <td>{'id': 86311, 'name': 'The Avengers Collection...</td>\n",
       "      <td>220000000</td>\n",
       "      <td>[{'id': 878, 'name': 'Science Fiction'}, {'id'...</td>\n",
       "      <td>https://www.marvel.com/movies/the-avengers</td>\n",
       "      <td>24428</td>\n",
       "      <td>tt0848228</td>\n",
       "      <td>en</td>\n",
       "      <td>The Avengers</td>\n",
       "      <td>...</td>\n",
       "      <td>1518815515</td>\n",
       "      <td>143</td>\n",
       "      <td>[{'english_name': 'English', 'iso_639_1': 'en'...</td>\n",
       "      <td>Released</td>\n",
       "      <td>Some assembly required.</td>\n",
       "      <td>The Avengers</td>\n",
       "      <td>False</td>\n",
       "      <td>7.705</td>\n",
       "      <td>27531</td>\n",
       "      <td>PG-13</td>\n",
       "    </tr>\n",
       "    <tr>\n",
       "      <th>1</th>\n",
       "      <td>False</td>\n",
       "      <td>/qom1SZSENdmHFNZBXbtJAU0WTlC.jpg</td>\n",
       "      <td>None</td>\n",
       "      <td>29000000</td>\n",
       "      <td>[{'id': 10749, 'name': 'Romance'}, {'id': 18, ...</td>\n",
       "      <td>http://www.newline.com/properties/notebookthe....</td>\n",
       "      <td>11036</td>\n",
       "      <td>tt0332280</td>\n",
       "      <td>en</td>\n",
       "      <td>The Notebook</td>\n",
       "      <td>...</td>\n",
       "      <td>115603229</td>\n",
       "      <td>123</td>\n",
       "      <td>[{'english_name': 'English', 'iso_639_1': 'en'...</td>\n",
       "      <td>Released</td>\n",
       "      <td>Behind every great love is a great story.</td>\n",
       "      <td>The Notebook</td>\n",
       "      <td>False</td>\n",
       "      <td>7.880</td>\n",
       "      <td>9823</td>\n",
       "      <td>PG-13</td>\n",
       "    </tr>\n",
       "  </tbody>\n",
       "</table>\n",
       "<p>2 rows × 26 columns</p>\n",
       "</div>"
      ],
      "text/plain": [
       "   adult                     backdrop_path  \\\n",
       "0  False  /9BBTo63ANSmhC4e6r62OJFuK2GL.jpg   \n",
       "1  False  /qom1SZSENdmHFNZBXbtJAU0WTlC.jpg   \n",
       "\n",
       "                               belongs_to_collection     budget  \\\n",
       "0  {'id': 86311, 'name': 'The Avengers Collection...  220000000   \n",
       "1                                               None   29000000   \n",
       "\n",
       "                                              genres  \\\n",
       "0  [{'id': 878, 'name': 'Science Fiction'}, {'id'...   \n",
       "1  [{'id': 10749, 'name': 'Romance'}, {'id': 18, ...   \n",
       "\n",
       "                                            homepage     id    imdb_id  \\\n",
       "0         https://www.marvel.com/movies/the-avengers  24428  tt0848228   \n",
       "1  http://www.newline.com/properties/notebookthe....  11036  tt0332280   \n",
       "\n",
       "  original_language original_title  ...     revenue  runtime  \\\n",
       "0                en   The Avengers  ...  1518815515      143   \n",
       "1                en   The Notebook  ...   115603229      123   \n",
       "\n",
       "                                    spoken_languages    status  \\\n",
       "0  [{'english_name': 'English', 'iso_639_1': 'en'...  Released   \n",
       "1  [{'english_name': 'English', 'iso_639_1': 'en'...  Released   \n",
       "\n",
       "                                     tagline         title  video  \\\n",
       "0                    Some assembly required.  The Avengers  False   \n",
       "1  Behind every great love is a great story.  The Notebook  False   \n",
       "\n",
       "   vote_average vote_count certifcation  \n",
       "0         7.705      27531        PG-13  \n",
       "1         7.880       9823        PG-13  \n",
       "\n",
       "[2 rows x 26 columns]"
      ]
     },
     "execution_count": 31,
     "metadata": {},
     "output_type": "execute_result"
    }
   ],
   "source": [
    "# Summary between both movies.\n",
    "test_ids = ['tt0848228', 'tt0332280']\n",
    "results = []\n",
    "\n",
    "for movie_id in test_ids:  \n",
    "    try:\n",
    "        movie_info = get_movie_certification(movie_id)\n",
    "        results.append(movie_info)        \n",
    "    except: \n",
    "        pass\n",
    "    \n",
    "pd.DataFrame(results)"
   ]
  },
  {
   "cell_type": "markdown",
   "id": "d2c3b50a",
   "metadata": {},
   "source": [
    "## 3.- Visual Data Exploration"
   ]
  },
  {
   "cell_type": "markdown",
   "id": "819a03bb",
   "metadata": {},
   "source": [
    "### 3.1.- How many movies had at least some valid financial information (values > 0 for budget OR revenue)?\n",
    "Please exclude any movies with 0's for budget AND revenue from the remaining visualizations."
   ]
  },
  {
   "cell_type": "code",
   "execution_count": 32,
   "id": "bffc62e7",
   "metadata": {},
   "outputs": [],
   "source": [
    "# Create the filter.\n",
    "movies_with_0_budget_and_revenue = movies_from_2000_and_2001_df[(movies_from_2000_and_2001_df['budget'] > 0) \\\n",
    "                                                               & (movies_from_2000_and_2001_df['revenue'] > 0)]"
   ]
  },
  {
   "cell_type": "code",
   "execution_count": 33,
   "id": "fe3e5631",
   "metadata": {},
   "outputs": [
    {
     "name": "stdout",
     "output_type": "stream",
     "text": [
      "We identified 348 movies that had at least some valid finalcial information.\n",
      "This means that just the 13.95% are \"profitable\".\n"
     ]
    }
   ],
   "source": [
    "# Formating the result.\n",
    "valid_financial_info = len(movies_with_0_budget_and_revenue)\n",
    "print(f'We identified {valid_financial_info} movies that had at least some valid finalcial information.')\n",
    "\n",
    "valid_fin_info_impact = round(valid_financial_info/len(movies_from_2000_and_2001_df)*100,2)\n",
    "print(f'This means that just the {valid_fin_info_impact}% are \"profitable\".')"
   ]
  },
  {
   "cell_type": "code",
   "execution_count": 34,
   "id": "2e4058cc",
   "metadata": {},
   "outputs": [
    {
     "name": "stdout",
     "output_type": "stream",
     "text": [
      "<class 'pandas.core.frame.DataFrame'>\n",
      "Int64Index: 348 entries, 4 to 1246\n",
      "Data columns (total 26 columns):\n",
      " #   Column                 Non-Null Count  Dtype  \n",
      "---  ------                 --------------  -----  \n",
      " 0   imdb_id                348 non-null    object \n",
      " 1   adult                  348 non-null    float64\n",
      " 2   backdrop_path          336 non-null    object \n",
      " 3   belongs_to_collection  84 non-null     object \n",
      " 4   budget                 348 non-null    float64\n",
      " 5   genres                 348 non-null    object \n",
      " 6   homepage               56 non-null     object \n",
      " 7   id                     348 non-null    float64\n",
      " 8   original_language      348 non-null    object \n",
      " 9   original_title         348 non-null    object \n",
      " 10  overview               348 non-null    object \n",
      " 11  popularity             348 non-null    float64\n",
      " 12  poster_path            348 non-null    object \n",
      " 13  production_companies   348 non-null    object \n",
      " 14  production_countries   348 non-null    object \n",
      " 15  release_date           348 non-null    object \n",
      " 16  revenue                348 non-null    float64\n",
      " 17  runtime                348 non-null    float64\n",
      " 18  spoken_languages       348 non-null    object \n",
      " 19  status                 348 non-null    object \n",
      " 20  tagline                315 non-null    object \n",
      " 21  title                  348 non-null    object \n",
      " 22  video                  348 non-null    float64\n",
      " 23  vote_average           348 non-null    float64\n",
      " 24  vote_count             348 non-null    float64\n",
      " 25  certifcation           304 non-null    object \n",
      "dtypes: float64(9), object(17)\n",
      "memory usage: 73.4+ KB\n"
     ]
    }
   ],
   "source": [
    "# Checking the general info.\n",
    "movies_with_0_budget_and_revenue.info()"
   ]
  },
  {
   "cell_type": "markdown",
   "id": "744d27f5",
   "metadata": {},
   "source": [
    "**Notes:**\n",
    "- We identified there is still missing data in our 'certification' column, even after filtering.\n",
    "- The impact of these missing data has been reduced to 12.6%."
   ]
  },
  {
   "cell_type": "markdown",
   "id": "83d7c346",
   "metadata": {},
   "source": [
    "### 3.2.- How many movies are there in each of the certification categories (G/PG/PG-13/R)?"
   ]
  },
  {
   "cell_type": "code",
   "execution_count": 35,
   "id": "3b89214a",
   "metadata": {},
   "outputs": [
    {
     "data": {
      "text/plain": [
       "R          452\n",
       "PG-13      180\n",
       "NR          66\n",
       "PG          64\n",
       "G           24\n",
       "NC-17        6\n",
       "Unrated      1\n",
       "-            1\n",
       "Name: certifcation, dtype: int64"
      ]
     },
     "execution_count": 35,
     "metadata": {},
     "output_type": "execute_result"
    }
   ],
   "source": [
    "# Let's have a closer look of our 'certifcation' column.\n",
    "movies_from_2000_and_2001_df['certifcation'].value_counts()"
   ]
  },
  {
   "cell_type": "code",
   "execution_count": 36,
   "id": "3fa0c8a6",
   "metadata": {},
   "outputs": [
    {
     "data": {
      "text/html": [
       "<div>\n",
       "<style scoped>\n",
       "    .dataframe tbody tr th:only-of-type {\n",
       "        vertical-align: middle;\n",
       "    }\n",
       "\n",
       "    .dataframe tbody tr th {\n",
       "        vertical-align: top;\n",
       "    }\n",
       "\n",
       "    .dataframe thead th {\n",
       "        text-align: right;\n",
       "    }\n",
       "</style>\n",
       "<table border=\"1\" class=\"dataframe\">\n",
       "  <thead>\n",
       "    <tr style=\"text-align: right;\">\n",
       "      <th></th>\n",
       "      <th>imdb_id</th>\n",
       "      <th>adult</th>\n",
       "      <th>backdrop_path</th>\n",
       "      <th>belongs_to_collection</th>\n",
       "      <th>budget</th>\n",
       "      <th>genres</th>\n",
       "      <th>homepage</th>\n",
       "      <th>id</th>\n",
       "      <th>original_language</th>\n",
       "      <th>original_title</th>\n",
       "      <th>...</th>\n",
       "      <th>revenue</th>\n",
       "      <th>runtime</th>\n",
       "      <th>spoken_languages</th>\n",
       "      <th>status</th>\n",
       "      <th>tagline</th>\n",
       "      <th>title</th>\n",
       "      <th>video</th>\n",
       "      <th>vote_average</th>\n",
       "      <th>vote_count</th>\n",
       "      <th>certifcation</th>\n",
       "    </tr>\n",
       "  </thead>\n",
       "  <tbody>\n",
       "    <tr>\n",
       "      <th>819</th>\n",
       "      <td>tt0282526</td>\n",
       "      <td>0.0</td>\n",
       "      <td>NaN</td>\n",
       "      <td>NaN</td>\n",
       "      <td>0.0</td>\n",
       "      <td>[{'id': 18, 'name': 'Drama'}]</td>\n",
       "      <td>NaN</td>\n",
       "      <td>172550.0</td>\n",
       "      <td>it</td>\n",
       "      <td>Giorni</td>\n",
       "      <td>...</td>\n",
       "      <td>0.0</td>\n",
       "      <td>90.0</td>\n",
       "      <td>[{'english_name': 'Italian', 'iso_639_1': 'it'...</td>\n",
       "      <td>Released</td>\n",
       "      <td>NaN</td>\n",
       "      <td>Days</td>\n",
       "      <td>0.0</td>\n",
       "      <td>5.0</td>\n",
       "      <td>7.0</td>\n",
       "      <td>-</td>\n",
       "    </tr>\n",
       "  </tbody>\n",
       "</table>\n",
       "<p>1 rows × 26 columns</p>\n",
       "</div>"
      ],
      "text/plain": [
       "       imdb_id  adult backdrop_path belongs_to_collection  budget  \\\n",
       "819  tt0282526    0.0           NaN                   NaN     0.0   \n",
       "\n",
       "                            genres homepage        id original_language  \\\n",
       "819  [{'id': 18, 'name': 'Drama'}]      NaN  172550.0                it   \n",
       "\n",
       "    original_title  ... revenue  runtime  \\\n",
       "819         Giorni  ...     0.0     90.0   \n",
       "\n",
       "                                      spoken_languages    status tagline  \\\n",
       "819  [{'english_name': 'Italian', 'iso_639_1': 'it'...  Released     NaN   \n",
       "\n",
       "    title  video  vote_average vote_count certifcation  \n",
       "819  Days    0.0           5.0        7.0            -  \n",
       "\n",
       "[1 rows x 26 columns]"
      ]
     },
     "execution_count": 36,
     "metadata": {},
     "output_type": "execute_result"
    }
   ],
   "source": [
    "# Locate '-' value.\n",
    "movies_from_2000_and_2001_df[movies_from_2000_and_2001_df['certifcation'] == '-']"
   ]
  },
  {
   "cell_type": "code",
   "execution_count": 37,
   "id": "ffafa306",
   "metadata": {},
   "outputs": [],
   "source": [
    "# Let's fix the odd value located in row 819.\n",
    "movies_from_2000_and_2001_df.loc[819, 'certifcation'] = 'Unrated'"
   ]
  },
  {
   "cell_type": "code",
   "execution_count": 38,
   "id": "2bf9191e",
   "metadata": {},
   "outputs": [
    {
     "data": {
      "text/plain": [
       "R          452\n",
       "PG-13      180\n",
       "NR          66\n",
       "PG          64\n",
       "G           24\n",
       "NC-17        6\n",
       "Unrated      3\n",
       "Name: certifcation, dtype: int64"
      ]
     },
     "execution_count": 38,
     "metadata": {},
     "output_type": "execute_result"
    }
   ],
   "source": [
    "# Set dataframe to plot.\n",
    "movies_from_2000_and_2001_df['certifcation'].value_counts(ascending=False)"
   ]
  },
  {
   "cell_type": "code",
   "execution_count": 39,
   "id": "20971312",
   "metadata": {},
   "outputs": [
    {
     "data": {
      "image/png": "[encoded data removed]",
      "text/plain": [
       "<Figure size 1600x800 with 1 Axes>"
      ]
     },
     "metadata": {},
     "output_type": "display_data"
    }
   ],
   "source": [
    "# Let's plot our horizontal bar graph.\n",
    "## Code inspired in https://machinelearningknowledge.ai/seaborn-countplot-tutorial-for-beginners/\n",
    "fig, ax = plt.subplots(figsize=(16,8))\n",
    "ax = sns.countplot(data=movies_from_2000_and_2001_df, y='certifcation', palette='rainbow',\n",
    "                   order=movies_from_2000_and_2001_df['certifcation'].value_counts(ascending=False).index)\n",
    "ax.set_ylabel('Certification Category', fontsize=15,labelpad=10)\n",
    "ax.set_xlabel('# of Movies', fontsize=15,labelpad=10)\n",
    "ax.set_title('Number of Movies per Rating', fontsize=20)\n",
    "plt.savefig('number_movies_rating.png', pad_inches=1, bbox_inches='tight');"
   ]
  },
  {
   "cell_type": "markdown",
   "id": "19169359",
   "metadata": {},
   "source": [
    "### 3.3.- What is the average revenue per certification category?"
   ]
  },
  {
   "cell_type": "code",
   "execution_count": 40,
   "id": "cbe36e65",
   "metadata": {},
   "outputs": [
    {
     "data": {
      "text/plain": [
       "certifcation\n",
       "G          7.216332e+07\n",
       "PG-13      7.158384e+07\n",
       "PG         6.143535e+07\n",
       "R          1.682113e+07\n",
       "NR         2.289235e+06\n",
       "NC-17      0.000000e+00\n",
       "Unrated    0.000000e+00\n",
       "Name: revenue, dtype: float64"
      ]
     },
     "execution_count": 40,
     "metadata": {},
     "output_type": "execute_result"
    }
   ],
   "source": [
    "# Let's have a look of the data.\n",
    "movies_from_2000_and_2001_df.groupby('certifcation')['revenue'].mean().sort_values(ascending=False)"
   ]
  },
  {
   "cell_type": "code",
   "execution_count": 41,
   "id": "b40aaf9f",
   "metadata": {},
   "outputs": [
    {
     "data": {
      "image/png": "[encoded data removed]",
      "text/plain": [
       "<Figure size 1600x800 with 1 Axes>"
      ]
     },
     "metadata": {},
     "output_type": "display_data"
    }
   ],
   "source": [
    "# Plot the results.\n",
    "fig, ax = plt.subplots(figsize=(16,8))\n",
    "ax = sns.barplot(data=movies_from_2000_and_2001_df, x='revenue', y='certifcation', palette='rainbow', ci=None)\n",
    "ax.set_ylabel('Certification Category', fontsize=15,labelpad=10)\n",
    "ax.set_xlabel('Revenue  ($ 10^7)', fontsize=15,labelpad=10)\n",
    "ax.set_title('AVG Revenue in Movies per Certification', fontsize=20)\n",
    "plt.savefig('avg_revenue_certification', pad_inches=1, bbox_inches='tight');"
   ]
  },
  {
   "cell_type": "markdown",
   "id": "6abf55ec",
   "metadata": {},
   "source": [
    "### 3.4.- What is the average budget per certification category?"
   ]
  },
  {
   "cell_type": "code",
   "execution_count": 42,
   "id": "2ac40dc2",
   "metadata": {},
   "outputs": [
    {
     "data": {
      "text/plain": [
       "certifcation\n",
       "PG-13      3.113838e+07\n",
       "PG         2.459766e+07\n",
       "G          2.383333e+07\n",
       "R          9.998904e+06\n",
       "NR         1.622729e+06\n",
       "NC-17      0.000000e+00\n",
       "Unrated    0.000000e+00\n",
       "Name: budget, dtype: float64"
      ]
     },
     "execution_count": 42,
     "metadata": {},
     "output_type": "execute_result"
    }
   ],
   "source": [
    "# Let's have a look of the data.\n",
    "movies_from_2000_and_2001_df.groupby('certifcation')['budget'].mean().sort_values(ascending=False)"
   ]
  },
  {
   "cell_type": "code",
   "execution_count": 43,
   "id": "c469c838",
   "metadata": {},
   "outputs": [
    {
     "data": {
      "image/png": "[encoded data removed]",
      "text/plain": [
       "<Figure size 1600x800 with 1 Axes>"
      ]
     },
     "metadata": {},
     "output_type": "display_data"
    }
   ],
   "source": [
    "# Plot the results.\n",
    "fig, ax = plt.subplots(figsize=(16,8))\n",
    "ax = sns.barplot(data=movies_from_2000_and_2001_df, x='budget', y='certifcation', palette='rainbow', ci=None)\n",
    "ax.set_ylabel('Certification Category', fontsize=15,labelpad=10)\n",
    "ax.set_xlabel('Budget  ($ 10^7)', fontsize=15,labelpad=10)\n",
    "ax.set_title('AVG Budget in Movies per Certification', fontsize=20)\n",
    "plt.savefig('avg_budget_certification', pad_inches=1, bbox_inches='tight');"
   ]
  },
  {
   "cell_type": "markdown",
   "id": "2af14a5f",
   "metadata": {},
   "source": [
    "### 3.5.- What is the average ROI (Return of Investment) per certification category?\n",
    "- In Section 2.3, we calculated the ROI of The Avengers and The Notebook movies. \n",
    "- In this Section we are going to analyze if those financial performance are usual in movies, in order to evaluate which type of movie are more profitable related with MPAA Rating (certification)."
   ]
  },
  {
   "cell_type": "code",
   "execution_count": 44,
   "id": "3c642237",
   "metadata": {},
   "outputs": [
    {
     "name": "stderr",
     "output_type": "stream",
     "text": [
      "C:\\Users\\eduar\\AppData\\Local\\Temp\\ipykernel_8344\\1823789866.py:5: SettingWithCopyWarning: \n",
      "A value is trying to be set on a copy of a slice from a DataFrame.\n",
      "Try using .loc[row_indexer,col_indexer] = value instead\n",
      "\n",
      "See the caveats in the documentation: https://pandas.pydata.org/pandas-docs/stable/user_guide/indexing.html#returning-a-view-versus-a-copy\n",
      "  df['ROI'] = (df['revenue'] - df['budget']) / df['budget'] * 100\n"
     ]
    }
   ],
   "source": [
    "# Let's calculate the ROI per movie.\n",
    "\n",
    "## Create a function to have a cleaner code.\n",
    "def calculate_roi(df):\n",
    "  df['ROI'] = (df['revenue'] - df['budget']) / df['budget'] * 100\n",
    "  return df\n",
    "\n",
    "## Call the function.\n",
    "ROI_2000_2001_df = calculate_roi(movies_with_0_budget_and_revenue)"
   ]
  },
  {
   "cell_type": "code",
   "execution_count": 45,
   "id": "97053bca",
   "metadata": {},
   "outputs": [
    {
     "data": {
      "text/plain": [
       "count     348.000000\n",
       "mean      184.083996\n",
       "std       593.639612\n",
       "min       -99.883000\n",
       "25%       -32.713193\n",
       "50%        55.335011\n",
       "75%       216.279648\n",
       "max      8469.968667\n",
       "Name: ROI, dtype: float64"
      ]
     },
     "execution_count": 45,
     "metadata": {},
     "output_type": "execute_result"
    }
   ],
   "source": [
    "# Statistical summary.\n",
    "ROI_2000_2001_df['ROI'].describe()"
   ]
  },
  {
   "cell_type": "code",
   "execution_count": 46,
   "id": "6b52d937",
   "metadata": {},
   "outputs": [
    {
     "name": "stdout",
     "output_type": "stream",
     "text": [
      "The 63.51% of the movies from 2000 & 2001 with valid financial info have positive ROI.\n",
      "The 8.86% of the movies from 2000 & 2001 were profitable.\n"
     ]
    }
   ],
   "source": [
    "# Formating the findings.\n",
    "movies_with_positive_ROI = round(len(ROI_2000_2001_df[ROI_2000_2001_df['ROI'] > 0])\\\n",
    "                                 / len(movies_with_0_budget_and_revenue) * 100, 2)\n",
    "print(f'The {movies_with_positive_ROI}% of the movies from 2000 & 2001 with valid financial info have positive ROI.')\n",
    "\n",
    "total_movies_with_positive_ROI = round(len(ROI_2000_2001_df[ROI_2000_2001_df['ROI'] > 0])\\\n",
    "                                 / len(movies_from_2000_and_2001_df) * 100, 2)\n",
    "print(f'The {total_movies_with_positive_ROI}% of the movies from 2000 & 2001 were profitable.')"
   ]
  },
  {
   "cell_type": "code",
   "execution_count": 57,
   "id": "9664133e",
   "metadata": {},
   "outputs": [
    {
     "name": "stdout",
     "output_type": "stream",
     "text": [
      "certifcation\n",
      "PG       472.344304\n",
      "NR       199.218408\n",
      "G        191.259495\n",
      "R        176.307125\n",
      "PG-13    137.312449\n",
      "Name: ROI, dtype: float64\n"
     ]
    },
    {
     "data": {
      "image/png": "[encoded data removed]",
      "text/plain": [
       "<Figure size 640x480 with 1 Axes>"
      ]
     },
     "metadata": {},
     "output_type": "display_data"
    }
   ],
   "source": [
    "# Let's see the behavior per certification category.\n",
    "ROI_to_plot=ROI_2000_2001_df.groupby('certifcation')['ROI'].mean().sort_values(ascending=False)\n",
    "ROI_to_plot.plot(kind='bar', title='2000 & 2001 Movies with positive ROI per Certification Category')\n",
    "plt.savefig('ROI_2000_2001.png', pad_inches=1, bbox_inches='tight');\n",
    "print(ROI_to_plot)"
   ]
  },
  {
   "cell_type": "markdown",
   "id": "300f9ea7",
   "metadata": {},
   "source": [
    "# E. Conclusions"
   ]
  },
  {
   "cell_type": "markdown",
   "id": "5c54cb79",
   "metadata": {},
   "source": [
    "- In 2000 and 2001, rating R accounted for almost 67% of the movies made, but was not among the top three in profitability.\n",
    "- During the same time period, PG movies accounted for 8% of films made, and they were identified as the most profitable.\n",
    "- There were 8.86% of projects with positive ROI, which raised suspicions about the data's reliability. There might need to be a more in-depth study."
   ]
  }
 ],
 "metadata": {
  "kernelspec": {
   "display_name": "Python (dojo-env)",
   "language": "python",
   "name": "dojo-env"
  },
  "language_info": {
   "codemirror_mode": {
    "name": "ipython",
    "version": 3
   },
   "file_extension": ".py",
   "mimetype": "text/x-python",
   "name": "python",
   "nbconvert_exporter": "python",
   "pygments_lexer": "ipython3",
   "version": "3.8.13"
  },
  "toc": {
   "base_numbering": 1,
   "nav_menu": {},
   "number_sections": false,
   "sideBar": true,
   "skip_h1_title": false,
   "title_cell": "Table of Contents",
   "title_sidebar": "Contents",
   "toc_cell": false,
   "toc_position": {
    "height": "calc(100% - 180px)",
    "left": "10px",
    "top": "150px",
    "width": "384px"
   },
   "toc_section_display": true,
   "toc_window_display": true
  },
  "widgets": {
   "application/vnd.jupyter.widget-state+json": {
    "state": {
     "408de78c37714f8198820d0dc176d9c1": {
      "model_module": "@jupyter-widgets/base",
      "model_module_version": "2.0.0",
      "model_name": "LayoutModel",
      "state": {}
     },
     "446000760e324746ade9d7b9038f1cc4": {
      "model_module": "@jupyter-widgets/controls",
      "model_module_version": "2.0.0",
      "model_name": "HBoxModel",
      "state": {
       "children": [
        "IPY_MODEL_96aaa0f3cbb24d248b108c482e4cc261",
        "IPY_MODEL_7b7b728eaaaa45aeb7f16763d634650a",
        "IPY_MODEL_ec90fb542a9749228f93ea3dda942e12"
       ],
       "layout": "IPY_MODEL_4df1af9f5dfe419289bd8a8a80273bc4"
      }
     },
     "48e66f4a2e054a70ba20818b72f4d020": {
      "model_module": "@jupyter-widgets/controls",
      "model_module_version": "2.0.0",
      "model_name": "HBoxModel",
      "state": {
       "children": [
        "IPY_MODEL_7916026c47e445959e54447975d74270",
        "IPY_MODEL_b2e0567157bc4e098cf95d8f06b0718f",
        "IPY_MODEL_5c6020af194c4bc1b69be26fd0313904"
       ],
       "layout": "IPY_MODEL_a31afbc0bd6742cc94c16cf867838a4e"
      }
     },
     "4df1af9f5dfe419289bd8a8a80273bc4": {
      "model_module": "@jupyter-widgets/base",
      "model_module_version": "2.0.0",
      "model_name": "LayoutModel",
      "state": {}
     },
     "54b8c839e54942baa5fdc8acc74c90da": {
      "model_module": "@jupyter-widgets/base",
      "model_module_version": "2.0.0",
      "model_name": "LayoutModel",
      "state": {}
     },
     "5c6020af194c4bc1b69be26fd0313904": {
      "model_module": "@jupyter-widgets/controls",
      "model_module_version": "2.0.0",
      "model_name": "HTMLModel",
      "state": {
       "layout": "IPY_MODEL_6c96866b05c64404a4a2ef5d55601994",
       "style": "IPY_MODEL_c8ddb203003145e2b72becc07f85cba7",
       "value": " 2/2 [30:29&lt;00:00, 923.13s/it]"
      }
     },
     "64e630cb63784c0fa9a141924f1a7090": {
      "model_module": "@jupyter-widgets/base",
      "model_module_version": "2.0.0",
      "model_name": "LayoutModel",
      "state": {}
     },
     "6c96866b05c64404a4a2ef5d55601994": {
      "model_module": "@jupyter-widgets/base",
      "model_module_version": "2.0.0",
      "model_name": "LayoutModel",
      "state": {}
     },
     "76a1d93b379e4e7eac0d6bb7cc2620ff": {
      "model_module": "@jupyter-widgets/base",
      "model_module_version": "2.0.0",
      "model_name": "LayoutModel",
      "state": {}
     },
     "7916026c47e445959e54447975d74270": {
      "model_module": "@jupyter-widgets/controls",
      "model_module_version": "2.0.0",
      "model_name": "HTMLModel",
      "state": {
       "layout": "IPY_MODEL_d71278cad2954aeea1994dda36fc69b8",
       "style": "IPY_MODEL_b8d9032614244af19585c2eba20bb23b",
       "value": "YEARS: 100%"
      }
     },
     "7b7b728eaaaa45aeb7f16763d634650a": {
      "model_module": "@jupyter-widgets/controls",
      "model_module_version": "2.0.0",
      "model_name": "FloatProgressModel",
      "state": {
       "bar_style": "success",
       "layout": "IPY_MODEL_8864c2f670d048769641bc70e2ceae8e",
       "max": 1529,
       "style": "IPY_MODEL_b839389b0ad44395bbaff42430d56f76",
       "value": 1529
      }
     },
     "7c38363a08824370a6b1a395fa2601d2": {
      "model_module": "@jupyter-widgets/controls",
      "model_module_version": "2.0.0",
      "model_name": "HTMLModel",
      "state": {
       "layout": "IPY_MODEL_54b8c839e54942baa5fdc8acc74c90da",
       "style": "IPY_MODEL_8a703167dcac47a5802843e6cab211c6",
       "value": "Movies from 2000: 100%"
      }
     },
     "8864c2f670d048769641bc70e2ceae8e": {
      "model_module": "@jupyter-widgets/base",
      "model_module_version": "2.0.0",
      "model_name": "LayoutModel",
      "state": {}
     },
     "8a703167dcac47a5802843e6cab211c6": {
      "model_module": "@jupyter-widgets/controls",
      "model_module_version": "2.0.0",
      "model_name": "HTMLStyleModel",
      "state": {
       "description_width": "",
       "font_size": null,
       "text_color": null
      }
     },
     "96aaa0f3cbb24d248b108c482e4cc261": {
      "model_module": "@jupyter-widgets/controls",
      "model_module_version": "2.0.0",
      "model_name": "HTMLModel",
      "state": {
       "layout": "IPY_MODEL_64e630cb63784c0fa9a141924f1a7090",
       "style": "IPY_MODEL_da3528c006b44690851fcc5d1a2e86d3",
       "value": "Movies from 2001: 100%"
      }
     },
     "9723abb3df5446b5beedc1dc38db541b": {
      "model_module": "@jupyter-widgets/base",
      "model_module_version": "2.0.0",
      "model_name": "LayoutModel",
      "state": {}
     },
     "9b43c3e6ff8b4b63a94e464afda84dfc": {
      "model_module": "@jupyter-widgets/base",
      "model_module_version": "2.0.0",
      "model_name": "LayoutModel",
      "state": {}
     },
     "9b579c5bd65746728f23c3dc2348df26": {
      "model_module": "@jupyter-widgets/controls",
      "model_module_version": "2.0.0",
      "model_name": "ProgressStyleModel",
      "state": {
       "description_width": ""
      }
     },
     "a31afbc0bd6742cc94c16cf867838a4e": {
      "model_module": "@jupyter-widgets/base",
      "model_module_version": "2.0.0",
      "model_name": "LayoutModel",
      "state": {}
     },
     "b2e0567157bc4e098cf95d8f06b0718f": {
      "model_module": "@jupyter-widgets/controls",
      "model_module_version": "2.0.0",
      "model_name": "FloatProgressModel",
      "state": {
       "bar_style": "success",
       "layout": "IPY_MODEL_ee904cdf44fe4a65a3b3af81e84253e6",
       "max": 2,
       "style": "IPY_MODEL_9b579c5bd65746728f23c3dc2348df26",
       "value": 2
      }
     },
     "b6da2fcc61ce46e3b63130d14f92eb06": {
      "model_module": "@jupyter-widgets/controls",
      "model_module_version": "2.0.0",
      "model_name": "HTMLStyleModel",
      "state": {
       "description_width": "",
       "font_size": null,
       "text_color": null
      }
     },
     "b839389b0ad44395bbaff42430d56f76": {
      "model_module": "@jupyter-widgets/controls",
      "model_module_version": "2.0.0",
      "model_name": "ProgressStyleModel",
      "state": {
       "description_width": ""
      }
     },
     "b8d9032614244af19585c2eba20bb23b": {
      "model_module": "@jupyter-widgets/controls",
      "model_module_version": "2.0.0",
      "model_name": "HTMLStyleModel",
      "state": {
       "description_width": "",
       "font_size": null,
       "text_color": null
      }
     },
     "baf678a84711450d97c8480c9b02bb67": {
      "model_module": "@jupyter-widgets/controls",
      "model_module_version": "2.0.0",
      "model_name": "HTMLModel",
      "state": {
       "layout": "IPY_MODEL_76a1d93b379e4e7eac0d6bb7cc2620ff",
       "style": "IPY_MODEL_e3ed08b3f9db4b5ab7eb18f123f4f918",
       "value": " 1412/1412 [14:27&lt;00:00,  3.42it/s]"
      }
     },
     "c8ddb203003145e2b72becc07f85cba7": {
      "model_module": "@jupyter-widgets/controls",
      "model_module_version": "2.0.0",
      "model_name": "HTMLStyleModel",
      "state": {
       "description_width": "",
       "font_size": null,
       "text_color": null
      }
     },
     "cd6f3a2e07f0489abfe5bb36d198fb6c": {
      "model_module": "@jupyter-widgets/controls",
      "model_module_version": "2.0.0",
      "model_name": "FloatProgressModel",
      "state": {
       "bar_style": "success",
       "layout": "IPY_MODEL_408de78c37714f8198820d0dc176d9c1",
       "max": 1412,
       "style": "IPY_MODEL_d1c1e5efbc2240faa829f591cf920091",
       "value": 1412
      }
     },
     "d1c1e5efbc2240faa829f591cf920091": {
      "model_module": "@jupyter-widgets/controls",
      "model_module_version": "2.0.0",
      "model_name": "ProgressStyleModel",
      "state": {
       "description_width": ""
      }
     },
     "d71278cad2954aeea1994dda36fc69b8": {
      "model_module": "@jupyter-widgets/base",
      "model_module_version": "2.0.0",
      "model_name": "LayoutModel",
      "state": {}
     },
     "da3528c006b44690851fcc5d1a2e86d3": {
      "model_module": "@jupyter-widgets/controls",
      "model_module_version": "2.0.0",
      "model_name": "HTMLStyleModel",
      "state": {
       "description_width": "",
       "font_size": null,
       "text_color": null
      }
     },
     "e3ed08b3f9db4b5ab7eb18f123f4f918": {
      "model_module": "@jupyter-widgets/controls",
      "model_module_version": "2.0.0",
      "model_name": "HTMLStyleModel",
      "state": {
       "description_width": "",
       "font_size": null,
       "text_color": null
      }
     },
     "ec90fb542a9749228f93ea3dda942e12": {
      "model_module": "@jupyter-widgets/controls",
      "model_module_version": "2.0.0",
      "model_name": "HTMLModel",
      "state": {
       "layout": "IPY_MODEL_9b43c3e6ff8b4b63a94e464afda84dfc",
       "style": "IPY_MODEL_b6da2fcc61ce46e3b63130d14f92eb06",
       "value": " 1529/1529 [16:01&lt;00:00,  3.06it/s]"
      }
     },
     "ee904cdf44fe4a65a3b3af81e84253e6": {
      "model_module": "@jupyter-widgets/base",
      "model_module_version": "2.0.0",
      "model_name": "LayoutModel",
      "state": {}
     },
     "fd272c8490e44cb6801b6e5ce1e5ebe9": {
      "model_module": "@jupyter-widgets/controls",
      "model_module_version": "2.0.0",
      "model_name": "HBoxModel",
      "state": {
       "children": [
        "IPY_MODEL_7c38363a08824370a6b1a395fa2601d2",
        "IPY_MODEL_cd6f3a2e07f0489abfe5bb36d198fb6c",
        "IPY_MODEL_baf678a84711450d97c8480c9b02bb67"
       ],
       "layout": "IPY_MODEL_9723abb3df5446b5beedc1dc38db541b"
      }
     }
    },
    "version_major": 2,
    "version_minor": 0
   }
  }
 },
 "nbformat": 4,
 "nbformat_minor": 5
}
