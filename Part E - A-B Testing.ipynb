{
 "cells": [
  {
   "cell_type": "markdown",
   "id": "b9928721",
   "metadata": {},
   "source": [
    "# A. Project Name:  IMDb Successful Movie.\n",
    "- **Student Name:** Eduardo Galindez.\n",
    "- **Coding Dojo Bootcamp:** Data Science.\n",
    "  - **Stack:** Data Enrichment.\n",
    "- **Date:** September 23th, 2022."
   ]
  },
  {
   "cell_type": "markdown",
   "id": "ee105cc2",
   "metadata": {},
   "source": [
    "# B. Project Objective\n",
    "For Part E of the project, we will be using our MySQL database from Part C to answer meaningful questions for the stakeholder. They want we to use our hypothesis testing and statistics knowledge to answer some questions about what makes a successful movie."
   ]
  },
  {
   "cell_type": "markdown",
   "id": "0887afa0",
   "metadata": {},
   "source": [
    "# C. Project Statement\n"
   ]
  },
  {
   "cell_type": "markdown",
   "id": "6c393f17",
   "metadata": {},
   "source": [
    "### Questions to Answer:\n",
    "The stakeholder's first question is: \n",
    "1. Does the MPAA rating of a movie (G/PG/PG-13/R) affect how much revenue the movie generates?\n",
    "    - They want we to perform a statistical test to get a mathematically-supported answer.\n",
    "    - They want we to report if we found a significant difference between ratings.\n",
    "        - If so, what was the p-value of you analysis?\n",
    "        - And which rating earns the most revenue?\n",
    "    - They want we to prepare a visualization that supports your finding."
   ]
  },
  {
   "cell_type": "markdown",
   "id": "afb63a03",
   "metadata": {},
   "source": [
    "2. Do movies that are over 2.5 hours long earn more revenue than movies that are 1.5 hours long (or less)?\n",
    "3. Do movies released in 2020 earn less revenue than movies released in 2018?\n",
    "4. How do the years compare for movie ratings?\n",
    "5. Do some movie genres earn more revenue than others?\n",
    "6. Are some genres higher rated than others?"
   ]
  },
  {
   "cell_type": "markdown",
   "id": "87dba2c0",
   "metadata": {},
   "source": [
    "# D. Project Development"
   ]
  },
  {
   "cell_type": "markdown",
   "id": "9f8260b5",
   "metadata": {},
   "source": [
    "## 1.- Libraries & Functions"
   ]
  },
  {
   "cell_type": "code",
   "execution_count": 1,
   "id": "1494bf3e",
   "metadata": {},
   "outputs": [],
   "source": [
    "# Libraries.\n",
    "import numpy as np\n",
    "import pandas as pd\n",
    "import tmdbsimple as tmdb \n",
    "import matplotlib.pyplot as plt\n",
    "import seaborn as sns\n",
    "\n",
    "from tqdm.notebook import tqdm_notebook"
   ]
  },
  {
   "cell_type": "code",
   "execution_count": null,
   "id": "655f0f85",
   "metadata": {},
   "outputs": [],
   "source": []
  },
  {
   "cell_type": "code",
   "execution_count": null,
   "id": "704c2b96",
   "metadata": {},
   "outputs": [],
   "source": []
  },
  {
   "cell_type": "code",
   "execution_count": null,
   "id": "75d0e463",
   "metadata": {},
   "outputs": [],
   "source": []
  },
  {
   "cell_type": "markdown",
   "id": "9bee975a",
   "metadata": {},
   "source": [
    "## 2.-  Data & Connection"
   ]
  },
  {
   "cell_type": "markdown",
   "id": "1b8c309f",
   "metadata": {},
   "source": [
    "### 2.2.- Loading data.\n",
    "- The data to work with is from Part D."
   ]
  },
  {
   "cell_type": "code",
   "execution_count": 2,
   "id": "0a5eb5f3",
   "metadata": {},
   "outputs": [
    {
     "data": {
      "text/html": [
       "<div>\n",
       "<style scoped>\n",
       "    .dataframe tbody tr th:only-of-type {\n",
       "        vertical-align: middle;\n",
       "    }\n",
       "\n",
       "    .dataframe tbody tr th {\n",
       "        vertical-align: top;\n",
       "    }\n",
       "\n",
       "    .dataframe thead th {\n",
       "        text-align: right;\n",
       "    }\n",
       "</style>\n",
       "<table border=\"1\" class=\"dataframe\">\n",
       "  <thead>\n",
       "    <tr style=\"text-align: right;\">\n",
       "      <th></th>\n",
       "      <th>tconst</th>\n",
       "      <th>primaryTitle</th>\n",
       "      <th>startYear</th>\n",
       "      <th>runtimeMinutes</th>\n",
       "    </tr>\n",
       "  </thead>\n",
       "  <tbody>\n",
       "    <tr>\n",
       "      <th>0</th>\n",
       "      <td>tt0108549</td>\n",
       "      <td>West from North Goes South</td>\n",
       "      <td>2004</td>\n",
       "      <td>96</td>\n",
       "    </tr>\n",
       "    <tr>\n",
       "      <th>1</th>\n",
       "      <td>tt0113026</td>\n",
       "      <td>The Fantasticks</td>\n",
       "      <td>2000</td>\n",
       "      <td>86</td>\n",
       "    </tr>\n",
       "    <tr>\n",
       "      <th>2</th>\n",
       "      <td>tt0113092</td>\n",
       "      <td>For the Cause</td>\n",
       "      <td>2000</td>\n",
       "      <td>100</td>\n",
       "    </tr>\n",
       "    <tr>\n",
       "      <th>3</th>\n",
       "      <td>tt0114447</td>\n",
       "      <td>The Silent Force</td>\n",
       "      <td>2001</td>\n",
       "      <td>90</td>\n",
       "    </tr>\n",
       "    <tr>\n",
       "      <th>4</th>\n",
       "      <td>tt0115937</td>\n",
       "      <td>Consequence</td>\n",
       "      <td>2000</td>\n",
       "      <td>91</td>\n",
       "    </tr>\n",
       "  </tbody>\n",
       "</table>\n",
       "</div>"
      ],
      "text/plain": [
       "      tconst                primaryTitle  startYear  runtimeMinutes\n",
       "0  tt0108549  West from North Goes South       2004              96\n",
       "1  tt0113026             The Fantasticks       2000              86\n",
       "2  tt0113092               For the Cause       2000             100\n",
       "3  tt0114447            The Silent Force       2001              90\n",
       "4  tt0115937                 Consequence       2000              91"
      ]
     },
     "execution_count": 2,
     "metadata": {},
     "output_type": "execute_result"
    }
   ],
   "source": [
    "# Load title basics table.\n",
    "title_basics_df = pd.read_csv('./Data/title_basics.csv.gz')\n",
    "title_basics_df.head(5)"
   ]
  },
  {
   "cell_type": "code",
   "execution_count": 3,
   "id": "c8e782c8",
   "metadata": {},
   "outputs": [
    {
     "data": {
      "text/html": [
       "<div>\n",
       "<style scoped>\n",
       "    .dataframe tbody tr th:only-of-type {\n",
       "        vertical-align: middle;\n",
       "    }\n",
       "\n",
       "    .dataframe tbody tr th {\n",
       "        vertical-align: top;\n",
       "    }\n",
       "\n",
       "    .dataframe thead th {\n",
       "        text-align: right;\n",
       "    }\n",
       "</style>\n",
       "<table border=\"1\" class=\"dataframe\">\n",
       "  <thead>\n",
       "    <tr style=\"text-align: right;\">\n",
       "      <th></th>\n",
       "      <th>genre_name</th>\n",
       "      <th>genre_id</th>\n",
       "    </tr>\n",
       "  </thead>\n",
       "  <tbody>\n",
       "    <tr>\n",
       "      <th>0</th>\n",
       "      <td>Action</td>\n",
       "      <td>0</td>\n",
       "    </tr>\n",
       "    <tr>\n",
       "      <th>1</th>\n",
       "      <td>Adult</td>\n",
       "      <td>1</td>\n",
       "    </tr>\n",
       "    <tr>\n",
       "      <th>2</th>\n",
       "      <td>Adventure</td>\n",
       "      <td>2</td>\n",
       "    </tr>\n",
       "    <tr>\n",
       "      <th>3</th>\n",
       "      <td>Animation</td>\n",
       "      <td>3</td>\n",
       "    </tr>\n",
       "    <tr>\n",
       "      <th>4</th>\n",
       "      <td>Biography</td>\n",
       "      <td>4</td>\n",
       "    </tr>\n",
       "  </tbody>\n",
       "</table>\n",
       "</div>"
      ],
      "text/plain": [
       "  genre_name  genre_id\n",
       "0     Action         0\n",
       "1      Adult         1\n",
       "2  Adventure         2\n",
       "3  Animation         3\n",
       "4  Biography         4"
      ]
     },
     "execution_count": 3,
     "metadata": {},
     "output_type": "execute_result"
    }
   ],
   "source": [
    "# Load genres table.\n",
    "genres_df = pd.read_csv('./Data/genres.csv.gz')\n",
    "genres_df.head(5)"
   ]
  },
  {
   "cell_type": "code",
   "execution_count": 4,
   "id": "1c89de0a",
   "metadata": {},
   "outputs": [
    {
     "data": {
      "text/html": [
       "<div>\n",
       "<style scoped>\n",
       "    .dataframe tbody tr th:only-of-type {\n",
       "        vertical-align: middle;\n",
       "    }\n",
       "\n",
       "    .dataframe tbody tr th {\n",
       "        vertical-align: top;\n",
       "    }\n",
       "\n",
       "    .dataframe thead th {\n",
       "        text-align: right;\n",
       "    }\n",
       "</style>\n",
       "<table border=\"1\" class=\"dataframe\">\n",
       "  <thead>\n",
       "    <tr style=\"text-align: right;\">\n",
       "      <th></th>\n",
       "      <th>tconst</th>\n",
       "      <th>genre_id</th>\n",
       "    </tr>\n",
       "  </thead>\n",
       "  <tbody>\n",
       "    <tr>\n",
       "      <th>0</th>\n",
       "      <td>tt0108549</td>\n",
       "      <td>5</td>\n",
       "    </tr>\n",
       "    <tr>\n",
       "      <th>1</th>\n",
       "      <td>tt0108549</td>\n",
       "      <td>15</td>\n",
       "    </tr>\n",
       "    <tr>\n",
       "      <th>2</th>\n",
       "      <td>tt0113026</td>\n",
       "      <td>14</td>\n",
       "    </tr>\n",
       "    <tr>\n",
       "      <th>3</th>\n",
       "      <td>tt0113026</td>\n",
       "      <td>18</td>\n",
       "    </tr>\n",
       "    <tr>\n",
       "      <th>4</th>\n",
       "      <td>tt0113092</td>\n",
       "      <td>0</td>\n",
       "    </tr>\n",
       "  </tbody>\n",
       "</table>\n",
       "</div>"
      ],
      "text/plain": [
       "      tconst  genre_id\n",
       "0  tt0108549         5\n",
       "1  tt0108549        15\n",
       "2  tt0113026        14\n",
       "3  tt0113026        18\n",
       "4  tt0113092         0"
      ]
     },
     "execution_count": 4,
     "metadata": {},
     "output_type": "execute_result"
    }
   ],
   "source": [
    "# Load title genres table.\n",
    "title_genres_df = pd.read_csv('./Data/title_genres.csv.gz')\n",
    "title_genres_df.head(5)"
   ]
  },
  {
   "cell_type": "code",
   "execution_count": 5,
   "id": "b924edc6",
   "metadata": {},
   "outputs": [
    {
     "data": {
      "text/html": [
       "<div>\n",
       "<style scoped>\n",
       "    .dataframe tbody tr th:only-of-type {\n",
       "        vertical-align: middle;\n",
       "    }\n",
       "\n",
       "    .dataframe tbody tr th {\n",
       "        vertical-align: top;\n",
       "    }\n",
       "\n",
       "    .dataframe thead th {\n",
       "        text-align: right;\n",
       "    }\n",
       "</style>\n",
       "<table border=\"1\" class=\"dataframe\">\n",
       "  <thead>\n",
       "    <tr style=\"text-align: right;\">\n",
       "      <th></th>\n",
       "      <th>tconst</th>\n",
       "      <th>averageRating</th>\n",
       "      <th>numVotes</th>\n",
       "    </tr>\n",
       "  </thead>\n",
       "  <tbody>\n",
       "    <tr>\n",
       "      <th>0</th>\n",
       "      <td>tt0139422</td>\n",
       "      <td>5.7</td>\n",
       "      <td>122</td>\n",
       "    </tr>\n",
       "    <tr>\n",
       "      <th>1</th>\n",
       "      <td>tt0139426</td>\n",
       "      <td>4.8</td>\n",
       "      <td>1258</td>\n",
       "    </tr>\n",
       "    <tr>\n",
       "      <th>2</th>\n",
       "      <td>tt0139428</td>\n",
       "      <td>6.3</td>\n",
       "      <td>9</td>\n",
       "    </tr>\n",
       "    <tr>\n",
       "      <th>3</th>\n",
       "      <td>tt0139436</td>\n",
       "      <td>7.7</td>\n",
       "      <td>19</td>\n",
       "    </tr>\n",
       "    <tr>\n",
       "      <th>4</th>\n",
       "      <td>tt0139438</td>\n",
       "      <td>5.2</td>\n",
       "      <td>10</td>\n",
       "    </tr>\n",
       "  </tbody>\n",
       "</table>\n",
       "</div>"
      ],
      "text/plain": [
       "      tconst  averageRating  numVotes\n",
       "0  tt0139422            5.7       122\n",
       "1  tt0139426            4.8      1258\n",
       "2  tt0139428            6.3         9\n",
       "3  tt0139436            7.7        19\n",
       "4  tt0139438            5.2        10"
      ]
     },
     "execution_count": 5,
     "metadata": {},
     "output_type": "execute_result"
    }
   ],
   "source": [
    "# Load title ratings.\n",
    "title_ratings_df = pd.read_csv('./Data/title_ratings.csv.gz')\n",
    "title_ratings_df.head(5)"
   ]
  },
  {
   "cell_type": "code",
   "execution_count": 6,
   "id": "2ebdedb9",
   "metadata": {},
   "outputs": [
    {
     "data": {
      "text/html": [
       "<div>\n",
       "<style scoped>\n",
       "    .dataframe tbody tr th:only-of-type {\n",
       "        vertical-align: middle;\n",
       "    }\n",
       "\n",
       "    .dataframe tbody tr th {\n",
       "        vertical-align: top;\n",
       "    }\n",
       "\n",
       "    .dataframe thead th {\n",
       "        text-align: right;\n",
       "    }\n",
       "</style>\n",
       "<table border=\"1\" class=\"dataframe\">\n",
       "  <thead>\n",
       "    <tr style=\"text-align: right;\">\n",
       "      <th></th>\n",
       "      <th>imdb_id</th>\n",
       "      <th>budget</th>\n",
       "      <th>revenue</th>\n",
       "      <th>certifcation</th>\n",
       "    </tr>\n",
       "  </thead>\n",
       "  <tbody>\n",
       "    <tr>\n",
       "      <th>0</th>\n",
       "      <td>tt0113026</td>\n",
       "      <td>10000000.0</td>\n",
       "      <td>0.0</td>\n",
       "      <td>NaN</td>\n",
       "    </tr>\n",
       "    <tr>\n",
       "      <th>1</th>\n",
       "      <td>tt0113092</td>\n",
       "      <td>0.0</td>\n",
       "      <td>0.0</td>\n",
       "      <td>NaN</td>\n",
       "    </tr>\n",
       "    <tr>\n",
       "      <th>2</th>\n",
       "      <td>tt0116391</td>\n",
       "      <td>0.0</td>\n",
       "      <td>0.0</td>\n",
       "      <td>NaN</td>\n",
       "    </tr>\n",
       "    <tr>\n",
       "      <th>3</th>\n",
       "      <td>tt0118694</td>\n",
       "      <td>150000.0</td>\n",
       "      <td>12854953.0</td>\n",
       "      <td>PG</td>\n",
       "    </tr>\n",
       "    <tr>\n",
       "      <th>4</th>\n",
       "      <td>tt0118852</td>\n",
       "      <td>0.0</td>\n",
       "      <td>0.0</td>\n",
       "      <td>R</td>\n",
       "    </tr>\n",
       "  </tbody>\n",
       "</table>\n",
       "</div>"
      ],
      "text/plain": [
       "     imdb_id      budget     revenue certifcation\n",
       "0  tt0113026  10000000.0         0.0          NaN\n",
       "1  tt0113092         0.0         0.0          NaN\n",
       "2  tt0116391         0.0         0.0          NaN\n",
       "3  tt0118694    150000.0  12854953.0           PG\n",
       "4  tt0118852         0.0         0.0            R"
      ]
     },
     "execution_count": 6,
     "metadata": {},
     "output_type": "execute_result"
    }
   ],
   "source": [
    "# Load tmbd table.\n",
    "tmbd_df = pd.read_csv('./Data/tmdb_results_combined.csv.gz')\n",
    "tmbd_df = tmbd_df[['imdb_id','budget', 'revenue','certifcation']]\n",
    "tmbd_df.head(5)"
   ]
  },
  {
   "cell_type": "markdown",
   "id": "d2c3b50a",
   "metadata": {},
   "source": [
    "## 3.- Does the MPAA rating of a movie (G/PG/PG-13/R) affect how much revenue the movie generates?"
   ]
  },
  {
   "cell_type": "code",
   "execution_count": 7,
   "id": "3a700ab7",
   "metadata": {},
   "outputs": [
    {
     "data": {
      "image/png": "[encoded data removed]",
      "text/plain": [
       "<Figure size 640x480 with 1 Axes>"
      ]
     },
     "metadata": {},
     "output_type": "display_data"
    }
   ],
   "source": [
    "# Before move forward let have a quick look.\n",
    "tmbd_df.groupby('certifcation')['revenue'].mean().plot(kind='bar', title='Revenue per MPAA Rating');"
   ]
  },
  {
   "cell_type": "code",
   "execution_count": 8,
   "id": "95554a49",
   "metadata": {},
   "outputs": [
    {
     "data": {
      "text/plain": [
       "R                                  5910\n",
       "NR                                 3273\n",
       "PG-13                              3111\n",
       "PG                                 1396\n",
       "G                                   427\n",
       "NC-17                               155\n",
       "Unrated                               5\n",
       "-                                     1\n",
       "UR                                    1\n",
       "ScreamFest Horror Film Festival       1\n",
       "R                                     1\n",
       "PG-13                                 1\n",
       "10                                    1\n",
       "Name: certifcation, dtype: int64"
      ]
     },
     "execution_count": 8,
     "metadata": {},
     "output_type": "execute_result"
    }
   ],
   "source": [
    "# Let's check column categories.\n",
    "tmbd_df['certifcation'].value_counts()"
   ]
  },
  {
   "cell_type": "code",
   "execution_count": 9,
   "id": "0be3ac76",
   "metadata": {},
   "outputs": [
    {
     "name": "stdout",
     "output_type": "stream",
     "text": [
      "<class 'pandas.core.frame.DataFrame'>\n",
      "RangeIndex: 59207 entries, 0 to 59206\n",
      "Data columns (total 4 columns):\n",
      " #   Column        Non-Null Count  Dtype  \n",
      "---  ------        --------------  -----  \n",
      " 0   imdb_id       59207 non-null  object \n",
      " 1   budget        59207 non-null  float64\n",
      " 2   revenue       59207 non-null  float64\n",
      " 3   certifcation  14283 non-null  object \n",
      "dtypes: float64(2), object(2)\n",
      "memory usage: 1.8+ MB\n"
     ]
    }
   ],
   "source": [
    "# Check general info in out df.\n",
    "tmbd_df.info()"
   ]
  },
  {
   "cell_type": "markdown",
   "id": "95ca47ce",
   "metadata": {},
   "source": [
    "**Notes:**\n",
    "- 'certifcation' column has 44,924 missing values, representing 75.9%.\n",
    "- Inside this columns, we identified some errors caused by misspelling: UR, R and PG-13. These are easy to fix without making assumptions.\n",
    "- The steps for other errors in same column will be:\n",
    "    - \"-\" is going to be inlcude on Unrated category.\n",
    "    - \"ScreamFest Horror Film Festival\" will be deleted.\n",
    "    - \"10\" will be modify to \"PG-10\"."
   ]
  },
  {
   "cell_type": "code",
   "execution_count": 10,
   "id": "9cce2b51",
   "metadata": {},
   "outputs": [
    {
     "data": {
      "text/html": [
       "<div>\n",
       "<style scoped>\n",
       "    .dataframe tbody tr th:only-of-type {\n",
       "        vertical-align: middle;\n",
       "    }\n",
       "\n",
       "    .dataframe tbody tr th {\n",
       "        vertical-align: top;\n",
       "    }\n",
       "\n",
       "    .dataframe thead th {\n",
       "        text-align: right;\n",
       "    }\n",
       "</style>\n",
       "<table border=\"1\" class=\"dataframe\">\n",
       "  <thead>\n",
       "    <tr style=\"text-align: right;\">\n",
       "      <th></th>\n",
       "      <th>imdb_id</th>\n",
       "      <th>budget</th>\n",
       "      <th>revenue</th>\n",
       "      <th>certifcation</th>\n",
       "    </tr>\n",
       "  </thead>\n",
       "  <tbody>\n",
       "    <tr>\n",
       "      <th>7052</th>\n",
       "      <td>tt0462341</td>\n",
       "      <td>0.0</td>\n",
       "      <td>0.0</td>\n",
       "      <td>ScreamFest Horror Film Festival</td>\n",
       "    </tr>\n",
       "  </tbody>\n",
       "</table>\n",
       "</div>"
      ],
      "text/plain": [
       "        imdb_id  budget  revenue                     certifcation\n",
       "7052  tt0462341     0.0      0.0  ScreamFest Horror Film Festival"
      ]
     },
     "execution_count": 10,
     "metadata": {},
     "output_type": "execute_result"
    }
   ],
   "source": [
    "# Look for 'ScreamFest Horror Film Festival' error.\n",
    "tmbd_df[tmbd_df['certifcation'] == 'ScreamFest Horror Film Festival']"
   ]
  },
  {
   "cell_type": "code",
   "execution_count": 11,
   "id": "9ceb8e0c",
   "metadata": {},
   "outputs": [],
   "source": [
    "# Drop column 7052.\n",
    "tmbd_df = tmbd_df.drop(labels=7052, axis=0)"
   ]
  },
  {
   "cell_type": "code",
   "execution_count": 12,
   "id": "d325e868",
   "metadata": {},
   "outputs": [],
   "source": [
    "# Fixing the errors.\n",
    "cert_list_replacement = {'UR':'Unrated', 'PG-13 ':'PG-13', '-':'Unrated', 'R ':'R','10':'PG-10'}\n",
    "tmbd_df['certifcation'] = tmbd_df['certifcation'].replace(cert_list_replacement)"
   ]
  },
  {
   "cell_type": "code",
   "execution_count": 13,
   "id": "73fe6ce7",
   "metadata": {},
   "outputs": [
    {
     "data": {
      "text/plain": [
       "R          5911\n",
       "NR         3273\n",
       "PG-13      3112\n",
       "PG         1396\n",
       "G           427\n",
       "NC-17       155\n",
       "Unrated       7\n",
       "PG-10         1\n",
       "Name: certifcation, dtype: int64"
      ]
     },
     "execution_count": 13,
     "metadata": {},
     "output_type": "execute_result"
    }
   ],
   "source": [
    "# Confirm modification.\n",
    "tmbd_df['certifcation'].value_counts()"
   ]
  },
  {
   "cell_type": "markdown",
   "id": "b4cc8bf7",
   "metadata": {},
   "source": [
    "**Notes:**\n",
    "- Getting back to the question to answer, our stakeholders want to know if the MPAA rating of a movie (G/PG/PG-13/R) affects how much revenue the movie generates.\n",
    "- In this case, we have a numeric data (revenue) to be compared with more than two groups, so we must run an [ANOVA Test](https://statistics.laerd.com/spss-tutorials/one-way-anova-using-spss-statistics.php)."
   ]
  },
  {
   "cell_type": "code",
   "execution_count": null,
   "id": "b12aba30",
   "metadata": {},
   "outputs": [],
   "source": [
    "# A SQL query must be written to bring the info what are looking for (MPAA ratings with genre names).\n",
    "\n",
    "\n"
   ]
  },
  {
   "cell_type": "code",
   "execution_count": null,
   "id": "67445b1e",
   "metadata": {},
   "outputs": [],
   "source": []
  },
  {
   "cell_type": "code",
   "execution_count": null,
   "id": "2a6175d6",
   "metadata": {},
   "outputs": [],
   "source": []
  },
  {
   "cell_type": "code",
   "execution_count": null,
   "id": "358c0101",
   "metadata": {},
   "outputs": [],
   "source": []
  },
  {
   "cell_type": "code",
   "execution_count": null,
   "id": "f5d906f3",
   "metadata": {},
   "outputs": [],
   "source": []
  },
  {
   "cell_type": "markdown",
   "id": "f3d23cfa",
   "metadata": {},
   "source": [
    "## 4.- Do movies that are over 2.5 hours long earn more revenue than movies that are 1.5 hours long (or less)?"
   ]
  },
  {
   "cell_type": "code",
   "execution_count": 14,
   "id": "30fce614",
   "metadata": {},
   "outputs": [],
   "source": [
    "# Create a query for title_basics_df (runtimeMinutes) with tmbd_df (revenue).\n"
   ]
  },
  {
   "cell_type": "code",
   "execution_count": null,
   "id": "952c7863",
   "metadata": {},
   "outputs": [],
   "source": []
  },
  {
   "cell_type": "code",
   "execution_count": null,
   "id": "d0d812b0",
   "metadata": {},
   "outputs": [],
   "source": []
  },
  {
   "cell_type": "markdown",
   "id": "56609c23",
   "metadata": {},
   "source": [
    "## 5.- Do movies released in 2020 earn less revenue than movies released in 2018?"
   ]
  },
  {
   "cell_type": "code",
   "execution_count": 15,
   "id": "f9d8157c",
   "metadata": {},
   "outputs": [],
   "source": [
    "# Create a query for title_basics_df (startYear) with tmbd_df (revenue).\n"
   ]
  },
  {
   "cell_type": "code",
   "execution_count": null,
   "id": "0e91c3bd",
   "metadata": {},
   "outputs": [],
   "source": []
  },
  {
   "cell_type": "code",
   "execution_count": null,
   "id": "9362309e",
   "metadata": {},
   "outputs": [],
   "source": []
  },
  {
   "cell_type": "markdown",
   "id": "e7d371e9",
   "metadata": {},
   "source": [
    "## 6.- How do the years compare for movie ratings?"
   ]
  },
  {
   "cell_type": "code",
   "execution_count": 16,
   "id": "baceb9fe",
   "metadata": {},
   "outputs": [],
   "source": [
    "# Create a query for title_basics_df (startYear) with title_ratings_df (averageRating).\n"
   ]
  },
  {
   "cell_type": "code",
   "execution_count": null,
   "id": "e89318e5",
   "metadata": {},
   "outputs": [],
   "source": []
  },
  {
   "cell_type": "code",
   "execution_count": null,
   "id": "dbece1cf",
   "metadata": {},
   "outputs": [],
   "source": []
  },
  {
   "cell_type": "code",
   "execution_count": null,
   "id": "de43781d",
   "metadata": {},
   "outputs": [],
   "source": []
  },
  {
   "cell_type": "markdown",
   "id": "8f7ae607",
   "metadata": {},
   "source": [
    "## 7.- Do some movie genres earn more revenue than others?"
   ]
  },
  {
   "cell_type": "code",
   "execution_count": 17,
   "id": "496efe2e",
   "metadata": {},
   "outputs": [],
   "source": [
    "# Create a query for tmbd_df (revenue), genres_df (genre_name) & title_genres_df."
   ]
  },
  {
   "cell_type": "code",
   "execution_count": null,
   "id": "6dce4777",
   "metadata": {},
   "outputs": [],
   "source": []
  },
  {
   "cell_type": "code",
   "execution_count": null,
   "id": "542ca11b",
   "metadata": {},
   "outputs": [],
   "source": []
  },
  {
   "cell_type": "markdown",
   "id": "12e6c424",
   "metadata": {},
   "source": [
    "## 8.- Are some genres higher rated than others?"
   ]
  },
  {
   "cell_type": "code",
   "execution_count": 18,
   "id": "98291a42",
   "metadata": {},
   "outputs": [],
   "source": [
    "# Create a query for title_ratings_df (averageRating) with genres_df (genre_name) & title_genres_df."
   ]
  },
  {
   "cell_type": "code",
   "execution_count": null,
   "id": "88779e13",
   "metadata": {},
   "outputs": [],
   "source": []
  },
  {
   "cell_type": "code",
   "execution_count": null,
   "id": "27f8002a",
   "metadata": {},
   "outputs": [],
   "source": []
  },
  {
   "cell_type": "code",
   "execution_count": null,
   "id": "feb34f54",
   "metadata": {},
   "outputs": [],
   "source": []
  },
  {
   "cell_type": "markdown",
   "id": "300f9ea7",
   "metadata": {},
   "source": [
    "# E. Conclusions"
   ]
  },
  {
   "cell_type": "markdown",
   "id": "5c54cb79",
   "metadata": {},
   "source": [
    "- Xxxxx"
   ]
  }
 ],
 "metadata": {
  "kernelspec": {
   "display_name": "Python (dojo-env)",
   "language": "python",
   "name": "dojo-env"
  },
  "language_info": {
   "codemirror_mode": {
    "name": "ipython",
    "version": 3
   },
   "file_extension": ".py",
   "mimetype": "text/x-python",
   "name": "python",
   "nbconvert_exporter": "python",
   "pygments_lexer": "ipython3",
   "version": "3.8.13"
  },
  "toc": {
   "base_numbering": 1,
   "nav_menu": {},
   "number_sections": false,
   "sideBar": true,
   "skip_h1_title": false,
   "title_cell": "Table of Contents",
   "title_sidebar": "Contents",
   "toc_cell": false,
   "toc_position": {
    "height": "calc(100% - 180px)",
    "left": "10px",
    "top": "150px",
    "width": "384px"
   },
   "toc_section_display": true,
   "toc_window_display": true
  },
  "widgets": {
   "application/vnd.jupyter.widget-state+json": {
    "state": {
     "408de78c37714f8198820d0dc176d9c1": {
      "model_module": "@jupyter-widgets/base",
      "model_module_version": "2.0.0",
      "model_name": "LayoutModel",
      "state": {}
     },
     "446000760e324746ade9d7b9038f1cc4": {
      "model_module": "@jupyter-widgets/controls",
      "model_module_version": "2.0.0",
      "model_name": "HBoxModel",
      "state": {
       "children": [
        "IPY_MODEL_96aaa0f3cbb24d248b108c482e4cc261",
        "IPY_MODEL_7b7b728eaaaa45aeb7f16763d634650a",
        "IPY_MODEL_ec90fb542a9749228f93ea3dda942e12"
       ],
       "layout": "IPY_MODEL_4df1af9f5dfe419289bd8a8a80273bc4"
      }
     },
     "48e66f4a2e054a70ba20818b72f4d020": {
      "model_module": "@jupyter-widgets/controls",
      "model_module_version": "2.0.0",
      "model_name": "HBoxModel",
      "state": {
       "children": [
        "IPY_MODEL_7916026c47e445959e54447975d74270",
        "IPY_MODEL_b2e0567157bc4e098cf95d8f06b0718f",
        "IPY_MODEL_5c6020af194c4bc1b69be26fd0313904"
       ],
       "layout": "IPY_MODEL_a31afbc0bd6742cc94c16cf867838a4e"
      }
     },
     "4df1af9f5dfe419289bd8a8a80273bc4": {
      "model_module": "@jupyter-widgets/base",
      "model_module_version": "2.0.0",
      "model_name": "LayoutModel",
      "state": {}
     },
     "54b8c839e54942baa5fdc8acc74c90da": {
      "model_module": "@jupyter-widgets/base",
      "model_module_version": "2.0.0",
      "model_name": "LayoutModel",
      "state": {}
     },
     "5c6020af194c4bc1b69be26fd0313904": {
      "model_module": "@jupyter-widgets/controls",
      "model_module_version": "2.0.0",
      "model_name": "HTMLModel",
      "state": {
       "layout": "IPY_MODEL_6c96866b05c64404a4a2ef5d55601994",
       "style": "IPY_MODEL_c8ddb203003145e2b72becc07f85cba7",
       "value": " 2/2 [30:29&lt;00:00, 923.13s/it]"
      }
     },
     "64e630cb63784c0fa9a141924f1a7090": {
      "model_module": "@jupyter-widgets/base",
      "model_module_version": "2.0.0",
      "model_name": "LayoutModel",
      "state": {}
     },
     "6c96866b05c64404a4a2ef5d55601994": {
      "model_module": "@jupyter-widgets/base",
      "model_module_version": "2.0.0",
      "model_name": "LayoutModel",
      "state": {}
     },
     "76a1d93b379e4e7eac0d6bb7cc2620ff": {
      "model_module": "@jupyter-widgets/base",
      "model_module_version": "2.0.0",
      "model_name": "LayoutModel",
      "state": {}
     },
     "7916026c47e445959e54447975d74270": {
      "model_module": "@jupyter-widgets/controls",
      "model_module_version": "2.0.0",
      "model_name": "HTMLModel",
      "state": {
       "layout": "IPY_MODEL_d71278cad2954aeea1994dda36fc69b8",
       "style": "IPY_MODEL_b8d9032614244af19585c2eba20bb23b",
       "value": "YEARS: 100%"
      }
     },
     "7b7b728eaaaa45aeb7f16763d634650a": {
      "model_module": "@jupyter-widgets/controls",
      "model_module_version": "2.0.0",
      "model_name": "FloatProgressModel",
      "state": {
       "bar_style": "success",
       "layout": "IPY_MODEL_8864c2f670d048769641bc70e2ceae8e",
       "max": 1529,
       "style": "IPY_MODEL_b839389b0ad44395bbaff42430d56f76",
       "value": 1529
      }
     },
     "7c38363a08824370a6b1a395fa2601d2": {
      "model_module": "@jupyter-widgets/controls",
      "model_module_version": "2.0.0",
      "model_name": "HTMLModel",
      "state": {
       "layout": "IPY_MODEL_54b8c839e54942baa5fdc8acc74c90da",
       "style": "IPY_MODEL_8a703167dcac47a5802843e6cab211c6",
       "value": "Movies from 2000: 100%"
      }
     },
     "8864c2f670d048769641bc70e2ceae8e": {
      "model_module": "@jupyter-widgets/base",
      "model_module_version": "2.0.0",
      "model_name": "LayoutModel",
      "state": {}
     },
     "8a703167dcac47a5802843e6cab211c6": {
      "model_module": "@jupyter-widgets/controls",
      "model_module_version": "2.0.0",
      "model_name": "HTMLStyleModel",
      "state": {
       "description_width": "",
       "font_size": null,
       "text_color": null
      }
     },
     "96aaa0f3cbb24d248b108c482e4cc261": {
      "model_module": "@jupyter-widgets/controls",
      "model_module_version": "2.0.0",
      "model_name": "HTMLModel",
      "state": {
       "layout": "IPY_MODEL_64e630cb63784c0fa9a141924f1a7090",
       "style": "IPY_MODEL_da3528c006b44690851fcc5d1a2e86d3",
       "value": "Movies from 2001: 100%"
      }
     },
     "9723abb3df5446b5beedc1dc38db541b": {
      "model_module": "@jupyter-widgets/base",
      "model_module_version": "2.0.0",
      "model_name": "LayoutModel",
      "state": {}
     },
     "9b43c3e6ff8b4b63a94e464afda84dfc": {
      "model_module": "@jupyter-widgets/base",
      "model_module_version": "2.0.0",
      "model_name": "LayoutModel",
      "state": {}
     },
     "9b579c5bd65746728f23c3dc2348df26": {
      "model_module": "@jupyter-widgets/controls",
      "model_module_version": "2.0.0",
      "model_name": "ProgressStyleModel",
      "state": {
       "description_width": ""
      }
     },
     "a31afbc0bd6742cc94c16cf867838a4e": {
      "model_module": "@jupyter-widgets/base",
      "model_module_version": "2.0.0",
      "model_name": "LayoutModel",
      "state": {}
     },
     "b2e0567157bc4e098cf95d8f06b0718f": {
      "model_module": "@jupyter-widgets/controls",
      "model_module_version": "2.0.0",
      "model_name": "FloatProgressModel",
      "state": {
       "bar_style": "success",
       "layout": "IPY_MODEL_ee904cdf44fe4a65a3b3af81e84253e6",
       "max": 2,
       "style": "IPY_MODEL_9b579c5bd65746728f23c3dc2348df26",
       "value": 2
      }
     },
     "b6da2fcc61ce46e3b63130d14f92eb06": {
      "model_module": "@jupyter-widgets/controls",
      "model_module_version": "2.0.0",
      "model_name": "HTMLStyleModel",
      "state": {
       "description_width": "",
       "font_size": null,
       "text_color": null
      }
     },
     "b839389b0ad44395bbaff42430d56f76": {
      "model_module": "@jupyter-widgets/controls",
      "model_module_version": "2.0.0",
      "model_name": "ProgressStyleModel",
      "state": {
       "description_width": ""
      }
     },
     "b8d9032614244af19585c2eba20bb23b": {
      "model_module": "@jupyter-widgets/controls",
      "model_module_version": "2.0.0",
      "model_name": "HTMLStyleModel",
      "state": {
       "description_width": "",
       "font_size": null,
       "text_color": null
      }
     },
     "baf678a84711450d97c8480c9b02bb67": {
      "model_module": "@jupyter-widgets/controls",
      "model_module_version": "2.0.0",
      "model_name": "HTMLModel",
      "state": {
       "layout": "IPY_MODEL_76a1d93b379e4e7eac0d6bb7cc2620ff",
       "style": "IPY_MODEL_e3ed08b3f9db4b5ab7eb18f123f4f918",
       "value": " 1412/1412 [14:27&lt;00:00,  3.42it/s]"
      }
     },
     "c8ddb203003145e2b72becc07f85cba7": {
      "model_module": "@jupyter-widgets/controls",
      "model_module_version": "2.0.0",
      "model_name": "HTMLStyleModel",
      "state": {
       "description_width": "",
       "font_size": null,
       "text_color": null
      }
     },
     "cd6f3a2e07f0489abfe5bb36d198fb6c": {
      "model_module": "@jupyter-widgets/controls",
      "model_module_version": "2.0.0",
      "model_name": "FloatProgressModel",
      "state": {
       "bar_style": "success",
       "layout": "IPY_MODEL_408de78c37714f8198820d0dc176d9c1",
       "max": 1412,
       "style": "IPY_MODEL_d1c1e5efbc2240faa829f591cf920091",
       "value": 1412
      }
     },
     "d1c1e5efbc2240faa829f591cf920091": {
      "model_module": "@jupyter-widgets/controls",
      "model_module_version": "2.0.0",
      "model_name": "ProgressStyleModel",
      "state": {
       "description_width": ""
      }
     },
     "d71278cad2954aeea1994dda36fc69b8": {
      "model_module": "@jupyter-widgets/base",
      "model_module_version": "2.0.0",
      "model_name": "LayoutModel",
      "state": {}
     },
     "da3528c006b44690851fcc5d1a2e86d3": {
      "model_module": "@jupyter-widgets/controls",
      "model_module_version": "2.0.0",
      "model_name": "HTMLStyleModel",
      "state": {
       "description_width": "",
       "font_size": null,
       "text_color": null
      }
     },
     "e3ed08b3f9db4b5ab7eb18f123f4f918": {
      "model_module": "@jupyter-widgets/controls",
      "model_module_version": "2.0.0",
      "model_name": "HTMLStyleModel",
      "state": {
       "description_width": "",
       "font_size": null,
       "text_color": null
      }
     },
     "ec90fb542a9749228f93ea3dda942e12": {
      "model_module": "@jupyter-widgets/controls",
      "model_module_version": "2.0.0",
      "model_name": "HTMLModel",
      "state": {
       "layout": "IPY_MODEL_9b43c3e6ff8b4b63a94e464afda84dfc",
       "style": "IPY_MODEL_b6da2fcc61ce46e3b63130d14f92eb06",
       "value": " 1529/1529 [16:01&lt;00:00,  3.06it/s]"
      }
     },
     "ee904cdf44fe4a65a3b3af81e84253e6": {
      "model_module": "@jupyter-widgets/base",
      "model_module_version": "2.0.0",
      "model_name": "LayoutModel",
      "state": {}
     },
     "fd272c8490e44cb6801b6e5ce1e5ebe9": {
      "model_module": "@jupyter-widgets/controls",
      "model_module_version": "2.0.0",
      "model_name": "HBoxModel",
      "state": {
       "children": [
        "IPY_MODEL_7c38363a08824370a6b1a395fa2601d2",
        "IPY_MODEL_cd6f3a2e07f0489abfe5bb36d198fb6c",
        "IPY_MODEL_baf678a84711450d97c8480c9b02bb67"
       ],
       "layout": "IPY_MODEL_9723abb3df5446b5beedc1dc38db541b"
      }
     }
    },
    "version_major": 2,
    "version_minor": 0
   }
  }
 },
 "nbformat": 4,
 "nbformat_minor": 5
}
