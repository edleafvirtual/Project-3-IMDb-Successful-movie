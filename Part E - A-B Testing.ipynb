{
 "cells": [
  {
   "cell_type": "markdown",
   "id": "b9928721",
   "metadata": {},
   "source": [
    "# A. Project Name:  IMDb Successful Movie.\n",
    "- **Student Name:** Eduardo Galindez.\n",
    "- **Coding Dojo Bootcamp:** Data Science.\n",
    "  - **Stack:** Data Enrichment.\n",
    "- **Date:** September 23th, 2022."
   ]
  },
  {
   "cell_type": "markdown",
   "id": "ee105cc2",
   "metadata": {},
   "source": [
    "# B. Project Objective\n",
    "For Part E of the project, we will be using our MySQL database from Part C to answer meaningful questions for the stakeholder. They want we to use our hypothesis testing and statistics knowledge to answer 3 questions about what makes a successful movie."
   ]
  },
  {
   "cell_type": "markdown",
   "id": "0887afa0",
   "metadata": {},
   "source": [
    "# C. Project Statement\n"
   ]
  },
  {
   "cell_type": "markdown",
   "id": "6c393f17",
   "metadata": {},
   "source": [
    "### Questions to Answer:\n",
    "The stakeholder's first question is: \n",
    "1. Does the MPAA rating of a movie (G/PG/PG-13/R) affect how much revenue the movie generates?\n",
    "    - They want we to perform a statistical test to get a mathematically-supported answer.\n",
    "    - They want we to report if we found a significant difference between ratings.\n",
    "        - If so, what was the p-value of you analysis?\n",
    "        - And which rating earns the most revenue?\n",
    "    - They want we to prepare a visualization that supports your finding."
   ]
  },
  {
   "cell_type": "markdown",
   "id": "5dfe86b9",
   "metadata": {},
   "source": [
    "2. It is then up to we to think of 2 additional hypotheses to test that your stakeholder may want to know."
   ]
  },
  {
   "cell_type": "markdown",
   "id": "206252a6",
   "metadata": {},
   "source": [
    "3. Some example hypotheses we could test:\n",
    "- Do movies that are over 2.5 hours long earn more revenue than movies that are 1.5 hours long (or less)?\n",
    "- Do movies released in 2020 earn less revenue than movies released in 2018?\n",
    "- How do the years compare for movie ratings?\n",
    "- Do some movie genres earn more revenue than others?\n",
    "- Are some genres higher rated than others? etc."
   ]
  },
  {
   "cell_type": "markdown",
   "id": "87dba2c0",
   "metadata": {},
   "source": [
    "# D. Project Development"
   ]
  },
  {
   "cell_type": "markdown",
   "id": "9f8260b5",
   "metadata": {},
   "source": [
    "## 1.- Libraries & Functions"
   ]
  },
  {
   "cell_type": "code",
   "execution_count": 2,
   "id": "1494bf3e",
   "metadata": {},
   "outputs": [],
   "source": [
    "# Libraries.\n",
    "import numpy as np\n",
    "import pandas as pd\n",
    "import tmdbsimple as tmdb \n",
    "import matplotlib.pyplot as plt\n",
    "import seaborn as sns\n",
    "\n",
    "from tqdm.notebook import tqdm_notebook"
   ]
  },
  {
   "cell_type": "code",
   "execution_count": null,
   "id": "22eeda6a",
   "metadata": {},
   "outputs": [],
   "source": []
  },
  {
   "cell_type": "markdown",
   "id": "9bee975a",
   "metadata": {},
   "source": [
    "## 2.-  Data & Connection"
   ]
  },
  {
   "cell_type": "markdown",
   "id": "1b8c309f",
   "metadata": {},
   "source": [
    "### 2.2.- Loading data.\n",
    "- The data to work with is from Part D."
   ]
  },
  {
   "cell_type": "code",
   "execution_count": null,
   "id": "b3576a48",
   "metadata": {},
   "outputs": [],
   "source": [
    "# Load basics.\n",
    "title_basics_df = pd.read_csv('./D')"
   ]
  },
  {
   "cell_type": "code",
   "execution_count": null,
   "id": "7ebf2720",
   "metadata": {},
   "outputs": [],
   "source": []
  },
  {
   "cell_type": "code",
   "execution_count": null,
   "id": "d5f9fecb",
   "metadata": {},
   "outputs": [],
   "source": []
  },
  {
   "cell_type": "code",
   "execution_count": null,
   "id": "e877ed98",
   "metadata": {},
   "outputs": [],
   "source": []
  },
  {
   "cell_type": "code",
   "execution_count": 4,
   "id": "2ebdedb9",
   "metadata": {},
   "outputs": [
    {
     "data": {
      "text/html": [
       "<div>\n",
       "<style scoped>\n",
       "    .dataframe tbody tr th:only-of-type {\n",
       "        vertical-align: middle;\n",
       "    }\n",
       "\n",
       "    .dataframe tbody tr th {\n",
       "        vertical-align: top;\n",
       "    }\n",
       "\n",
       "    .dataframe thead th {\n",
       "        text-align: right;\n",
       "    }\n",
       "</style>\n",
       "<table border=\"1\" class=\"dataframe\">\n",
       "  <thead>\n",
       "    <tr style=\"text-align: right;\">\n",
       "      <th></th>\n",
       "      <th>imdb_id</th>\n",
       "      <th>adult</th>\n",
       "      <th>backdrop_path</th>\n",
       "      <th>belongs_to_collection</th>\n",
       "      <th>budget</th>\n",
       "      <th>genres</th>\n",
       "      <th>homepage</th>\n",
       "      <th>id</th>\n",
       "      <th>original_language</th>\n",
       "      <th>original_title</th>\n",
       "      <th>...</th>\n",
       "      <th>revenue</th>\n",
       "      <th>runtime</th>\n",
       "      <th>spoken_languages</th>\n",
       "      <th>status</th>\n",
       "      <th>tagline</th>\n",
       "      <th>title</th>\n",
       "      <th>video</th>\n",
       "      <th>vote_average</th>\n",
       "      <th>vote_count</th>\n",
       "      <th>certifcation</th>\n",
       "    </tr>\n",
       "  </thead>\n",
       "  <tbody>\n",
       "    <tr>\n",
       "      <th>0</th>\n",
       "      <td>tt0113026</td>\n",
       "      <td>0.0</td>\n",
       "      <td>/vMFs7nw6P0bIV1jDsQpxAieAVnH.jpg</td>\n",
       "      <td>NaN</td>\n",
       "      <td>10000000.0</td>\n",
       "      <td>[{'id': 35, 'name': 'Comedy'}, {'id': 10402, '...</td>\n",
       "      <td>NaN</td>\n",
       "      <td>62127.0</td>\n",
       "      <td>en</td>\n",
       "      <td>The Fantasticks</td>\n",
       "      <td>...</td>\n",
       "      <td>0.0</td>\n",
       "      <td>86.0</td>\n",
       "      <td>[{'english_name': 'English', 'iso_639_1': 'en'...</td>\n",
       "      <td>Released</td>\n",
       "      <td>Try to remember the first time magic happened</td>\n",
       "      <td>The Fantasticks</td>\n",
       "      <td>0.0</td>\n",
       "      <td>5.500</td>\n",
       "      <td>22.0</td>\n",
       "      <td>NaN</td>\n",
       "    </tr>\n",
       "    <tr>\n",
       "      <th>1</th>\n",
       "      <td>tt0113092</td>\n",
       "      <td>0.0</td>\n",
       "      <td>NaN</td>\n",
       "      <td>NaN</td>\n",
       "      <td>0.0</td>\n",
       "      <td>[{'id': 878, 'name': 'Science Fiction'}]</td>\n",
       "      <td>NaN</td>\n",
       "      <td>110977.0</td>\n",
       "      <td>en</td>\n",
       "      <td>For the Cause</td>\n",
       "      <td>...</td>\n",
       "      <td>0.0</td>\n",
       "      <td>100.0</td>\n",
       "      <td>[{'english_name': 'English', 'iso_639_1': 'en'...</td>\n",
       "      <td>Released</td>\n",
       "      <td>The ultimate showdown on a forbidden planet.</td>\n",
       "      <td>For the Cause</td>\n",
       "      <td>0.0</td>\n",
       "      <td>5.100</td>\n",
       "      <td>8.0</td>\n",
       "      <td>NaN</td>\n",
       "    </tr>\n",
       "    <tr>\n",
       "      <th>2</th>\n",
       "      <td>tt0116391</td>\n",
       "      <td>0.0</td>\n",
       "      <td>NaN</td>\n",
       "      <td>NaN</td>\n",
       "      <td>0.0</td>\n",
       "      <td>[{'id': 18, 'name': 'Drama'}, {'id': 28, 'name...</td>\n",
       "      <td>NaN</td>\n",
       "      <td>442869.0</td>\n",
       "      <td>hi</td>\n",
       "      <td>Gang</td>\n",
       "      <td>...</td>\n",
       "      <td>0.0</td>\n",
       "      <td>152.0</td>\n",
       "      <td>[{'english_name': 'Hindi', 'iso_639_1': 'hi', ...</td>\n",
       "      <td>Released</td>\n",
       "      <td>NaN</td>\n",
       "      <td>Gang</td>\n",
       "      <td>0.0</td>\n",
       "      <td>0.000</td>\n",
       "      <td>0.0</td>\n",
       "      <td>NaN</td>\n",
       "    </tr>\n",
       "    <tr>\n",
       "      <th>3</th>\n",
       "      <td>tt0118694</td>\n",
       "      <td>0.0</td>\n",
       "      <td>/n4GJFGzsc7NinI1VeGDXIcQjtU2.jpg</td>\n",
       "      <td>NaN</td>\n",
       "      <td>150000.0</td>\n",
       "      <td>[{'id': 18, 'name': 'Drama'}, {'id': 10749, 'n...</td>\n",
       "      <td>http://www.wkw-inthemoodforlove.com/</td>\n",
       "      <td>843.0</td>\n",
       "      <td>cn</td>\n",
       "      <td>花樣年華</td>\n",
       "      <td>...</td>\n",
       "      <td>12854953.0</td>\n",
       "      <td>99.0</td>\n",
       "      <td>[{'english_name': 'Cantonese', 'iso_639_1': 'c...</td>\n",
       "      <td>Released</td>\n",
       "      <td>Feel the heat, keep the feeling burning, let t...</td>\n",
       "      <td>In the Mood for Love</td>\n",
       "      <td>0.0</td>\n",
       "      <td>8.110</td>\n",
       "      <td>1984.0</td>\n",
       "      <td>PG</td>\n",
       "    </tr>\n",
       "    <tr>\n",
       "      <th>4</th>\n",
       "      <td>tt0118852</td>\n",
       "      <td>0.0</td>\n",
       "      <td>NaN</td>\n",
       "      <td>NaN</td>\n",
       "      <td>0.0</td>\n",
       "      <td>[{'id': 18, 'name': 'Drama'}]</td>\n",
       "      <td>NaN</td>\n",
       "      <td>49511.0</td>\n",
       "      <td>en</td>\n",
       "      <td>Chinese Coffee</td>\n",
       "      <td>...</td>\n",
       "      <td>0.0</td>\n",
       "      <td>99.0</td>\n",
       "      <td>[{'english_name': 'English', 'iso_639_1': 'en'...</td>\n",
       "      <td>Released</td>\n",
       "      <td>There's a fine line between friendship and bet...</td>\n",
       "      <td>Chinese Coffee</td>\n",
       "      <td>0.0</td>\n",
       "      <td>6.851</td>\n",
       "      <td>47.0</td>\n",
       "      <td>R</td>\n",
       "    </tr>\n",
       "  </tbody>\n",
       "</table>\n",
       "<p>5 rows × 26 columns</p>\n",
       "</div>"
      ],
      "text/plain": [
       "     imdb_id  adult                     backdrop_path belongs_to_collection  \\\n",
       "0  tt0113026    0.0  /vMFs7nw6P0bIV1jDsQpxAieAVnH.jpg                   NaN   \n",
       "1  tt0113092    0.0                               NaN                   NaN   \n",
       "2  tt0116391    0.0                               NaN                   NaN   \n",
       "3  tt0118694    0.0  /n4GJFGzsc7NinI1VeGDXIcQjtU2.jpg                   NaN   \n",
       "4  tt0118852    0.0                               NaN                   NaN   \n",
       "\n",
       "       budget                                             genres  \\\n",
       "0  10000000.0  [{'id': 35, 'name': 'Comedy'}, {'id': 10402, '...   \n",
       "1         0.0           [{'id': 878, 'name': 'Science Fiction'}]   \n",
       "2         0.0  [{'id': 18, 'name': 'Drama'}, {'id': 28, 'name...   \n",
       "3    150000.0  [{'id': 18, 'name': 'Drama'}, {'id': 10749, 'n...   \n",
       "4         0.0                      [{'id': 18, 'name': 'Drama'}]   \n",
       "\n",
       "                               homepage        id original_language  \\\n",
       "0                                   NaN   62127.0                en   \n",
       "1                                   NaN  110977.0                en   \n",
       "2                                   NaN  442869.0                hi   \n",
       "3  http://www.wkw-inthemoodforlove.com/     843.0                cn   \n",
       "4                                   NaN   49511.0                en   \n",
       "\n",
       "    original_title  ...     revenue  runtime  \\\n",
       "0  The Fantasticks  ...         0.0     86.0   \n",
       "1    For the Cause  ...         0.0    100.0   \n",
       "2             Gang  ...         0.0    152.0   \n",
       "3             花樣年華  ...  12854953.0     99.0   \n",
       "4   Chinese Coffee  ...         0.0     99.0   \n",
       "\n",
       "                                    spoken_languages    status  \\\n",
       "0  [{'english_name': 'English', 'iso_639_1': 'en'...  Released   \n",
       "1  [{'english_name': 'English', 'iso_639_1': 'en'...  Released   \n",
       "2  [{'english_name': 'Hindi', 'iso_639_1': 'hi', ...  Released   \n",
       "3  [{'english_name': 'Cantonese', 'iso_639_1': 'c...  Released   \n",
       "4  [{'english_name': 'English', 'iso_639_1': 'en'...  Released   \n",
       "\n",
       "                                             tagline                 title  \\\n",
       "0      Try to remember the first time magic happened       The Fantasticks   \n",
       "1       The ultimate showdown on a forbidden planet.         For the Cause   \n",
       "2                                                NaN                  Gang   \n",
       "3  Feel the heat, keep the feeling burning, let t...  In the Mood for Love   \n",
       "4  There's a fine line between friendship and bet...        Chinese Coffee   \n",
       "\n",
       "   video  vote_average vote_count certifcation  \n",
       "0    0.0         5.500       22.0          NaN  \n",
       "1    0.0         5.100        8.0          NaN  \n",
       "2    0.0         0.000        0.0          NaN  \n",
       "3    0.0         8.110     1984.0           PG  \n",
       "4    0.0         6.851       47.0            R  \n",
       "\n",
       "[5 rows x 26 columns]"
      ]
     },
     "execution_count": 4,
     "metadata": {},
     "output_type": "execute_result"
    }
   ],
   "source": [
    "# Load combine dataframe from Part D:\n",
    "df = pd.read_csv('./Data/tmdb_results_combined.csv.gz')\n",
    "#tmbd_data = tmbd_df[['imdb_id','budget', 'revenue','certifcation']]\n",
    "df.head(5)"
   ]
  },
  {
   "cell_type": "code",
   "execution_count": null,
   "id": "40bc8283",
   "metadata": {},
   "outputs": [],
   "source": []
  },
  {
   "cell_type": "code",
   "execution_count": null,
   "id": "5212878e",
   "metadata": {},
   "outputs": [],
   "source": []
  },
  {
   "cell_type": "markdown",
   "id": "46fdb211",
   "metadata": {},
   "source": [
    "### 2.3.- Get Budget, Revenue and Certification per movie tested in Section 2.1."
   ]
  },
  {
   "cell_type": "markdown",
   "id": "7030a8a2",
   "metadata": {},
   "source": [
    "#### 2.3.1.- The Avengers"
   ]
  },
  {
   "cell_type": "code",
   "execution_count": null,
   "id": "a58285e6",
   "metadata": {},
   "outputs": [],
   "source": []
  },
  {
   "cell_type": "markdown",
   "id": "2c352365",
   "metadata": {},
   "source": [
    "#### 2.3.2.- The Notebook"
   ]
  },
  {
   "cell_type": "code",
   "execution_count": null,
   "id": "3703c4fc",
   "metadata": {},
   "outputs": [],
   "source": []
  },
  {
   "cell_type": "markdown",
   "id": "d2c3b50a",
   "metadata": {},
   "source": [
    "## 3.- Visual Data Exploration"
   ]
  },
  {
   "cell_type": "markdown",
   "id": "819a03bb",
   "metadata": {},
   "source": [
    "### 3.1.- How many movies had at least some valid financial information (values > 0 for budget OR revenue)?\n",
    "Please exclude any movies with 0's for budget AND revenue from the remaining visualizations."
   ]
  },
  {
   "cell_type": "code",
   "execution_count": null,
   "id": "3a700ab7",
   "metadata": {},
   "outputs": [],
   "source": []
  },
  {
   "cell_type": "markdown",
   "id": "744d27f5",
   "metadata": {},
   "source": [
    "**Notes:**\n",
    "- We identified there is still missing data in our 'certification' column, even after filtering.\n",
    "- The impact of these missing data has been reduced to 12.6%."
   ]
  },
  {
   "cell_type": "markdown",
   "id": "83d7c346",
   "metadata": {},
   "source": [
    "### 3.2.- How many movies are there in each of the certification categories (G/PG/PG-13/R)?"
   ]
  },
  {
   "cell_type": "code",
   "execution_count": null,
   "id": "0267b117",
   "metadata": {},
   "outputs": [],
   "source": []
  },
  {
   "cell_type": "markdown",
   "id": "19169359",
   "metadata": {},
   "source": [
    "### 3.3.- What is the average revenue per certification category?"
   ]
  },
  {
   "cell_type": "code",
   "execution_count": null,
   "id": "84486944",
   "metadata": {},
   "outputs": [],
   "source": []
  },
  {
   "cell_type": "markdown",
   "id": "6abf55ec",
   "metadata": {},
   "source": [
    "### 3.4.- What is the average budget per certification category?"
   ]
  },
  {
   "cell_type": "code",
   "execution_count": null,
   "id": "d5a65547",
   "metadata": {},
   "outputs": [],
   "source": []
  },
  {
   "cell_type": "markdown",
   "id": "2af14a5f",
   "metadata": {},
   "source": [
    "### 3.5.- What is the average ROI (Return of Investment) per certification category?\n",
    "- In Section 2.3, we calculated the ROI of The Avengers and The Notebook movies. \n",
    "- In this Section we are going to analyze if those financial performance are usual in movies, in order to evaluate which type of movie are more profitable related with MPAA Rating (certification)."
   ]
  },
  {
   "cell_type": "code",
   "execution_count": null,
   "id": "95554a49",
   "metadata": {},
   "outputs": [],
   "source": []
  },
  {
   "cell_type": "markdown",
   "id": "300f9ea7",
   "metadata": {},
   "source": [
    "# E. Conclusions"
   ]
  },
  {
   "cell_type": "markdown",
   "id": "5c54cb79",
   "metadata": {},
   "source": [
    "- In 2000 and 2001, rating R accounted for almost 67% of the movies made, but was not among the top three in profitability.\n",
    "- During the same time period, PG movies accounted for 8% of films made, and they were identified as the most profitable.\n",
    "- There were 8.86% of projects with positive ROI, which raised suspicions about the data's reliability. There might need to be a more in-depth study."
   ]
  }
 ],
 "metadata": {
  "kernelspec": {
   "display_name": "Python (dojo-env)",
   "language": "python",
   "name": "dojo-env"
  },
  "language_info": {
   "codemirror_mode": {
    "name": "ipython",
    "version": 3
   },
   "file_extension": ".py",
   "mimetype": "text/x-python",
   "name": "python",
   "nbconvert_exporter": "python",
   "pygments_lexer": "ipython3",
   "version": "3.8.13"
  },
  "toc": {
   "base_numbering": 1,
   "nav_menu": {},
   "number_sections": false,
   "sideBar": true,
   "skip_h1_title": false,
   "title_cell": "Table of Contents",
   "title_sidebar": "Contents",
   "toc_cell": false,
   "toc_position": {
    "height": "calc(100% - 180px)",
    "left": "10px",
    "top": "150px",
    "width": "384px"
   },
   "toc_section_display": true,
   "toc_window_display": true
  },
  "widgets": {
   "application/vnd.jupyter.widget-state+json": {
    "state": {
     "408de78c37714f8198820d0dc176d9c1": {
      "model_module": "@jupyter-widgets/base",
      "model_module_version": "2.0.0",
      "model_name": "LayoutModel",
      "state": {}
     },
     "446000760e324746ade9d7b9038f1cc4": {
      "model_module": "@jupyter-widgets/controls",
      "model_module_version": "2.0.0",
      "model_name": "HBoxModel",
      "state": {
       "children": [
        "IPY_MODEL_96aaa0f3cbb24d248b108c482e4cc261",
        "IPY_MODEL_7b7b728eaaaa45aeb7f16763d634650a",
        "IPY_MODEL_ec90fb542a9749228f93ea3dda942e12"
       ],
       "layout": "IPY_MODEL_4df1af9f5dfe419289bd8a8a80273bc4"
      }
     },
     "48e66f4a2e054a70ba20818b72f4d020": {
      "model_module": "@jupyter-widgets/controls",
      "model_module_version": "2.0.0",
      "model_name": "HBoxModel",
      "state": {
       "children": [
        "IPY_MODEL_7916026c47e445959e54447975d74270",
        "IPY_MODEL_b2e0567157bc4e098cf95d8f06b0718f",
        "IPY_MODEL_5c6020af194c4bc1b69be26fd0313904"
       ],
       "layout": "IPY_MODEL_a31afbc0bd6742cc94c16cf867838a4e"
      }
     },
     "4df1af9f5dfe419289bd8a8a80273bc4": {
      "model_module": "@jupyter-widgets/base",
      "model_module_version": "2.0.0",
      "model_name": "LayoutModel",
      "state": {}
     },
     "54b8c839e54942baa5fdc8acc74c90da": {
      "model_module": "@jupyter-widgets/base",
      "model_module_version": "2.0.0",
      "model_name": "LayoutModel",
      "state": {}
     },
     "5c6020af194c4bc1b69be26fd0313904": {
      "model_module": "@jupyter-widgets/controls",
      "model_module_version": "2.0.0",
      "model_name": "HTMLModel",
      "state": {
       "layout": "IPY_MODEL_6c96866b05c64404a4a2ef5d55601994",
       "style": "IPY_MODEL_c8ddb203003145e2b72becc07f85cba7",
       "value": " 2/2 [30:29&lt;00:00, 923.13s/it]"
      }
     },
     "64e630cb63784c0fa9a141924f1a7090": {
      "model_module": "@jupyter-widgets/base",
      "model_module_version": "2.0.0",
      "model_name": "LayoutModel",
      "state": {}
     },
     "6c96866b05c64404a4a2ef5d55601994": {
      "model_module": "@jupyter-widgets/base",
      "model_module_version": "2.0.0",
      "model_name": "LayoutModel",
      "state": {}
     },
     "76a1d93b379e4e7eac0d6bb7cc2620ff": {
      "model_module": "@jupyter-widgets/base",
      "model_module_version": "2.0.0",
      "model_name": "LayoutModel",
      "state": {}
     },
     "7916026c47e445959e54447975d74270": {
      "model_module": "@jupyter-widgets/controls",
      "model_module_version": "2.0.0",
      "model_name": "HTMLModel",
      "state": {
       "layout": "IPY_MODEL_d71278cad2954aeea1994dda36fc69b8",
       "style": "IPY_MODEL_b8d9032614244af19585c2eba20bb23b",
       "value": "YEARS: 100%"
      }
     },
     "7b7b728eaaaa45aeb7f16763d634650a": {
      "model_module": "@jupyter-widgets/controls",
      "model_module_version": "2.0.0",
      "model_name": "FloatProgressModel",
      "state": {
       "bar_style": "success",
       "layout": "IPY_MODEL_8864c2f670d048769641bc70e2ceae8e",
       "max": 1529,
       "style": "IPY_MODEL_b839389b0ad44395bbaff42430d56f76",
       "value": 1529
      }
     },
     "7c38363a08824370a6b1a395fa2601d2": {
      "model_module": "@jupyter-widgets/controls",
      "model_module_version": "2.0.0",
      "model_name": "HTMLModel",
      "state": {
       "layout": "IPY_MODEL_54b8c839e54942baa5fdc8acc74c90da",
       "style": "IPY_MODEL_8a703167dcac47a5802843e6cab211c6",
       "value": "Movies from 2000: 100%"
      }
     },
     "8864c2f670d048769641bc70e2ceae8e": {
      "model_module": "@jupyter-widgets/base",
      "model_module_version": "2.0.0",
      "model_name": "LayoutModel",
      "state": {}
     },
     "8a703167dcac47a5802843e6cab211c6": {
      "model_module": "@jupyter-widgets/controls",
      "model_module_version": "2.0.0",
      "model_name": "HTMLStyleModel",
      "state": {
       "description_width": "",
       "font_size": null,
       "text_color": null
      }
     },
     "96aaa0f3cbb24d248b108c482e4cc261": {
      "model_module": "@jupyter-widgets/controls",
      "model_module_version": "2.0.0",
      "model_name": "HTMLModel",
      "state": {
       "layout": "IPY_MODEL_64e630cb63784c0fa9a141924f1a7090",
       "style": "IPY_MODEL_da3528c006b44690851fcc5d1a2e86d3",
       "value": "Movies from 2001: 100%"
      }
     },
     "9723abb3df5446b5beedc1dc38db541b": {
      "model_module": "@jupyter-widgets/base",
      "model_module_version": "2.0.0",
      "model_name": "LayoutModel",
      "state": {}
     },
     "9b43c3e6ff8b4b63a94e464afda84dfc": {
      "model_module": "@jupyter-widgets/base",
      "model_module_version": "2.0.0",
      "model_name": "LayoutModel",
      "state": {}
     },
     "9b579c5bd65746728f23c3dc2348df26": {
      "model_module": "@jupyter-widgets/controls",
      "model_module_version": "2.0.0",
      "model_name": "ProgressStyleModel",
      "state": {
       "description_width": ""
      }
     },
     "a31afbc0bd6742cc94c16cf867838a4e": {
      "model_module": "@jupyter-widgets/base",
      "model_module_version": "2.0.0",
      "model_name": "LayoutModel",
      "state": {}
     },
     "b2e0567157bc4e098cf95d8f06b0718f": {
      "model_module": "@jupyter-widgets/controls",
      "model_module_version": "2.0.0",
      "model_name": "FloatProgressModel",
      "state": {
       "bar_style": "success",
       "layout": "IPY_MODEL_ee904cdf44fe4a65a3b3af81e84253e6",
       "max": 2,
       "style": "IPY_MODEL_9b579c5bd65746728f23c3dc2348df26",
       "value": 2
      }
     },
     "b6da2fcc61ce46e3b63130d14f92eb06": {
      "model_module": "@jupyter-widgets/controls",
      "model_module_version": "2.0.0",
      "model_name": "HTMLStyleModel",
      "state": {
       "description_width": "",
       "font_size": null,
       "text_color": null
      }
     },
     "b839389b0ad44395bbaff42430d56f76": {
      "model_module": "@jupyter-widgets/controls",
      "model_module_version": "2.0.0",
      "model_name": "ProgressStyleModel",
      "state": {
       "description_width": ""
      }
     },
     "b8d9032614244af19585c2eba20bb23b": {
      "model_module": "@jupyter-widgets/controls",
      "model_module_version": "2.0.0",
      "model_name": "HTMLStyleModel",
      "state": {
       "description_width": "",
       "font_size": null,
       "text_color": null
      }
     },
     "baf678a84711450d97c8480c9b02bb67": {
      "model_module": "@jupyter-widgets/controls",
      "model_module_version": "2.0.0",
      "model_name": "HTMLModel",
      "state": {
       "layout": "IPY_MODEL_76a1d93b379e4e7eac0d6bb7cc2620ff",
       "style": "IPY_MODEL_e3ed08b3f9db4b5ab7eb18f123f4f918",
       "value": " 1412/1412 [14:27&lt;00:00,  3.42it/s]"
      }
     },
     "c8ddb203003145e2b72becc07f85cba7": {
      "model_module": "@jupyter-widgets/controls",
      "model_module_version": "2.0.0",
      "model_name": "HTMLStyleModel",
      "state": {
       "description_width": "",
       "font_size": null,
       "text_color": null
      }
     },
     "cd6f3a2e07f0489abfe5bb36d198fb6c": {
      "model_module": "@jupyter-widgets/controls",
      "model_module_version": "2.0.0",
      "model_name": "FloatProgressModel",
      "state": {
       "bar_style": "success",
       "layout": "IPY_MODEL_408de78c37714f8198820d0dc176d9c1",
       "max": 1412,
       "style": "IPY_MODEL_d1c1e5efbc2240faa829f591cf920091",
       "value": 1412
      }
     },
     "d1c1e5efbc2240faa829f591cf920091": {
      "model_module": "@jupyter-widgets/controls",
      "model_module_version": "2.0.0",
      "model_name": "ProgressStyleModel",
      "state": {
       "description_width": ""
      }
     },
     "d71278cad2954aeea1994dda36fc69b8": {
      "model_module": "@jupyter-widgets/base",
      "model_module_version": "2.0.0",
      "model_name": "LayoutModel",
      "state": {}
     },
     "da3528c006b44690851fcc5d1a2e86d3": {
      "model_module": "@jupyter-widgets/controls",
      "model_module_version": "2.0.0",
      "model_name": "HTMLStyleModel",
      "state": {
       "description_width": "",
       "font_size": null,
       "text_color": null
      }
     },
     "e3ed08b3f9db4b5ab7eb18f123f4f918": {
      "model_module": "@jupyter-widgets/controls",
      "model_module_version": "2.0.0",
      "model_name": "HTMLStyleModel",
      "state": {
       "description_width": "",
       "font_size": null,
       "text_color": null
      }
     },
     "ec90fb542a9749228f93ea3dda942e12": {
      "model_module": "@jupyter-widgets/controls",
      "model_module_version": "2.0.0",
      "model_name": "HTMLModel",
      "state": {
       "layout": "IPY_MODEL_9b43c3e6ff8b4b63a94e464afda84dfc",
       "style": "IPY_MODEL_b6da2fcc61ce46e3b63130d14f92eb06",
       "value": " 1529/1529 [16:01&lt;00:00,  3.06it/s]"
      }
     },
     "ee904cdf44fe4a65a3b3af81e84253e6": {
      "model_module": "@jupyter-widgets/base",
      "model_module_version": "2.0.0",
      "model_name": "LayoutModel",
      "state": {}
     },
     "fd272c8490e44cb6801b6e5ce1e5ebe9": {
      "model_module": "@jupyter-widgets/controls",
      "model_module_version": "2.0.0",
      "model_name": "HBoxModel",
      "state": {
       "children": [
        "IPY_MODEL_7c38363a08824370a6b1a395fa2601d2",
        "IPY_MODEL_cd6f3a2e07f0489abfe5bb36d198fb6c",
        "IPY_MODEL_baf678a84711450d97c8480c9b02bb67"
       ],
       "layout": "IPY_MODEL_9723abb3df5446b5beedc1dc38db541b"
      }
     }
    },
    "version_major": 2,
    "version_minor": 0
   }
  }
 },
 "nbformat": 4,
 "nbformat_minor": 5
}
